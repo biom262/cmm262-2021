{
 "cells": [
  {
   "cell_type": "markdown",
   "metadata": {},
   "source": [
    "# CMM262: RNA-sequencing, Day 2 (RNA-seq Differential Expression Analysis)\n",
    "\n",
    "**Authors:** Michelle Franc Ragsac (mragsac@eng.ucsd.edu) \n",
    "\n",
    "*Based on the DESeq R Markdown notebook from CMM262 taught in Winter 2020* \n",
    "\n",
    "Now that we've gone through the beginning of the RNA-sequencing analysis pipeline to transform our FASTQ sequencing data to, eventually, a counts matrix to show the number of reads we have for each gene in our experiment, we can use the `DESeq2` package in the R programming language to determine the *differentially expressed* genes present in our experiment. \n",
    "\n",
    "### Table of Contents\n",
    "\n",
    "1. Define Differential Expression Parameters for `DESeq2` \n",
    "2. Perform Quality Control with Built-In `DESeq2` Methods\n",
    "3. Perform Differential Expression Analysis on our Dataset\n",
    "4. Generating MA-Plots to Determine the Differences between Samples\n",
    "5. Visualizing Significant Results with Volcano Plots\n",
    "6. Using the `biomaRt` Library to Convert ENSEMBL Gene Identifiers to HSNC Gene Symbols \n",
    "\n",
    "---\n",
    "\n",
    "## Performing Differential Expression Analyses with the `DESeq2` Library \n",
    "\n",
    "### Import the Packages We'll be Using in this Portion of the Notebook"
   ]
  },
  {
   "cell_type": "code",
   "execution_count": null,
   "metadata": {},
   "outputs": [],
   "source": [
    "# First, import/load in the DESeq2 library into our notebook\n",
    "library(DESeq2)\n",
    "\n",
    "# Next, import/load in the ggplot2 and RColorBrewer packages for result exploration\n",
    "library(ggplot2)\n",
    "library(RColorBrewer)"
   ]
  },
  {
   "cell_type": "markdown",
   "metadata": {},
   "source": [
    "### Load in the RNA-Sequencing Dataset using the `read.csv()` Method on our Counts Matrix and Labels File"
   ]
  },
  {
   "cell_type": "code",
   "execution_count": null,
   "metadata": {},
   "outputs": [],
   "source": [
    "# Because DESeq2 works with raw count matrices and uses the row names as identifiers \n",
    "# for our genes, we'll import the data accordingly with the read.csv() method!\n",
    "counts <- read.csv('data/asm_dex_counts.txt', \n",
    "                   sep = \"\\t\",    # specify that our data is tab-delimited \n",
    "                   row.names = 1, # designate the row with gene names present\n",
    "                   header = TRUE) # state that we have a header already present\n",
    "\n",
    "# After importing in the data, let's preview the contents with the head() method\n",
    "head(counts)"
   ]
  },
  {
   "cell_type": "code",
   "execution_count": null,
   "metadata": {},
   "outputs": [],
   "source": [
    "# We also need our condition identifiers so DESeq2 knows what groups to compare against each other \n",
    "col.data <- read.csv('data/asm_dex_labels.txt', sep = '\\t', header = TRUE, row.names = 1)\n",
    "head(col.data)"
   ]
  },
  {
   "cell_type": "markdown",
   "metadata": {},
   "source": [
    "---\n",
    "\n",
    "## Defining Experimental Parameters for `DESeq2` with the `DESeqDataSetFromMatrix()` Method"
   ]
  },
  {
   "cell_type": "code",
   "execution_count": null,
   "metadata": {},
   "outputs": [],
   "source": [
    "# Generate the DESeq2DataSet object using our counts matrix values and labels \n",
    "dds <- DESeqDataSetFromMatrix(countData = counts,   # specify the counts matrix to use \n",
    "                              colData = col.data,   # specify our sample groupings \n",
    "                              design = ~ condition) # state we would like to model the condition of our groupings\n",
    "\n",
    "# Now that we've generate the DESeq2DataSet object, let's preview the contents of the object!\n",
    "dds "
   ]
  },
  {
   "cell_type": "markdown",
   "metadata": {},
   "source": [
    "---\n",
    "\n",
    "## Performing Data Quality Control with Built-In `DESeq2` Methods\n",
    "\n",
    "### Applying a Regularized Log-Transformation with the `rlog()` Method"
   ]
  },
  {
   "cell_type": "code",
   "execution_count": null,
   "metadata": {},
   "outputs": [],
   "source": [
    "rld <- rlog(dds)"
   ]
  },
  {
   "cell_type": "markdown",
   "metadata": {},
   "source": [
    "### Visualizing Sample Separation with Principal Component Analysis (PCA) via the `plotPCA()` Method"
   ]
  },
  {
   "cell_type": "code",
   "execution_count": null,
   "metadata": {},
   "outputs": [],
   "source": [
    "data <- plotPCA(rld, intgroup = 'condition', returnData = TRUE)\n",
    "percent.var <- round(100 * attr(data, 'percentVar'))"
   ]
  },
  {
   "cell_type": "code",
   "execution_count": null,
   "metadata": {},
   "outputs": [],
   "source": [
    "ggplot(data, aes(x = PC1, y = PC2, color = condition)) +\n",
    "    geom_point(size = 5) + \n",
    "    xlab(paste(\"PC1: \", percent.var[1], \"%variance\")) +\n",
    "    ylab(paste(\"PC2: \", percent.var[2], \"%variance\"))"
   ]
  },
  {
   "cell_type": "markdown",
   "metadata": {},
   "source": [
    "### Visualizing Sample Similarities with a Heatmap using the `heatmap()` Method"
   ]
  },
  {
   "cell_type": "code",
   "execution_count": null,
   "metadata": {},
   "outputs": [],
   "source": [
    "sample.distances <- dist(t(assay(rld)))\n",
    "sample.distances.matrix <- as.matrix(sample.distances)\n",
    "\n",
    "rownames(sample.distances.matrix) <- paste(rld$condition)\n",
    "colnames(sample.distances.matrix) <- paste(rld$condition)\n",
    "\n",
    "head(sample.distances.matrix)"
   ]
  },
  {
   "cell_type": "code",
   "execution_count": null,
   "metadata": {},
   "outputs": [],
   "source": [
    "colors <- colorRampPalette(rev(brewer.pal(9, 'Blues')))(255)\n",
    "\n",
    "heatmap(sample.distances.matrix,\n",
    "        col = colors)"
   ]
  },
  {
   "cell_type": "markdown",
   "metadata": {},
   "source": [
    "---\n",
    "\n",
    "## Perform Differential Expression Analysis on our Dataset"
   ]
  },
  {
   "cell_type": "code",
   "execution_count": null,
   "metadata": {},
   "outputs": [],
   "source": [
    "dds.result <- DESeq(dds)"
   ]
  },
  {
   "cell_type": "code",
   "execution_count": null,
   "metadata": {},
   "outputs": [],
   "source": [
    "result <- results(dds.result)\n",
    "head(as.data.frame(result))\n",
    "summary(result)"
   ]
  },
  {
   "cell_type": "code",
   "execution_count": null,
   "metadata": {},
   "outputs": [],
   "source": [
    "result <- result[order(result$padj),]\n",
    "head(as.data.frame(result))"
   ]
  },
  {
   "cell_type": "code",
   "execution_count": null,
   "metadata": {},
   "outputs": [],
   "source": [
    "par(mfrow=c(3,2))\n",
    "\n",
    "plotCounts(dds, gene=\"ENSG00000152583\")\n",
    "plotCounts(dds, gene=\"ENSG00000179094\")\n",
    "plotCounts(dds, gene=\"ENSG00000116584\")\n",
    "plotCounts(dds, gene=\"ENSG00000189221\")\n",
    "plotCounts(dds, gene=\"ENSG00000120129\")\n",
    "plotCounts(dds, gene=\"ENSG00000148175\")"
   ]
  },
  {
   "cell_type": "markdown",
   "metadata": {},
   "source": [
    "---\n",
    "\n",
    "## Generating MA-Plots to Determine the Differences between Samples"
   ]
  },
  {
   "cell_type": "code",
   "execution_count": null,
   "metadata": {},
   "outputs": [],
   "source": [
    "plotMA(result, main = \"DESeq2 MA\", ylim = c(-2,2))"
   ]
  },
  {
   "cell_type": "code",
   "execution_count": null,
   "metadata": {},
   "outputs": [],
   "source": [
    "result <- results(dds.result, alpha = 0.05)\n",
    "result.dataframe <- as.data.frame(result)\n",
    "\n",
    "plotMA(result, main = \"DESeq2 MA, alpha=0.05\", ylim = c(-2,2))"
   ]
  },
  {
   "cell_type": "markdown",
   "metadata": {},
   "source": [
    "---"
   ]
  },
  {
   "cell_type": "markdown",
   "metadata": {},
   "source": [
    "## Visualizing Significant Results with Volcano Plots"
   ]
  },
  {
   "cell_type": "code",
   "execution_count": null,
   "metadata": {},
   "outputs": [],
   "source": [
    "result.dataframe$neg.log10.padj <- -log10(result.dataframe$padj)\n",
    "result.dataframe$is.sig <- result.dataframe$padj < 0.05\n",
    "result.dataframe$is.sig.big.fc <- result.dataframe$is.sig & (result.dataframe$log2FoldChange > 2 | result.dataframe$log2FoldChange < -2)"
   ]
  },
  {
   "cell_type": "code",
   "execution_count": null,
   "metadata": {},
   "outputs": [],
   "source": [
    "ggplot(result.dataframe, aes(x = log2FoldChange, y = neg.log10.padj, color = is.sig.big.fc)) +\n",
    "    geom_point(size = 1) +\n",
    "    scale_color_manual(values = c(\"black\", \"red\")) +\n",
    "    xlab(\"Log2FC Normalized Counts\") +\n",
    "    ylab(\"-Log10 Adjusted p-Value\") "
   ]
  },
  {
   "cell_type": "code",
   "execution_count": null,
   "metadata": {},
   "outputs": [],
   "source": [
    "sig.results.dataframe <- result.dataframe[result.dataframe$is.sig.big.fc,]\n",
    "dim(sig.results.dataframe)"
   ]
  },
  {
   "cell_type": "code",
   "execution_count": null,
   "metadata": {},
   "outputs": [],
   "source": [
    "sig.results.dataframe.filt <- sig.results.dataframe[-which(is.na(sig.results.dataframe$padj)),]\n",
    "dim(sig.results.dataframe.filt)"
   ]
  },
  {
   "cell_type": "markdown",
   "metadata": {},
   "source": [
    "---\n",
    "\n",
    "## Using the `biomaRt` Library to Convert ENSEMBL Gene Identifiers to HSNC Gene Symbols \n",
    "\n",
    "### Import the Packages We'll be Using in this Portion of the Notebook"
   ]
  },
  {
   "cell_type": "code",
   "execution_count": null,
   "metadata": {},
   "outputs": [],
   "source": [
    "library(\"biomaRt\")"
   ]
  },
  {
   "cell_type": "markdown",
   "metadata": {},
   "source": [
    "### Create the `ENSEMBL` BioMart Object with the `useDataset()` and `useMart()` Methods"
   ]
  },
  {
   "cell_type": "code",
   "execution_count": null,
   "metadata": {},
   "outputs": [],
   "source": [
    "ensembl <- useDataset(\"hsapiens_gene_ensembl\", useMart(\"ensembl\", host=\"uswest.ensembl.org\"))\n",
    "ensembl"
   ]
  },
  {
   "cell_type": "markdown",
   "metadata": {},
   "source": [
    "### Extract and Clean `ENSEMBL` Identifiers from our `DESeq2` Results with the `gsub()` Method"
   ]
  },
  {
   "cell_type": "code",
   "execution_count": null,
   "metadata": {},
   "outputs": [],
   "source": [
    "ensembl.ids <- rownames(sig.results.dataframe)"
   ]
  },
  {
   "cell_type": "markdown",
   "metadata": {},
   "source": [
    "### Fetch Conversion Between `ENSEMBL` Identifiers and HGNC Symbols with the `getBM()` Method"
   ]
  },
  {
   "cell_type": "code",
   "execution_count": null,
   "metadata": {},
   "outputs": [],
   "source": [
    "# Before we fetch the gene list, let's enter these commands to \n",
    "# combat connection problems we might encounter when accessing biomart... \n",
    "# (From: https://www.bioconductor.org/packages/devel/bioc/vignettes/biomaRt/inst/doc/accessing_ensembl.html)\n",
    "httr::set_config(httr::config(ssl_verifypeer = FALSE))\n",
    "httr::set_config(httr::config(ssl_cipher_list = \"DEFAULT@SECLEVEL=1\"))\n",
    "\n",
    "# Fetch the translation for our ENSEMBL IDs from BioMart to convert them to HGNC Symbols!\n",
    "gene.list <- getBM(filters = 'ensembl_gene_id', \n",
    "                   attributes = c('ensembl_gene_id', 'hgnc_symbol'), # specifies columns we want from biomart\n",
    "                   values = ensembl.ids, # provide the query for our search - which ENSEMBL IDs to look up\n",
    "                   mart = ensembl)       # provide the biomart object we would like to use for our search"
   ]
  },
  {
   "cell_type": "markdown",
   "metadata": {},
   "source": [
    "### Translate the `ENSEMBL` Identifiers in our `DESeq2` Database"
   ]
  },
  {
   "cell_type": "code",
   "execution_count": null,
   "metadata": {},
   "outputs": [],
   "source": [
    "rownames(sig.results.dataframe) <- ensembl.ids\n",
    "filtered.sig.results.dataframe <- sig.results.dataframe[gene.list$ensembl_gene_id,]\n",
    "\n",
    "rownames(filtered.sig.results.dataframe) <- make.names(gene.list$hgnc_symbol, unique = TRUE)\n",
    "head(filtered.sig.results.dataframe)"
   ]
  },
  {
   "cell_type": "code",
   "execution_count": null,
   "metadata": {},
   "outputs": [],
   "source": [
    "write.csv(filtered.sig.results.dataframe, file = 'results/asm_sig_genes_hgnc-symbol.csv')"
   ]
  }
 ],
 "metadata": {
  "kernelspec": {
   "display_name": "R",
   "language": "R",
   "name": "ir"
  },
  "language_info": {
   "codemirror_mode": "r",
   "file_extension": ".r",
   "mimetype": "text/x-r-source",
   "name": "R",
   "pygments_lexer": "r",
   "version": "4.0.3"
  }
 },
 "nbformat": 4,
 "nbformat_minor": 4
}
