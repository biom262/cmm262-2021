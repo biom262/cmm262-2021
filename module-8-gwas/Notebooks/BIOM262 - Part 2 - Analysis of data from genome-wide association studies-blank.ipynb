{
 "cells": [
  {
   "cell_type": "markdown",
   "metadata": {},
   "source": [
    "## Genotype data and sample information"
   ]
  },
  {
   "cell_type": "markdown",
   "metadata": {},
   "source": [
    "We will use genotyping data from the 1000 genomes project. Specifically we will use genotypes from Yoruba individuals from Nigeria"
   ]
  },
  {
   "cell_type": "markdown",
   "metadata": {},
   "source": [
    "### Read Samples"
   ]
  },
  {
   "cell_type": "markdown",
   "metadata": {},
   "source": [
    "Read in the identifiers of the samples. Each sample is an immortalized lymphoblastoid cell line derived from a different Yoruba individual. "
   ]
  },
  {
   "cell_type": "code",
   "execution_count": 3,
   "metadata": {},
   "outputs": [
    {
     "data": {
      "text/html": [
       "<ol class=list-inline>\n",
       "\t<li>'NA18520'</li>\n",
       "\t<li>'NA19225'</li>\n",
       "\t<li>'NA19143'</li>\n",
       "\t<li>'NA19201'</li>\n",
       "\t<li>'NA19144'</li>\n",
       "\t<li>'NA19147'</li>\n",
       "</ol>\n"
      ],
      "text/latex": [
       "\\begin{enumerate*}\n",
       "\\item 'NA18520'\n",
       "\\item 'NA19225'\n",
       "\\item 'NA19143'\n",
       "\\item 'NA19201'\n",
       "\\item 'NA19144'\n",
       "\\item 'NA19147'\n",
       "\\end{enumerate*}\n"
      ],
      "text/markdown": [
       "1. 'NA18520'\n",
       "2. 'NA19225'\n",
       "3. 'NA19143'\n",
       "4. 'NA19201'\n",
       "5. 'NA19144'\n",
       "6. 'NA19147'\n",
       "\n",
       "\n"
      ],
      "text/plain": [
       "[1] \"NA18520\" \"NA19225\" \"NA19143\" \"NA19201\" \"NA19144\" \"NA19147\""
      ]
     },
     "metadata": {},
     "output_type": "display_data"
    }
   ],
   "source": [
    "# use 'as.characeter' to make sure we have the sample names as a vector of character strings (rather than\n",
    "# a factor)\n",
    "sample.tab <- read.table(\"../Data/samples.txt\", header=F)\n",
    "sample.names <- as.character(sample.tab$V1)\n",
    "head(sample.names)"
   ]
  },
  {
   "cell_type": "markdown",
   "metadata": {},
   "source": [
    "### Read Genotypes"
   ]
  },
  {
   "cell_type": "markdown",
   "metadata": {},
   "source": [
    "Read in SNP genotypes for each of the samples. For simplicity, we will only use SNPs on chromosome 22. The first 4 columns give information about the SNP, the remaining columns give the genotypes for each sample. The genotypes are coded as the number of copies of allele2 that each individual carries and can therefore be 0, 1, or 2. For convenience, also  create a 'genotype matrix' that only contains columns with genotype counts."
   ]
  },
  {
   "cell_type": "code",
   "execution_count": 5,
   "metadata": {},
   "outputs": [
    {
     "data": {
      "text/html": [
       "<table>\n",
       "<caption>A data.frame: 6 × 58</caption>\n",
       "<thead>\n",
       "\t<tr><th scope=col>SNP.ID</th><th scope=col>CHROM</th><th scope=col>CHROM.POS</th><th scope=col>ALLELE1</th><th scope=col>ALLELE2</th><th scope=col>NA18520</th><th scope=col>NA19225</th><th scope=col>NA19143</th><th scope=col>NA19201</th><th scope=col>NA19144</th><th scope=col>⋯</th><th scope=col>NA19207</th><th scope=col>NA19204</th><th scope=col>NA19108</th><th scope=col>NA19099</th><th scope=col>NA18499</th><th scope=col>NA18508</th><th scope=col>NA19159</th><th scope=col>NA19093</th><th scope=col>NA19092</th><th scope=col>NA19102</th></tr>\n",
       "\t<tr><th scope=col>&lt;fct&gt;</th><th scope=col>&lt;fct&gt;</th><th scope=col>&lt;int&gt;</th><th scope=col>&lt;fct&gt;</th><th scope=col>&lt;fct&gt;</th><th scope=col>&lt;int&gt;</th><th scope=col>&lt;int&gt;</th><th scope=col>&lt;int&gt;</th><th scope=col>&lt;int&gt;</th><th scope=col>&lt;int&gt;</th><th scope=col>⋯</th><th scope=col>&lt;int&gt;</th><th scope=col>&lt;int&gt;</th><th scope=col>&lt;int&gt;</th><th scope=col>&lt;int&gt;</th><th scope=col>&lt;int&gt;</th><th scope=col>&lt;int&gt;</th><th scope=col>&lt;int&gt;</th><th scope=col>&lt;int&gt;</th><th scope=col>&lt;int&gt;</th><th scope=col>&lt;int&gt;</th></tr>\n",
       "</thead>\n",
       "<tbody>\n",
       "\t<tr><td>rs587755077</td><td>chr22</td><td>16050115</td><td>G </td><td>A</td><td>0</td><td>0</td><td>0</td><td>0</td><td>0</td><td>⋯</td><td>0</td><td>0</td><td>0</td><td>0</td><td>0</td><td>0</td><td>0</td><td>0</td><td>0</td><td>1</td></tr>\n",
       "\t<tr><td>rs587654921</td><td>chr22</td><td>16050213</td><td>C </td><td>T</td><td>0</td><td>0</td><td>0</td><td>0</td><td>0</td><td>⋯</td><td>0</td><td>0</td><td>0</td><td>0</td><td>0</td><td>0</td><td>0</td><td>1</td><td>0</td><td>0</td></tr>\n",
       "\t<tr><td>rs587747231</td><td>chr22</td><td>16050739</td><td>TA</td><td>T</td><td>0</td><td>0</td><td>0</td><td>0</td><td>0</td><td>⋯</td><td>0</td><td>0</td><td>0</td><td>0</td><td>0</td><td>0</td><td>0</td><td>1</td><td>0</td><td>0</td></tr>\n",
       "\t<tr><td>rs587743568</td><td>chr22</td><td>16050783</td><td>A </td><td>G</td><td>0</td><td>0</td><td>0</td><td>0</td><td>0</td><td>⋯</td><td>0</td><td>0</td><td>0</td><td>0</td><td>0</td><td>0</td><td>0</td><td>0</td><td>0</td><td>0</td></tr>\n",
       "\t<tr><td>rs188945759</td><td>chr22</td><td>16050984</td><td>C </td><td>G</td><td>0</td><td>0</td><td>0</td><td>0</td><td>0</td><td>⋯</td><td>0</td><td>0</td><td>0</td><td>0</td><td>0</td><td>0</td><td>1</td><td>0</td><td>1</td><td>0</td></tr>\n",
       "\t<tr><td>rs587723851</td><td>chr22</td><td>16052032</td><td>G </td><td>A</td><td>0</td><td>0</td><td>0</td><td>0</td><td>0</td><td>⋯</td><td>0</td><td>0</td><td>0</td><td>0</td><td>0</td><td>0</td><td>0</td><td>0</td><td>0</td><td>0</td></tr>\n",
       "</tbody>\n",
       "</table>\n"
      ],
      "text/latex": [
       "A data.frame: 6 × 58\n",
       "\\begin{tabular}{r|llllllllllllllllllllllllllllllllllllllllllllllllllllllllll}\n",
       " SNP.ID & CHROM & CHROM.POS & ALLELE1 & ALLELE2 & NA18520 & NA19225 & NA19143 & NA19201 & NA19144 & NA19147 & NA19160 & NA18861 & NA19098 & NA19206 & NA18909 & NA18498 & NA18907 & NA19141 & NA19130 & NA19131 & NA18517 & NA19119 & NA18511 & NA18510 & NA19209 & NA19137 & NA19138 & NA19152 & NA19257 & NA18519 & NA19114 & NA19153 & NA19190 & NA19200 & NA19210 & NA18505 & NA19171 & NA19172 & NA18870 & NA19222 & NA19223 & NA18858 & NA18912 & NA18916 & NA19116 & NA18489 & NA18502 & NA19207 & NA19204 & NA19108 & NA19099 & NA18499 & NA18508 & NA19159 & NA19093 & NA19092 & NA19102\\\\\n",
       " <fct> & <fct> & <int> & <fct> & <fct> & <int> & <int> & <int> & <int> & <int> & <int> & <int> & <int> & <int> & <int> & <int> & <int> & <int> & <int> & <int> & <int> & <int> & <int> & <int> & <int> & <int> & <int> & <int> & <int> & <int> & <int> & <int> & <int> & <int> & <int> & <int> & <int> & <int> & <int> & <int> & <int> & <int> & <int> & <int> & <int> & <int> & <int> & <int> & <int> & <int> & <int> & <int> & <int> & <int> & <int> & <int> & <int> & <int>\\\\\n",
       "\\hline\n",
       "\t rs587755077 & chr22 & 16050115 & G  & A & 0 & 0 & 0 & 0 & 0 & 0 & 0 & 0 & 0 & 0 & 0 & 0 & 0 & 0 & 0 & 0 & 0 & 0 & 0 & 0 & 0 & 1 & 0 & 0 & 0 & 1 & 0 & 0 & 0 & 0 & 0 & 0 & 0 & 0 & 0 & 0 & 1 & 1 & 0 & 0 & 0 & 0 & 0 & 0 & 0 & 0 & 0 & 0 & 0 & 0 & 0 & 0 & 1\\\\\n",
       "\t rs587654921 & chr22 & 16050213 & C  & T & 0 & 0 & 0 & 0 & 0 & 0 & 0 & 0 & 0 & 0 & 0 & 0 & 0 & 0 & 0 & 0 & 0 & 0 & 0 & 0 & 0 & 0 & 0 & 0 & 0 & 0 & 1 & 0 & 0 & 0 & 0 & 0 & 1 & 0 & 0 & 0 & 0 & 0 & 0 & 0 & 0 & 0 & 0 & 0 & 0 & 0 & 0 & 0 & 0 & 0 & 1 & 0 & 0\\\\\n",
       "\t rs587747231 & chr22 & 16050739 & TA & T & 0 & 0 & 0 & 0 & 0 & 0 & 0 & 0 & 0 & 0 & 0 & 0 & 0 & 0 & 0 & 0 & 0 & 0 & 0 & 0 & 0 & 0 & 0 & 0 & 0 & 0 & 1 & 0 & 0 & 0 & 0 & 0 & 1 & 0 & 0 & 0 & 0 & 0 & 0 & 0 & 0 & 0 & 0 & 0 & 0 & 0 & 0 & 0 & 0 & 0 & 1 & 0 & 0\\\\\n",
       "\t rs587743568 & chr22 & 16050783 & A  & G & 0 & 0 & 0 & 0 & 0 & 0 & 0 & 0 & 0 & 0 & 0 & 0 & 0 & 0 & 0 & 0 & 0 & 0 & 0 & 0 & 0 & 0 & 0 & 0 & 0 & 0 & 0 & 0 & 0 & 0 & 0 & 0 & 0 & 0 & 0 & 0 & 0 & 0 & 0 & 0 & 0 & 0 & 1 & 0 & 0 & 0 & 0 & 0 & 0 & 0 & 0 & 0 & 0\\\\\n",
       "\t rs188945759 & chr22 & 16050984 & C  & G & 0 & 0 & 0 & 0 & 0 & 0 & 0 & 0 & 0 & 0 & 0 & 0 & 0 & 0 & 0 & 0 & 0 & 0 & 0 & 0 & 0 & 0 & 0 & 0 & 0 & 0 & 0 & 0 & 0 & 0 & 0 & 0 & 0 & 0 & 0 & 0 & 0 & 0 & 0 & 0 & 0 & 0 & 0 & 0 & 0 & 0 & 0 & 0 & 0 & 1 & 0 & 1 & 0\\\\\n",
       "\t rs587723851 & chr22 & 16052032 & G  & A & 0 & 0 & 0 & 0 & 0 & 0 & 0 & 0 & 0 & 0 & 0 & 0 & 0 & 0 & 0 & 0 & 0 & 0 & 0 & 0 & 0 & 0 & 0 & 0 & 0 & 0 & 0 & 0 & 1 & 0 & 0 & 0 & 0 & 0 & 0 & 0 & 0 & 0 & 0 & 0 & 0 & 0 & 0 & 0 & 0 & 0 & 0 & 0 & 0 & 0 & 0 & 0 & 0\\\\\n",
       "\\end{tabular}\n"
      ],
      "text/markdown": [
       "\n",
       "A data.frame: 6 × 58\n",
       "\n",
       "| SNP.ID &lt;fct&gt; | CHROM &lt;fct&gt; | CHROM.POS &lt;int&gt; | ALLELE1 &lt;fct&gt; | ALLELE2 &lt;fct&gt; | NA18520 &lt;int&gt; | NA19225 &lt;int&gt; | NA19143 &lt;int&gt; | NA19201 &lt;int&gt; | NA19144 &lt;int&gt; | ⋯ ⋯ | NA19207 &lt;int&gt; | NA19204 &lt;int&gt; | NA19108 &lt;int&gt; | NA19099 &lt;int&gt; | NA18499 &lt;int&gt; | NA18508 &lt;int&gt; | NA19159 &lt;int&gt; | NA19093 &lt;int&gt; | NA19092 &lt;int&gt; | NA19102 &lt;int&gt; |\n",
       "|---|---|---|---|---|---|---|---|---|---|---|---|---|---|---|---|---|---|---|---|---|\n",
       "| rs587755077 | chr22 | 16050115 | G  | A | 0 | 0 | 0 | 0 | 0 | ⋯ | 0 | 0 | 0 | 0 | 0 | 0 | 0 | 0 | 0 | 1 |\n",
       "| rs587654921 | chr22 | 16050213 | C  | T | 0 | 0 | 0 | 0 | 0 | ⋯ | 0 | 0 | 0 | 0 | 0 | 0 | 0 | 1 | 0 | 0 |\n",
       "| rs587747231 | chr22 | 16050739 | TA | T | 0 | 0 | 0 | 0 | 0 | ⋯ | 0 | 0 | 0 | 0 | 0 | 0 | 0 | 1 | 0 | 0 |\n",
       "| rs587743568 | chr22 | 16050783 | A  | G | 0 | 0 | 0 | 0 | 0 | ⋯ | 0 | 0 | 0 | 0 | 0 | 0 | 0 | 0 | 0 | 0 |\n",
       "| rs188945759 | chr22 | 16050984 | C  | G | 0 | 0 | 0 | 0 | 0 | ⋯ | 0 | 0 | 0 | 0 | 0 | 0 | 1 | 0 | 1 | 0 |\n",
       "| rs587723851 | chr22 | 16052032 | G  | A | 0 | 0 | 0 | 0 | 0 | ⋯ | 0 | 0 | 0 | 0 | 0 | 0 | 0 | 0 | 0 | 0 |\n",
       "\n"
      ],
      "text/plain": [
       "  SNP.ID      CHROM CHROM.POS ALLELE1 ALLELE2 NA18520 NA19225 NA19143 NA19201\n",
       "1 rs587755077 chr22 16050115  G       A       0       0       0       0      \n",
       "2 rs587654921 chr22 16050213  C       T       0       0       0       0      \n",
       "3 rs587747231 chr22 16050739  TA      T       0       0       0       0      \n",
       "4 rs587743568 chr22 16050783  A       G       0       0       0       0      \n",
       "5 rs188945759 chr22 16050984  C       G       0       0       0       0      \n",
       "6 rs587723851 chr22 16052032  G       A       0       0       0       0      \n",
       "  NA19144 ⋯ NA19207 NA19204 NA19108 NA19099 NA18499 NA18508 NA19159 NA19093\n",
       "1 0       ⋯ 0       0       0       0       0       0       0       0      \n",
       "2 0       ⋯ 0       0       0       0       0       0       0       1      \n",
       "3 0       ⋯ 0       0       0       0       0       0       0       1      \n",
       "4 0       ⋯ 0       0       0       0       0       0       0       0      \n",
       "5 0       ⋯ 0       0       0       0       0       0       1       0      \n",
       "6 0       ⋯ 0       0       0       0       0       0       0       0      \n",
       "  NA19092 NA19102\n",
       "1 0       1      \n",
       "2 0       0      \n",
       "3 0       0      \n",
       "4 0       0      \n",
       "5 1       0      \n",
       "6 0       0      "
      ]
     },
     "metadata": {},
     "output_type": "display_data"
    },
    {
     "data": {
      "text/html": [
       "<table>\n",
       "<caption>A data.frame: 6 × 53</caption>\n",
       "<thead>\n",
       "\t<tr><th scope=col>NA18520</th><th scope=col>NA19225</th><th scope=col>NA19143</th><th scope=col>NA19201</th><th scope=col>NA19144</th><th scope=col>NA19147</th><th scope=col>NA19160</th><th scope=col>NA18861</th><th scope=col>NA19098</th><th scope=col>NA19206</th><th scope=col>⋯</th><th scope=col>NA19207</th><th scope=col>NA19204</th><th scope=col>NA19108</th><th scope=col>NA19099</th><th scope=col>NA18499</th><th scope=col>NA18508</th><th scope=col>NA19159</th><th scope=col>NA19093</th><th scope=col>NA19092</th><th scope=col>NA19102</th></tr>\n",
       "\t<tr><th scope=col>&lt;int&gt;</th><th scope=col>&lt;int&gt;</th><th scope=col>&lt;int&gt;</th><th scope=col>&lt;int&gt;</th><th scope=col>&lt;int&gt;</th><th scope=col>&lt;int&gt;</th><th scope=col>&lt;int&gt;</th><th scope=col>&lt;int&gt;</th><th scope=col>&lt;int&gt;</th><th scope=col>&lt;int&gt;</th><th scope=col>⋯</th><th scope=col>&lt;int&gt;</th><th scope=col>&lt;int&gt;</th><th scope=col>&lt;int&gt;</th><th scope=col>&lt;int&gt;</th><th scope=col>&lt;int&gt;</th><th scope=col>&lt;int&gt;</th><th scope=col>&lt;int&gt;</th><th scope=col>&lt;int&gt;</th><th scope=col>&lt;int&gt;</th><th scope=col>&lt;int&gt;</th></tr>\n",
       "</thead>\n",
       "<tbody>\n",
       "\t<tr><td>0</td><td>0</td><td>0</td><td>0</td><td>0</td><td>0</td><td>0</td><td>0</td><td>0</td><td>0</td><td>⋯</td><td>0</td><td>0</td><td>0</td><td>0</td><td>0</td><td>0</td><td>0</td><td>0</td><td>0</td><td>1</td></tr>\n",
       "\t<tr><td>0</td><td>0</td><td>0</td><td>0</td><td>0</td><td>0</td><td>0</td><td>0</td><td>0</td><td>0</td><td>⋯</td><td>0</td><td>0</td><td>0</td><td>0</td><td>0</td><td>0</td><td>0</td><td>1</td><td>0</td><td>0</td></tr>\n",
       "\t<tr><td>0</td><td>0</td><td>0</td><td>0</td><td>0</td><td>0</td><td>0</td><td>0</td><td>0</td><td>0</td><td>⋯</td><td>0</td><td>0</td><td>0</td><td>0</td><td>0</td><td>0</td><td>0</td><td>1</td><td>0</td><td>0</td></tr>\n",
       "\t<tr><td>0</td><td>0</td><td>0</td><td>0</td><td>0</td><td>0</td><td>0</td><td>0</td><td>0</td><td>0</td><td>⋯</td><td>0</td><td>0</td><td>0</td><td>0</td><td>0</td><td>0</td><td>0</td><td>0</td><td>0</td><td>0</td></tr>\n",
       "\t<tr><td>0</td><td>0</td><td>0</td><td>0</td><td>0</td><td>0</td><td>0</td><td>0</td><td>0</td><td>0</td><td>⋯</td><td>0</td><td>0</td><td>0</td><td>0</td><td>0</td><td>0</td><td>1</td><td>0</td><td>1</td><td>0</td></tr>\n",
       "\t<tr><td>0</td><td>0</td><td>0</td><td>0</td><td>0</td><td>0</td><td>0</td><td>0</td><td>0</td><td>0</td><td>⋯</td><td>0</td><td>0</td><td>0</td><td>0</td><td>0</td><td>0</td><td>0</td><td>0</td><td>0</td><td>0</td></tr>\n",
       "</tbody>\n",
       "</table>\n"
      ],
      "text/latex": [
       "A data.frame: 6 × 53\n",
       "\\begin{tabular}{r|lllllllllllllllllllllllllllllllllllllllllllllllllllll}\n",
       " NA18520 & NA19225 & NA19143 & NA19201 & NA19144 & NA19147 & NA19160 & NA18861 & NA19098 & NA19206 & NA18909 & NA18498 & NA18907 & NA19141 & NA19130 & NA19131 & NA18517 & NA19119 & NA18511 & NA18510 & NA19209 & NA19137 & NA19138 & NA19152 & NA19257 & NA18519 & NA19114 & NA19153 & NA19190 & NA19200 & NA19210 & NA18505 & NA19171 & NA19172 & NA18870 & NA19222 & NA19223 & NA18858 & NA18912 & NA18916 & NA19116 & NA18489 & NA18502 & NA19207 & NA19204 & NA19108 & NA19099 & NA18499 & NA18508 & NA19159 & NA19093 & NA19092 & NA19102\\\\\n",
       " <int> & <int> & <int> & <int> & <int> & <int> & <int> & <int> & <int> & <int> & <int> & <int> & <int> & <int> & <int> & <int> & <int> & <int> & <int> & <int> & <int> & <int> & <int> & <int> & <int> & <int> & <int> & <int> & <int> & <int> & <int> & <int> & <int> & <int> & <int> & <int> & <int> & <int> & <int> & <int> & <int> & <int> & <int> & <int> & <int> & <int> & <int> & <int> & <int> & <int> & <int> & <int> & <int>\\\\\n",
       "\\hline\n",
       "\t 0 & 0 & 0 & 0 & 0 & 0 & 0 & 0 & 0 & 0 & 0 & 0 & 0 & 0 & 0 & 0 & 0 & 0 & 0 & 0 & 0 & 1 & 0 & 0 & 0 & 1 & 0 & 0 & 0 & 0 & 0 & 0 & 0 & 0 & 0 & 0 & 1 & 1 & 0 & 0 & 0 & 0 & 0 & 0 & 0 & 0 & 0 & 0 & 0 & 0 & 0 & 0 & 1\\\\\n",
       "\t 0 & 0 & 0 & 0 & 0 & 0 & 0 & 0 & 0 & 0 & 0 & 0 & 0 & 0 & 0 & 0 & 0 & 0 & 0 & 0 & 0 & 0 & 0 & 0 & 0 & 0 & 1 & 0 & 0 & 0 & 0 & 0 & 1 & 0 & 0 & 0 & 0 & 0 & 0 & 0 & 0 & 0 & 0 & 0 & 0 & 0 & 0 & 0 & 0 & 0 & 1 & 0 & 0\\\\\n",
       "\t 0 & 0 & 0 & 0 & 0 & 0 & 0 & 0 & 0 & 0 & 0 & 0 & 0 & 0 & 0 & 0 & 0 & 0 & 0 & 0 & 0 & 0 & 0 & 0 & 0 & 0 & 1 & 0 & 0 & 0 & 0 & 0 & 1 & 0 & 0 & 0 & 0 & 0 & 0 & 0 & 0 & 0 & 0 & 0 & 0 & 0 & 0 & 0 & 0 & 0 & 1 & 0 & 0\\\\\n",
       "\t 0 & 0 & 0 & 0 & 0 & 0 & 0 & 0 & 0 & 0 & 0 & 0 & 0 & 0 & 0 & 0 & 0 & 0 & 0 & 0 & 0 & 0 & 0 & 0 & 0 & 0 & 0 & 0 & 0 & 0 & 0 & 0 & 0 & 0 & 0 & 0 & 0 & 0 & 0 & 0 & 0 & 0 & 1 & 0 & 0 & 0 & 0 & 0 & 0 & 0 & 0 & 0 & 0\\\\\n",
       "\t 0 & 0 & 0 & 0 & 0 & 0 & 0 & 0 & 0 & 0 & 0 & 0 & 0 & 0 & 0 & 0 & 0 & 0 & 0 & 0 & 0 & 0 & 0 & 0 & 0 & 0 & 0 & 0 & 0 & 0 & 0 & 0 & 0 & 0 & 0 & 0 & 0 & 0 & 0 & 0 & 0 & 0 & 0 & 0 & 0 & 0 & 0 & 0 & 0 & 1 & 0 & 1 & 0\\\\\n",
       "\t 0 & 0 & 0 & 0 & 0 & 0 & 0 & 0 & 0 & 0 & 0 & 0 & 0 & 0 & 0 & 0 & 0 & 0 & 0 & 0 & 0 & 0 & 0 & 0 & 0 & 0 & 0 & 0 & 1 & 0 & 0 & 0 & 0 & 0 & 0 & 0 & 0 & 0 & 0 & 0 & 0 & 0 & 0 & 0 & 0 & 0 & 0 & 0 & 0 & 0 & 0 & 0 & 0\\\\\n",
       "\\end{tabular}\n"
      ],
      "text/markdown": [
       "\n",
       "A data.frame: 6 × 53\n",
       "\n",
       "| NA18520 &lt;int&gt; | NA19225 &lt;int&gt; | NA19143 &lt;int&gt; | NA19201 &lt;int&gt; | NA19144 &lt;int&gt; | NA19147 &lt;int&gt; | NA19160 &lt;int&gt; | NA18861 &lt;int&gt; | NA19098 &lt;int&gt; | NA19206 &lt;int&gt; | ⋯ ⋯ | NA19207 &lt;int&gt; | NA19204 &lt;int&gt; | NA19108 &lt;int&gt; | NA19099 &lt;int&gt; | NA18499 &lt;int&gt; | NA18508 &lt;int&gt; | NA19159 &lt;int&gt; | NA19093 &lt;int&gt; | NA19092 &lt;int&gt; | NA19102 &lt;int&gt; |\n",
       "|---|---|---|---|---|---|---|---|---|---|---|---|---|---|---|---|---|---|---|---|---|\n",
       "| 0 | 0 | 0 | 0 | 0 | 0 | 0 | 0 | 0 | 0 | ⋯ | 0 | 0 | 0 | 0 | 0 | 0 | 0 | 0 | 0 | 1 |\n",
       "| 0 | 0 | 0 | 0 | 0 | 0 | 0 | 0 | 0 | 0 | ⋯ | 0 | 0 | 0 | 0 | 0 | 0 | 0 | 1 | 0 | 0 |\n",
       "| 0 | 0 | 0 | 0 | 0 | 0 | 0 | 0 | 0 | 0 | ⋯ | 0 | 0 | 0 | 0 | 0 | 0 | 0 | 1 | 0 | 0 |\n",
       "| 0 | 0 | 0 | 0 | 0 | 0 | 0 | 0 | 0 | 0 | ⋯ | 0 | 0 | 0 | 0 | 0 | 0 | 0 | 0 | 0 | 0 |\n",
       "| 0 | 0 | 0 | 0 | 0 | 0 | 0 | 0 | 0 | 0 | ⋯ | 0 | 0 | 0 | 0 | 0 | 0 | 1 | 0 | 1 | 0 |\n",
       "| 0 | 0 | 0 | 0 | 0 | 0 | 0 | 0 | 0 | 0 | ⋯ | 0 | 0 | 0 | 0 | 0 | 0 | 0 | 0 | 0 | 0 |\n",
       "\n"
      ],
      "text/plain": [
       "  NA18520 NA19225 NA19143 NA19201 NA19144 NA19147 NA19160 NA18861 NA19098\n",
       "1 0       0       0       0       0       0       0       0       0      \n",
       "2 0       0       0       0       0       0       0       0       0      \n",
       "3 0       0       0       0       0       0       0       0       0      \n",
       "4 0       0       0       0       0       0       0       0       0      \n",
       "5 0       0       0       0       0       0       0       0       0      \n",
       "6 0       0       0       0       0       0       0       0       0      \n",
       "  NA19206 ⋯ NA19207 NA19204 NA19108 NA19099 NA18499 NA18508 NA19159 NA19093\n",
       "1 0       ⋯ 0       0       0       0       0       0       0       0      \n",
       "2 0       ⋯ 0       0       0       0       0       0       0       1      \n",
       "3 0       ⋯ 0       0       0       0       0       0       0       1      \n",
       "4 0       ⋯ 0       0       0       0       0       0       0       0      \n",
       "5 0       ⋯ 0       0       0       0       0       0       1       0      \n",
       "6 0       ⋯ 0       0       0       0       0       0       0       0      \n",
       "  NA19092 NA19102\n",
       "1 0       1      \n",
       "2 0       0      \n",
       "3 0       0      \n",
       "4 0       0      \n",
       "5 1       0      \n",
       "6 0       0      "
      ]
     },
     "metadata": {},
     "output_type": "display_data"
    }
   ],
   "source": [
    "genotypes.tab <- read.table(\"../Data/chr22_genotypes.txt\", header=T)\n",
    "head(genotypes.tab)\n",
    "\n",
    "genotype.matrix <- genotypes.tab[,sample.names]\n",
    "head(genotype.matrix)"
   ]
  },
  {
   "cell_type": "markdown",
   "metadata": {},
   "source": [
    "### Analyze genotype data\n",
    "\n",
    "Here are a few questions to get people familiar with the genotype data\n"
   ]
  },
  {
   "cell_type": "markdown",
   "metadata": {},
   "source": [
    "Q: How many samples are there?"
   ]
  },
  {
   "cell_type": "code",
   "execution_count": 1,
   "metadata": {},
   "outputs": [],
   "source": [
    "### Your code here..."
   ]
  },
  {
   "cell_type": "markdown",
   "metadata": {},
   "source": [
    "Q: what is the chromosomal position and alleles of SNP rs55926024? "
   ]
  },
  {
   "cell_type": "code",
   "execution_count": 2,
   "metadata": {},
   "outputs": [],
   "source": [
    "### Your code here..."
   ]
  },
  {
   "cell_type": "markdown",
   "metadata": {},
   "source": [
    "Q: How many individuals are heterozygous for SNP rs55926024?"
   ]
  },
  {
   "cell_type": "code",
   "execution_count": 3,
   "metadata": {},
   "outputs": [],
   "source": [
    "### Your code here..."
   ]
  },
  {
   "cell_type": "markdown",
   "metadata": {},
   "source": [
    "Q: What is the frequency of allele2 for rs55926024 in our samples?"
   ]
  },
  {
   "cell_type": "code",
   "execution_count": 4,
   "metadata": {},
   "outputs": [],
   "source": [
    "### Your code here..."
   ]
  },
  {
   "cell_type": "markdown",
   "metadata": {},
   "source": [
    "### Gene expression data\n",
    "\n",
    "We will use RNA-seq gene expression data from the GEUVADIS project. The data are from the same Yoruba cell lines that we have genotypes for. The reads have already been mapped to the genome and the number of reads overlapping exons of Ensembl genes has computed.\n",
    "\n",
    "#### Read RNA-seq counts data\n",
    "\n",
    "Read in mapped RNA-seq read counts for each gene. The first columns 5 give information about the gene. The subsequent columns that start with \"NA\" (e.g. NA18520) contain mapped read counts for  each sample in the study. \n",
    "    "
   ]
  },
  {
   "cell_type": "code",
   "execution_count": 13,
   "metadata": {},
   "outputs": [
    {
     "data": {
      "text/html": [
       "<table>\n",
       "<caption>A data.frame: 6 × 58</caption>\n",
       "<thead>\n",
       "\t<tr><th scope=col>GENE.NAME</th><th scope=col>CHROM</th><th scope=col>GENE.START</th><th scope=col>GENE.END</th><th scope=col>GENE.CDNA.LEN</th><th scope=col>NA18520</th><th scope=col>NA19225</th><th scope=col>NA19143</th><th scope=col>NA19201</th><th scope=col>NA19144</th><th scope=col>⋯</th><th scope=col>NA19207</th><th scope=col>NA19204</th><th scope=col>NA19108</th><th scope=col>NA19099</th><th scope=col>NA18499</th><th scope=col>NA18508</th><th scope=col>NA19159</th><th scope=col>NA19093</th><th scope=col>NA19092</th><th scope=col>NA19102</th></tr>\n",
       "\t<tr><th scope=col>&lt;fct&gt;</th><th scope=col>&lt;fct&gt;</th><th scope=col>&lt;int&gt;</th><th scope=col>&lt;int&gt;</th><th scope=col>&lt;int&gt;</th><th scope=col>&lt;int&gt;</th><th scope=col>&lt;int&gt;</th><th scope=col>&lt;int&gt;</th><th scope=col>&lt;int&gt;</th><th scope=col>&lt;int&gt;</th><th scope=col>⋯</th><th scope=col>&lt;int&gt;</th><th scope=col>&lt;int&gt;</th><th scope=col>&lt;int&gt;</th><th scope=col>&lt;int&gt;</th><th scope=col>&lt;int&gt;</th><th scope=col>&lt;int&gt;</th><th scope=col>&lt;int&gt;</th><th scope=col>&lt;int&gt;</th><th scope=col>&lt;int&gt;</th><th scope=col>&lt;int&gt;</th></tr>\n",
       "</thead>\n",
       "<tbody>\n",
       "\t<tr><td>ENSG00000223972</td><td>chr1</td><td>11869</td><td>14412</td><td>1756</td><td>  0</td><td>  0</td><td>  0</td><td>  2</td><td>   0</td><td>⋯</td><td>  1</td><td>  0</td><td>  0</td><td>  0</td><td>  0</td><td>  0</td><td>   0</td><td>  0</td><td>  2</td><td>  0</td></tr>\n",
       "\t<tr><td>ENSG00000227232</td><td>chr1</td><td>14363</td><td>29806</td><td>2073</td><td>105</td><td>475</td><td>541</td><td>291</td><td>1043</td><td>⋯</td><td>441</td><td>194</td><td>365</td><td>396</td><td>274</td><td>316</td><td>1460</td><td>433</td><td>147</td><td>256</td></tr>\n",
       "\t<tr><td>ENSG00000243485</td><td>chr1</td><td>29554</td><td>31109</td><td>1021</td><td>  0</td><td>  0</td><td>  0</td><td>  0</td><td>   0</td><td>⋯</td><td>  0</td><td>  1</td><td>  0</td><td>  0</td><td>  0</td><td>  1</td><td>   0</td><td>  0</td><td>  0</td><td>  0</td></tr>\n",
       "\t<tr><td>ENSG00000237613</td><td>chr1</td><td>34554</td><td>36081</td><td>1219</td><td>  0</td><td>  0</td><td>  0</td><td>  0</td><td>   0</td><td>⋯</td><td>  0</td><td>  0</td><td>  0</td><td>  0</td><td>  0</td><td>  0</td><td>   0</td><td>  0</td><td>  0</td><td>  0</td></tr>\n",
       "\t<tr><td>ENSG00000268020</td><td>chr1</td><td>52473</td><td>54936</td><td> 947</td><td>  0</td><td>  0</td><td>  0</td><td>  0</td><td>   0</td><td>⋯</td><td>  0</td><td>  0</td><td>  0</td><td>  0</td><td>  0</td><td>  0</td><td>   0</td><td>  0</td><td>  0</td><td>  0</td></tr>\n",
       "\t<tr><td>ENSG00000240361</td><td>chr1</td><td>62948</td><td>63887</td><td> 940</td><td>  0</td><td>  0</td><td>  0</td><td>  0</td><td>   0</td><td>⋯</td><td>  0</td><td>  0</td><td>  0</td><td>  0</td><td>  0</td><td>  0</td><td>   0</td><td>  0</td><td>  0</td><td>  0</td></tr>\n",
       "</tbody>\n",
       "</table>\n"
      ],
      "text/latex": [
       "A data.frame: 6 × 58\n",
       "\\begin{tabular}{r|llllllllllllllllllllllllllllllllllllllllllllllllllllllllll}\n",
       " GENE.NAME & CHROM & GENE.START & GENE.END & GENE.CDNA.LEN & NA18520 & NA19225 & NA19143 & NA19201 & NA19144 & NA19147 & NA19160 & NA18861 & NA19098 & NA19206 & NA18909 & NA18498 & NA18907 & NA19141 & NA19130 & NA19131 & NA18517 & NA19119 & NA18511 & NA18510 & NA19209 & NA19137 & NA19138 & NA19152 & NA19257 & NA18519 & NA19114 & NA19153 & NA19190 & NA19200 & NA19210 & NA18505 & NA19171 & NA19172 & NA18870 & NA19222 & NA19223 & NA18858 & NA18912 & NA18916 & NA19116 & NA18489 & NA18502 & NA19207 & NA19204 & NA19108 & NA19099 & NA18499 & NA18508 & NA19159 & NA19093 & NA19092 & NA19102\\\\\n",
       " <fct> & <fct> & <int> & <int> & <int> & <int> & <int> & <int> & <int> & <int> & <int> & <int> & <int> & <int> & <int> & <int> & <int> & <int> & <int> & <int> & <int> & <int> & <int> & <int> & <int> & <int> & <int> & <int> & <int> & <int> & <int> & <int> & <int> & <int> & <int> & <int> & <int> & <int> & <int> & <int> & <int> & <int> & <int> & <int> & <int> & <int> & <int> & <int> & <int> & <int> & <int> & <int> & <int> & <int> & <int> & <int> & <int> & <int>\\\\\n",
       "\\hline\n",
       "\t ENSG00000223972 & chr1 & 11869 & 14412 & 1756 &   0 &   0 &   0 &   2 &    0 &   0 &   0 &  17 &   0 &   1 &   0 &   1 &   2 &    2 &   2 &   0 &   0 &   0 &   0 &   0 &   0 &   0 &   0 &   2 &   0 &   0 &   0 &   0 &   0 &   0 &   0 &   2 &   0 &   0 &   0 &   0 &   0 &   0 &   0 &   0 &   0 &   0 &   2 &   1 &   0 &   0 &   0 &   0 &   0 &    0 &   0 &   2 &   0\\\\\n",
       "\t ENSG00000227232 & chr1 & 14363 & 29806 & 2073 & 105 & 475 & 541 & 291 & 1043 & 385 & 248 & 213 & 488 & 614 & 359 & 375 & 346 & 1152 & 488 & 867 & 320 & 362 & 874 & 304 & 740 & 308 & 178 & 420 & 518 & 125 & 350 & 221 & 641 & 339 & 518 & 399 & 700 & 335 & 792 & 565 & 722 & 897 & 518 & 571 & 820 & 429 & 574 & 441 & 194 & 365 & 396 & 274 & 316 & 1460 & 433 & 147 & 256\\\\\n",
       "\t ENSG00000243485 & chr1 & 29554 & 31109 & 1021 &   0 &   0 &   0 &   0 &    0 &   0 &   0 &   6 &   0 &   0 &   0 &   0 &   0 &    0 &   0 &   1 &   0 &   0 &   0 &   0 &   0 &   0 &   0 &   0 &   0 &   0 &   0 &   0 &   0 &   2 &   0 &   0 &   0 &   0 &   1 &   0 &   0 &   0 &   0 &   2 &   0 &   0 &   0 &   0 &   1 &   0 &   0 &   0 &   1 &    0 &   0 &   0 &   0\\\\\n",
       "\t ENSG00000237613 & chr1 & 34554 & 36081 & 1219 &   0 &   0 &   0 &   0 &    0 &   0 &   0 &   0 &   0 &   0 &   0 &   0 &   0 &    0 &   0 &   0 &   0 &   0 &   0 &   0 &   0 &   0 &   0 &   0 &   0 &   0 &   0 &   0 &   0 &   0 &   0 &   0 &   0 &   0 &   0 &   0 &   0 &   0 &   0 &   0 &   0 &   0 &   0 &   0 &   0 &   0 &   0 &   0 &   0 &    0 &   0 &   0 &   0\\\\\n",
       "\t ENSG00000268020 & chr1 & 52473 & 54936 &  947 &   0 &   0 &   0 &   0 &    0 &   0 &   0 &   7 &   0 &   0 &   0 &   0 &   0 &    0 &   0 &   0 &   0 &   0 &   0 &   0 &   0 &   0 &   0 &   0 &   0 &   0 &   0 &   0 &   0 &   0 &   0 &   0 &   0 &   0 &   0 &   0 &   0 &   0 &   0 &   0 &   0 &   0 &   0 &   0 &   0 &   0 &   0 &   0 &   0 &    0 &   0 &   0 &   0\\\\\n",
       "\t ENSG00000240361 & chr1 & 62948 & 63887 &  940 &   0 &   0 &   0 &   0 &    0 &   0 &   0 &  16 &   0 &   0 &   0 &   0 &   0 &    0 &   0 &   0 &   0 &   0 &   0 &   0 &   0 &   0 &   0 &   0 &   0 &   0 &   0 &   0 &   0 &   0 &   0 &   0 &   0 &   0 &   0 &   0 &   0 &   0 &   0 &   0 &   0 &   0 &   0 &   0 &   0 &   0 &   0 &   0 &   0 &    0 &   0 &   0 &   0\\\\\n",
       "\\end{tabular}\n"
      ],
      "text/markdown": [
       "\n",
       "A data.frame: 6 × 58\n",
       "\n",
       "| GENE.NAME &lt;fct&gt; | CHROM &lt;fct&gt; | GENE.START &lt;int&gt; | GENE.END &lt;int&gt; | GENE.CDNA.LEN &lt;int&gt; | NA18520 &lt;int&gt; | NA19225 &lt;int&gt; | NA19143 &lt;int&gt; | NA19201 &lt;int&gt; | NA19144 &lt;int&gt; | ⋯ ⋯ | NA19207 &lt;int&gt; | NA19204 &lt;int&gt; | NA19108 &lt;int&gt; | NA19099 &lt;int&gt; | NA18499 &lt;int&gt; | NA18508 &lt;int&gt; | NA19159 &lt;int&gt; | NA19093 &lt;int&gt; | NA19092 &lt;int&gt; | NA19102 &lt;int&gt; |\n",
       "|---|---|---|---|---|---|---|---|---|---|---|---|---|---|---|---|---|---|---|---|---|\n",
       "| ENSG00000223972 | chr1 | 11869 | 14412 | 1756 |   0 |   0 |   0 |   2 |    0 | ⋯ |   1 |   0 |   0 |   0 |   0 |   0 |    0 |   0 |   2 |   0 |\n",
       "| ENSG00000227232 | chr1 | 14363 | 29806 | 2073 | 105 | 475 | 541 | 291 | 1043 | ⋯ | 441 | 194 | 365 | 396 | 274 | 316 | 1460 | 433 | 147 | 256 |\n",
       "| ENSG00000243485 | chr1 | 29554 | 31109 | 1021 |   0 |   0 |   0 |   0 |    0 | ⋯ |   0 |   1 |   0 |   0 |   0 |   1 |    0 |   0 |   0 |   0 |\n",
       "| ENSG00000237613 | chr1 | 34554 | 36081 | 1219 |   0 |   0 |   0 |   0 |    0 | ⋯ |   0 |   0 |   0 |   0 |   0 |   0 |    0 |   0 |   0 |   0 |\n",
       "| ENSG00000268020 | chr1 | 52473 | 54936 |  947 |   0 |   0 |   0 |   0 |    0 | ⋯ |   0 |   0 |   0 |   0 |   0 |   0 |    0 |   0 |   0 |   0 |\n",
       "| ENSG00000240361 | chr1 | 62948 | 63887 |  940 |   0 |   0 |   0 |   0 |    0 | ⋯ |   0 |   0 |   0 |   0 |   0 |   0 |    0 |   0 |   0 |   0 |\n",
       "\n"
      ],
      "text/plain": [
       "  GENE.NAME       CHROM GENE.START GENE.END GENE.CDNA.LEN NA18520 NA19225\n",
       "1 ENSG00000223972 chr1  11869      14412    1756            0       0    \n",
       "2 ENSG00000227232 chr1  14363      29806    2073          105     475    \n",
       "3 ENSG00000243485 chr1  29554      31109    1021            0       0    \n",
       "4 ENSG00000237613 chr1  34554      36081    1219            0       0    \n",
       "5 ENSG00000268020 chr1  52473      54936     947            0       0    \n",
       "6 ENSG00000240361 chr1  62948      63887     940            0       0    \n",
       "  NA19143 NA19201 NA19144 ⋯ NA19207 NA19204 NA19108 NA19099 NA18499 NA18508\n",
       "1   0       2        0    ⋯   1       0       0       0       0       0    \n",
       "2 541     291     1043    ⋯ 441     194     365     396     274     316    \n",
       "3   0       0        0    ⋯   0       1       0       0       0       1    \n",
       "4   0       0        0    ⋯   0       0       0       0       0       0    \n",
       "5   0       0        0    ⋯   0       0       0       0       0       0    \n",
       "6   0       0        0    ⋯   0       0       0       0       0       0    \n",
       "  NA19159 NA19093 NA19092 NA19102\n",
       "1    0      0       2       0    \n",
       "2 1460    433     147     256    \n",
       "3    0      0       0       0    \n",
       "4    0      0       0       0    \n",
       "5    0      0       0       0    \n",
       "6    0      0       0       0    "
      ]
     },
     "metadata": {},
     "output_type": "display_data"
    }
   ],
   "source": [
    "all.gene.tab <- read.table(\"../Data/gene_mapped_read_counts.txt\", header=T)\n",
    "head(all.gene.tab)"
   ]
  },
  {
   "cell_type": "markdown",
   "metadata": {},
   "source": [
    "## Compute TPM expression values\n",
    "Create an expression matrix containing transcripts-per-million (TPM) as a measure of gene expression. Could alternatively use RPKM\n",
    "\n",
    "Explanation of TPM from (see http://www.rna-seqblog.com/rpkm-fpkm-and-tpm-clearly-explained/):\n",
    "1. Divide the read counts by the length of each gene in kilobases. \n",
    "This gives you reads per kilobase (RPK).\n",
    "2. Count up all the RPK values in a sample and divide this number by 1,000,000. This is your “per million” scaling factor.\n",
    "3. Divide the RPK values by the “per million” scaling factor. This gives you TPM."
   ]
  },
  {
   "cell_type": "code",
   "execution_count": 5,
   "metadata": {},
   "outputs": [
    {
     "ename": "ERROR",
     "evalue": "Error in eval(expr, envir, enclos): object 'all.gene.tab' not found\n",
     "output_type": "error",
     "traceback": [
      "Error in eval(expr, envir, enclos): object 'all.gene.tab' not found\nTraceback:\n"
     ]
    }
   ],
   "source": [
    "all.count.matrix <- all.gene.tab[,sample.names]\n",
    "\n",
    "# compute RPK values for each gene (Divide the read counts by the length of each gene in kilobases)\n",
    "## Your code here...\n",
    "\n",
    "\n",
    "# get column RPK totals (hint: try using apply function)\n",
    "## Your code here...\n",
    "\n",
    "\n",
    "# divide each column by \"per million\"\" scaling factor to get TPM\n",
    "## Your code here..."
   ]
  },
  {
   "cell_type": "markdown",
   "metadata": {},
   "source": [
    "## Analyze gene expression values\n",
    "\n",
    "Q: How many genes are in the gene expression table?"
   ]
  },
  {
   "cell_type": "code",
   "execution_count": 6,
   "metadata": {},
   "outputs": [],
   "source": [
    "## Your code here..."
   ]
  },
  {
   "cell_type": "markdown",
   "metadata": {},
   "source": [
    "This is a lot of 'genes'! The Ensembl 'ENSG' gene list contains many pseudo-genes, and low-expression lncRNAs etc.\n",
    "\n",
    "Calculate mean expression across samples, then make a histogram of log TPM values for genes that have \n",
    "mean TPM > 0.0."
   ]
  },
  {
   "cell_type": "code",
   "execution_count": 17,
   "metadata": {},
   "outputs": [
    {
     "data": {
      "image/png": "[encoded data removed]",
      "text/plain": [
       "Plot with title “Histogram of log(mean.tpm[mean.tpm > 0])”"
      ]
     },
     "metadata": {},
     "output_type": "display_data"
    }
   ],
   "source": [
    "mean.tpm <- apply(tpm, 1, mean)\n",
    "hist(log(mean.tpm[mean.tpm > 0.0]), breaks=50)"
   ]
  },
  {
   "cell_type": "markdown",
   "metadata": {},
   "source": [
    "\n",
    "The mean expression distribution is bimodal, with a large number of low-expression genes.\n",
    "\n",
    "Q: How many genes have TPM values > 1.0?\n"
   ]
  },
  {
   "cell_type": "code",
   "execution_count": 7,
   "metadata": {},
   "outputs": [],
   "source": [
    "## Your code here..."
   ]
  },
  {
   "cell_type": "markdown",
   "metadata": {},
   "source": [
    "\n",
    "This is a reasonable number of genes to consider expressed in this cell type (lymphoblastoid cell lines). So lets discard all genes with TPM < 1.0 from further analyses.\n"
   ]
  },
  {
   "cell_type": "markdown",
   "metadata": {},
   "source": [
    "## Other data pre-processing\n",
    "\n",
    "There are additional steps we could take when processing the gene expression and genotype data.\n",
    "\n",
    "- Correct for population structure by doing principal components analysis of genotype matrix (PCs could be used as co-variates in linear model)\n",
    "- Correct for expression batch effects by regressing out PCs, performing quantile normalization\n",
    "\n",
    "\n",
    "## identifying eQTLs\n",
    "\n",
    "Get a set of genes that are on chr22 and that have TPM > 1.0"
   ]
  },
  {
   "cell_type": "code",
   "execution_count": 8,
   "metadata": {},
   "outputs": [],
   "source": [
    "\n",
    "### Your code here"
   ]
  },
  {
   "cell_type": "markdown",
   "metadata": {},
   "source": [
    "Plot the expression of gene ENSG00000218537 (MIF-AS1) as a function of the genotype of the SNP rs5760108. "
   ]
  },
  {
   "cell_type": "code",
   "execution_count": 9,
   "metadata": {},
   "outputs": [],
   "source": [
    "\n",
    "### Your code here\n",
    "# 1. get TPM expression for gene ENSG00000218537\n",
    "\n",
    "# 2. get genotypes of SNP rs5760108\n",
    "\n",
    "# 3. make scatterplot with genotypes on X axis, expression on Y axis\n"
   ]
  },
  {
   "cell_type": "markdown",
   "metadata": {},
   "source": [
    "\n",
    "Fit a linear model, using expression as the response and genotype as the predictor\n"
   ]
  },
  {
   "cell_type": "code",
   "execution_count": 10,
   "metadata": {},
   "outputs": [],
   "source": [
    "### Your code here...\n",
    "### Hint: look or google how to use lm function in R"
   ]
  },
  {
   "cell_type": "markdown",
   "metadata": {},
   "source": [
    "Get the slope (often called effect size or Beta) and p-value from the regression, and add the fit line to the genotype vs. expression plot."
   ]
  },
  {
   "cell_type": "code",
   "execution_count": 11,
   "metadata": {},
   "outputs": [],
   "source": [
    "### Your code here...\n",
    "### Hint: use the summary function to get information about the fitted linear model"
   ]
  },
  {
   "cell_type": "markdown",
   "metadata": {},
   "source": [
    "Now lets test all SNPs that are close (within 50kb) of the gene ENSG00000218537 for association.\n",
    "\n",
    "First get the genotypes of all of the nearby SNPs."
   ]
  },
  {
   "cell_type": "code",
   "execution_count": 12,
   "metadata": {},
   "outputs": [],
   "source": [
    "### Your code here...\n",
    "\n",
    "# 1. Define the start and end of a region\n",
    "# as the start of ENSG00000218537 - 50000 and the end of ENSG00000218537 + 50000\n",
    "\n",
    "\n",
    "# 2 get the SNPs out\n",
    "\n",
    "# 3. get genotypes of the SNPs\n",
    "\n",
    "# 4. how many SNPs are there in this region?\n"
   ]
  },
  {
   "cell_type": "markdown",
   "metadata": {},
   "source": [
    "\n",
    "Next perform linear regression of the genoypes of each SNP against the expression of the gene and make a histogram of the p-values.\n"
   ]
  },
  {
   "cell_type": "code",
   "execution_count": 13,
   "metadata": {},
   "outputs": [],
   "source": [
    "## Your code here...\n",
    "# 1.  use a for loop, to loop over the SNPs, fit a linear model for each one\n",
    "\n",
    "# 2. plot a histogram of the resulting p-values\n"
   ]
  },
  {
   "cell_type": "markdown",
   "metadata": {},
   "source": [
    "Plot the genomic position of the SNPs (x-axis) against their -log10 p-values (y-axis)"
   ]
  },
  {
   "cell_type": "code",
   "execution_count": 14,
   "metadata": {},
   "outputs": [],
   "source": [
    "\n",
    "### Your code here...\n"
   ]
  },
  {
   "cell_type": "code",
   "execution_count": null,
   "metadata": {},
   "outputs": [],
   "source": []
  }
 ],
 "metadata": {
  "kernelspec": {
   "display_name": "R",
   "language": "R",
   "name": "ir"
  },
  "language_info": {
   "codemirror_mode": "r",
   "file_extension": ".r",
   "mimetype": "text/x-r-source",
   "name": "R",
   "pygments_lexer": "r",
   "version": "3.6.0"
  }
 },
 "nbformat": 4,
 "nbformat_minor": 2
}
