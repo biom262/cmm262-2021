{
 "cells": [
  {
   "cell_type": "markdown",
   "metadata": {},
   "source": [
    "## Exploring GWAS Summary statistics"
   ]
  },
  {
   "cell_type": "markdown",
   "metadata": {},
   "source": [
    "GWAS *summary statistics* are computed statistics like p-values and odds-ratios etc. that describe the strength of association between the genotype at a SNP and a trait of interest. This differs from *individual level* data, which are the complete set of genotypes and phenotypes for each individual. Summary statistics take up a lot less space, and also don't have the same privacy concerns that genotype data have."
   ]
  },
  {
   "cell_type": "markdown",
   "metadata": {},
   "source": [
    "Read in summary statistics from a genome-wide association study of \n",
    "Rheumatoid Arthritis. These data are from this study:\n",
    "https://www.nature.com/articles/nature12873"
   ]
  },
  {
   "cell_type": "code",
   "execution_count": 3,
   "metadata": {},
   "outputs": [
    {
     "data": {
      "text/html": [
       "<table>\n",
       "<caption>A data.frame: 6 × 7</caption>\n",
       "<thead>\n",
       "\t<tr><th scope=col>SNP.ID</th><th scope=col>chrom</th><th scope=col>chrom.pos.hg19</th><th scope=col>genome.pos.hg19</th><th scope=col>allele1</th><th scope=col>allele2</th><th scope=col>p.val</th></tr>\n",
       "\t<tr><th scope=col>&lt;fct&gt;</th><th scope=col>&lt;int&gt;</th><th scope=col>&lt;int&gt;</th><th scope=col>&lt;dbl&gt;</th><th scope=col>&lt;fct&gt;</th><th scope=col>&lt;fct&gt;</th><th scope=col>&lt;dbl&gt;</th></tr>\n",
       "</thead>\n",
       "<tbody>\n",
       "\t<tr><td>rs2799070   </td><td>1</td><td> 949925</td><td> 949925</td><td>T</td><td>C</td><td>0.420</td></tr>\n",
       "\t<tr><td>rs9329410   </td><td>1</td><td>1039268</td><td>1039268</td><td>T</td><td>C</td><td>0.180</td></tr>\n",
       "\t<tr><td>rs36030198  </td><td>1</td><td>1043900</td><td>1043900</td><td>T</td><td>C</td><td>0.220</td></tr>\n",
       "\t<tr><td>chr1:1163964</td><td>1</td><td>1163964</td><td>1163964</td><td>A</td><td>G</td><td>0.014</td></tr>\n",
       "\t<tr><td>chr1:1171836</td><td>1</td><td>1171836</td><td>1171836</td><td>T</td><td>C</td><td>0.500</td></tr>\n",
       "\t<tr><td>rs11260576  </td><td>1</td><td>1210360</td><td>1210360</td><td>T</td><td>C</td><td>0.036</td></tr>\n",
       "</tbody>\n",
       "</table>\n"
      ],
      "text/latex": [
       "A data.frame: 6 × 7\n",
       "\\begin{tabular}{r|lllllll}\n",
       " SNP.ID & chrom & chrom.pos.hg19 & genome.pos.hg19 & allele1 & allele2 & p.val\\\\\n",
       " <fct> & <int> & <int> & <dbl> & <fct> & <fct> & <dbl>\\\\\n",
       "\\hline\n",
       "\t rs2799070    & 1 &  949925 &  949925 & T & C & 0.420\\\\\n",
       "\t rs9329410    & 1 & 1039268 & 1039268 & T & C & 0.180\\\\\n",
       "\t rs36030198   & 1 & 1043900 & 1043900 & T & C & 0.220\\\\\n",
       "\t chr1:1163964 & 1 & 1163964 & 1163964 & A & G & 0.014\\\\\n",
       "\t chr1:1171836 & 1 & 1171836 & 1171836 & T & C & 0.500\\\\\n",
       "\t rs11260576   & 1 & 1210360 & 1210360 & T & C & 0.036\\\\\n",
       "\\end{tabular}\n"
      ],
      "text/markdown": [
       "\n",
       "A data.frame: 6 × 7\n",
       "\n",
       "| SNP.ID &lt;fct&gt; | chrom &lt;int&gt; | chrom.pos.hg19 &lt;int&gt; | genome.pos.hg19 &lt;dbl&gt; | allele1 &lt;fct&gt; | allele2 &lt;fct&gt; | p.val &lt;dbl&gt; |\n",
       "|---|---|---|---|---|---|---|\n",
       "| rs2799070    | 1 |  949925 |  949925 | T | C | 0.420 |\n",
       "| rs9329410    | 1 | 1039268 | 1039268 | T | C | 0.180 |\n",
       "| rs36030198   | 1 | 1043900 | 1043900 | T | C | 0.220 |\n",
       "| chr1:1163964 | 1 | 1163964 | 1163964 | A | G | 0.014 |\n",
       "| chr1:1171836 | 1 | 1171836 | 1171836 | T | C | 0.500 |\n",
       "| rs11260576   | 1 | 1210360 | 1210360 | T | C | 0.036 |\n",
       "\n"
      ],
      "text/plain": [
       "  SNP.ID       chrom chrom.pos.hg19 genome.pos.hg19 allele1 allele2 p.val\n",
       "1 rs2799070    1      949925         949925         T       C       0.420\n",
       "2 rs9329410    1     1039268        1039268         T       C       0.180\n",
       "3 rs36030198   1     1043900        1043900         T       C       0.220\n",
       "4 chr1:1163964 1     1163964        1163964         A       G       0.014\n",
       "5 chr1:1171836 1     1171836        1171836         T       C       0.500\n",
       "6 rs11260576   1     1210360        1210360         T       C       0.036"
      ]
     },
     "metadata": {},
     "output_type": "display_data"
    }
   ],
   "source": [
    "gwas.tab <- read.table(\"../Data/RA_GWAS.txt\", header=T)\n",
    "head(gwas.tab)"
   ]
  },
  {
   "cell_type": "markdown",
   "metadata": {},
   "source": [
    "Note that these data have been thinned to reduce the size of the dataset for this class. Recent GWAS often include data from >8,000,000 SNPs. How many SNPs are in this data table?"
   ]
  },
  {
   "cell_type": "code",
   "execution_count": 1,
   "metadata": {},
   "outputs": [],
   "source": [
    "### Your code here..."
   ]
  },
  {
   "cell_type": "markdown",
   "metadata": {},
   "source": [
    "Let's take a look at the data. Make a histogram of the p-values."
   ]
  },
  {
   "cell_type": "code",
   "execution_count": 2,
   "metadata": {
    "scrolled": true
   },
   "outputs": [],
   "source": [
    "### Your code here..."
   ]
  },
  {
   "cell_type": "markdown",
   "metadata": {},
   "source": [
    "Notice that the distribution looks faily uniform, but with an excess of low\n",
    "p-values.\n",
    "\n",
    "A quantile-quantile plot provides a better way to see how the distribution deviates from the null-expection of uniformity. In addition, if we use -log10 p-values, we can really see what is going on the low-p-value tail of the distribution.\n"
   ]
  },
  {
   "cell_type": "code",
   "execution_count": 3,
   "metadata": {},
   "outputs": [],
   "source": [
    "### Your code here..."
   ]
  },
  {
   "cell_type": "markdown",
   "metadata": {},
   "source": [
    "There are some very low p-values that make it difficult\n",
    "to see the relationship between the two distributions,\n",
    "so threshold p-values below 1e-20 to 1e-20."
   ]
  },
  {
   "cell_type": "code",
   "execution_count": 4,
   "metadata": {},
   "outputs": [],
   "source": [
    "### Your code here..."
   ]
  },
  {
   "cell_type": "markdown",
   "metadata": {},
   "source": [
    "## Make a Manhattan plot"
   ]
  },
  {
   "cell_type": "markdown",
   "metadata": {},
   "source": [
    "Let's make a manhattan plot, which shows the association signal\n",
    "across the genome. "
   ]
  },
  {
   "cell_type": "code",
   "execution_count": 5,
   "metadata": {},
   "outputs": [],
   "source": [
    "### Your code here..."
   ]
  },
  {
   "cell_type": "markdown",
   "metadata": {},
   "source": [
    "What is the region with the extremely low p-values?"
   ]
  },
  {
   "cell_type": "code",
   "execution_count": 6,
   "metadata": {},
   "outputs": [],
   "source": [
    "### Your code here..."
   ]
  },
  {
   "cell_type": "markdown",
   "metadata": {},
   "source": [
    "Let's zoom in on this region."
   ]
  },
  {
   "cell_type": "code",
   "execution_count": 7,
   "metadata": {},
   "outputs": [],
   "source": [
    "### Your code here..."
   ]
  },
  {
   "cell_type": "markdown",
   "metadata": {},
   "source": [
    "*Q:* What region is this? Can look in UCSC genome browser\n",
    "\n",
    "*A:* MHC Class II region\n",
    "\n",
    "The MHC region has a super low p-value, which obscures other signals. Let's make the plot again, this time thresholding p-values to 1e-20."
   ]
  },
  {
   "cell_type": "code",
   "execution_count": 8,
   "metadata": {},
   "outputs": [],
   "source": [
    "### Your code here..."
   ]
  },
  {
   "cell_type": "code",
   "execution_count": null,
   "metadata": {},
   "outputs": [],
   "source": []
  }
 ],
 "metadata": {
  "kernelspec": {
   "display_name": "R",
   "language": "R",
   "name": "ir"
  },
  "language_info": {
   "codemirror_mode": "r",
   "file_extension": ".r",
   "mimetype": "text/x-r-source",
   "name": "R",
   "pygments_lexer": "r",
   "version": "3.6.0"
  }
 },
 "nbformat": 4,
 "nbformat_minor": 2
}
