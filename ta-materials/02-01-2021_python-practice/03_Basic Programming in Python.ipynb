{
 "cells": [
  {
   "cell_type": "markdown",
   "metadata": {},
   "source": [
    "# CMM262 Programming Practice Problems in Python, Part 3\n",
    "\n",
    "**Author:** Michelle Franc Ragsac (mragsac@eng.ucsd.edu)\n",
    "\n",
    "This notebook contains more exercises that incorporate basic concepts of programming, specifically for the Python programming language, but with a bioinformatics twist! \n",
    "\n",
    "These exercises are quite involved and can be difficult as they require you to read in files from our `ref/` folder, while also manipulating them into data structures in Python.  \n",
    "\n",
    "> * Many of these exercises (and more!) can be found through the Rosalind \"Bioinformatics Stronghold\" resource: http://rosalind.info/problems/list-view/?location=bioinformatics-stronghold"
   ]
  },
  {
   "cell_type": "markdown",
   "metadata": {},
   "source": [
    "---\n",
    "\n",
    "### [Calculating Protein Mass](http://rosalind.info/problems/prtm/)\n",
    "\n",
    "<div class=\"alert alert-block alert-success\">\n",
    "    <p><b>Exercise:</b></p>\n",
    "    <p><b><i>Given</i></b>: A protein string, <code>p</code>, of at most 1000 aa\n",
    "    <br><b><i>Return</i></b>: The total weight of <code>p</code></p>\n",
    "    <p><i>Hint:</i> We have a monoisotopic mass table that you can reference: <code>ref/monoisotopic_masses.txt</code>!</p>\n",
    "</div>\n",
    "\n",
    "#### Sample Dataset\n",
    "\n",
    "```\n",
    "SKADYEK\n",
    "```\n",
    "\n",
    "#### Sample Output\n",
    "\n",
    "```\n",
    "821.392\n",
    "```"
   ]
  },
  {
   "cell_type": "code",
   "execution_count": null,
   "metadata": {},
   "outputs": [],
   "source": []
  },
  {
   "cell_type": "markdown",
   "metadata": {},
   "source": [
    "---\n",
    "\n",
    "### [Translating RNA into Protein](http://rosalind.info/problems/prot/)\n",
    "\n",
    "<div class=\"alert alert-block alert-success\">\n",
    "    <p><b>Exercise:</b></p>\n",
    "    <p><b><i>Given</i></b>: A RNA string, <code>s</code>, corresponding to a strand of mRNA (of length at most 10 kbp)\n",
    "    <br><b><i>Return</i></b>: The protein string encoded by <code>s</code></p>\n",
    "    <p><i>Hint:</i> We have a RNA codon table that you can reference: <code>ref/rna_codon_table.txt</code>!</p>\n",
    "</div>\n",
    "\n",
    "#### Sample Dataset\n",
    "\n",
    "```\n",
    "AUGGCCAUGGCGCCCAGAACUGAGAUCAAUAGUACCCGUAUUAACGGGUGA\n",
    "```\n",
    "\n",
    "#### Sample Output\n",
    "\n",
    "```\n",
    "MAMAPRTEINSTRING\n",
    "```"
   ]
  },
  {
   "cell_type": "code",
   "execution_count": null,
   "metadata": {},
   "outputs": [],
   "source": []
  },
  {
   "cell_type": "markdown",
   "metadata": {},
   "source": [
    "---\n",
    "\n",
    "### [Consensus and Profile](http://rosalind.info/problems/cons/)\n",
    "\n",
    "<div class=\"alert alert-block alert-success\">\n",
    "    <p><b>Exercise:</b></p>\n",
    "    <p><b><i>Given</i></b>: A collection of DNA strings of at most 1 kbp in FASTA format of equal length\n",
    "    <br><b><i>Return</i></b>: The consensus string and profile matrix for the collection</p>\n",
    "</div>\n",
    "\n",
    "#### Sample Dataset\n",
    "\n",
    "```\n",
    ">Rosalind_1\n",
    "ATCCAGCT\n",
    ">Rosalind_2\n",
    "GGGCAACT\n",
    ">Rosalind_3\n",
    "ATGGATCT\n",
    ">Rosalind_4\n",
    "AAGCAACC\n",
    ">Rosalind_5\n",
    "TTGGAACT\n",
    ">Rosalind_6\n",
    "ATGCCATT\n",
    ">Rosalind_7\n",
    "ATGGCACT\n",
    "```\n",
    "\n",
    "#### Sample Output\n",
    "\n",
    "```\n",
    "ATGCAACT\n",
    "A: 5 1 0 0 5 5 0 0\n",
    "C: 0 0 1 4 2 0 6 1\n",
    "G: 1 1 6 3 0 1 0 0\n",
    "T: 1 5 0 0 0 1 1 6\n",
    "```"
   ]
  },
  {
   "cell_type": "code",
   "execution_count": null,
   "metadata": {},
   "outputs": [],
   "source": []
  },
  {
   "cell_type": "markdown",
   "metadata": {},
   "source": [
    "---\n",
    "\n",
    "### [Open Reading Frames](http://rosalind.info/problems/orf/)\n",
    "\n",
    "<div class=\"alert alert-block alert-success\">\n",
    "    <p><b>Exercise:</b></p>\n",
    "    <p><b><i>Given</i></b>: A DNA string, <code>s</code>, of at most 1 kbp in FASTA format\n",
    "    <br><b><i>Return</i></b>: Every distinct candidate protein string that can be translated from ORFs of <code>s</code>. Strings can be returned in any order.</p>\n",
    "</div>\n",
    "\n",
    "#### Sample Dataset\n",
    "\n",
    "```\n",
    ">Rosalind_99\n",
    "AGCCATGTAGCTAACTCAGGTTACATGGGGATGACCCCGCGACTTGGATTAGAGTCTCTTTTGGAATAAGCCTGAATGATCCGAGTAGCATCTCAG\n",
    "```\n",
    "\n",
    "#### Sample Output\n",
    "\n",
    "```\n",
    "MLLGSFRLIPKETLIQVAGSSPCNLS\n",
    "M\n",
    "MGMTPRLGLESLLE\n",
    "MTPRLGLESLLE\n",
    "```"
   ]
  },
  {
   "cell_type": "code",
   "execution_count": null,
   "metadata": {},
   "outputs": [],
   "source": []
  }
 ],
 "metadata": {
  "kernelspec": {
   "display_name": "Python 3",
   "language": "python",
   "name": "python3"
  },
  "language_info": {
   "codemirror_mode": {
    "name": "ipython",
    "version": 3
   },
   "file_extension": ".py",
   "mimetype": "text/x-python",
   "name": "python",
   "nbconvert_exporter": "python",
   "pygments_lexer": "ipython3",
   "version": "3.8.6"
  }
 },
 "nbformat": 4,
 "nbformat_minor": 4
}
