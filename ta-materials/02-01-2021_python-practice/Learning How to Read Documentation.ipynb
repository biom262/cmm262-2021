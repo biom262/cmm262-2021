{
 "cells": [
  {
   "cell_type": "markdown",
   "metadata": {},
   "source": [
    "# A Quick Primer on Learning How to Read Documentation\n",
    "\n",
    "**Author:** Michelle Franc Ragsac (mragsac@eng.ucsd.edu)\n",
    "\n",
    "This notebook contains some tricks and tips for what I do when I want to try and understand some documentation for a tool or programming package that I want to use! I've also included some practice problems for you to fill out to get the hang of reading documentation to solve them."
   ]
  },
  {
   "cell_type": "markdown",
   "metadata": {},
   "source": [
    "---\n",
    "\n",
    "## Why learn how to read documentation?\n",
    "\n",
    "For this course, even though we're giving you many tools and tricks for how to program in Python and how to use other Bioinformatics packages, we don't give you *everything* there is to know about a particular toolkit! We've just given you a tutorial of all of the basic functionality that you can do with tools such as `scanpy`, `pandas`, `seaborn`, and even built-in functions for Python. Additionally, most of the tutorials on the web only show you a sneak peak of what different tools are capable of! Thus, it's important that you gain some confidence in being able to look up the documentation for a package you want to use and figure out how to use it yourself--this is something that bioinformaticians often do when trying to complete your analyses. \n",
    "\n",
    "---\n",
    "\n",
    "## Where can I find the documentation for the tool that I'm using? \n",
    "\n",
    "Often, you can do a quick Google search to find the *official* website for the tool that you want to use. For example, here are some official documentation websites for the tools that we've covered in class so far: \n",
    "\n",
    "> *General Documentation for Programming Packages:*\n",
    "> \n",
    "> * **Python 3 Documentation Website**: https://docs.python.org/3/ \n",
    "> * **R Manuals** from the R Development Core Team: https://cran.r-project.org/manuals.html \n",
    "> ---\n",
    "> *Documentation of Packages offered in Python:*\n",
    ">\n",
    "> * **`matplotlib` Documentation Website**: https://matplotlib.org/contents.html\n",
    "> * **`pandas` Documentation Website**: https://pandas.pydata.org/docs/\n",
    "> * **`numpy` Documentation Website**: https://numpy.org/doc/stable/\n",
    "> * **`seaborn` Documentation Website**: https://seaborn.pydata.org/api.html\n",
    "> * **`scipy` Documentation Website**: https://docs.scipy.org/doc/scipy/reference/\n",
    "> * **`scanpy` Documentation Website**: https://scanpy.readthedocs.io/en/stable/\n",
    "\n",
    "### What if the package I want to use doesn't have a documentation website? \n",
    "\n",
    "While some packages may not have official documentation websites like the ones linked above, sometimes, you might be able to find their help documents through third-party resources or built-in manual (man) or help documentation that is installed along with the software! \n",
    "\n",
    "For example, the [`rdrr.io`](https://rdrr.io/) site contains a comprehensive index of R packages and documentation sourced from: \n",
    "\n",
    "* **CRAN** (The Comprehensive R Archive Network, https://cran.r-project.org/), \n",
    "* **Bioconductor** (A project dedicated to curating bioinformatics software tools in the form of R packages, https://bioconductor.org/about/), \n",
    "* **GitHub** (A code hosting platform for version control and collaboration, https://github.com/), and \n",
    "* **R-Forge** (A FusionForge-based platform for the development of R packages and R-related software, https://bioconductor.org/about/). \n",
    "\n",
    "<div class=\"alert alert-block alert-info\">\n",
    "    <p><code>rdrr.io</code> also contains an easy-to-navigate listing of the documentation, such as the functions and how to use them, for tools such as <code>DESeq2</code>: <a href=\"https://rdrr.io/github/scottzijiezhang/RADAR/man/DESeq2.html\">https://rdrr.io/github/scottzijiezhang/RADAR/man/DESeq2.html</a></p>\n",
    "</div>\n",
    "\n",
    "<div class=\"alert alert-block alert-info\">\n",
    "    <p>If you're interested in learning how to use particular tools on the <b>UNIX command line</b>, you can find their documentation using the <code>man</code> command or <code>--help/-h</code> parameter (e.g., <code>man ls</code> provides the manual and documentation for the <code>ls</code> command, and <code>rsync --help</code> provides the documentation for the <code>rsync</code> command).</p>\n",
    "    <p>I also recommend looking at the documentation provided online by the GNU Project with regards to its included software: <a href=\"https://www.gnu.org/software/software.html\">https://www.gnu.org/software/software.html</a>. GNU is a 100% operating system and usually forms the core of Linux-based operating systems. It includes free software tools, including command-line tools, for copying software, checking email, etc. Their website has the documentation for many of the UNIX command-line tools that we've covered in this class!</p>\n",
    "</div>\n",
    "\n",
    "### Where should I go if a package isn't well documented?\n",
    "\n",
    "It is important to note that sometimes, the documentation for a package or software tool isn't what we call *well-documented*: it's hard to read, hard to understand, hard to use, or even inaccurate in some cases! For these instances, it does help to **talk to others that you know have used the tool** to get a sense of what you need to do for your own use-cases!\n",
    "\n",
    "Here's a set of steps that I generally follow when I can't get a tool working the way I like it: \n",
    "\n",
    "1. **Re-read my code to make sure that I don't have any errors**: I usually check if I spelled things properly and that I have the proper syntax for what I'm trying to do! Sometimes it's a silly error on my part that doesn't seem to make sense. \n",
    "2. **Re-read the documentation to make sure that I'm using the functions properly**: There have been many times when a function that I'm using isn't being used correctly or with the proper parameters! In these cases, it's always good to check back with the documentation to see if I'm using the software package the way that it was intended. \n",
    "3. **Talk to other computational students or people that have used the tool or helped install it**: At this point, I usually ask people I know if they've used the tool that I'm interested in using--often, people have tips and tricks for how they get things working and that's helpful to know! I've also chatted with the `sysadmin` or people in-charge of installing a given tool on the compute cluster that I've used! \n",
    "6. **Consult online forums and messaging boards to see if somebody ran into a similar issue**: If nobody I know has used the tool before and I can't find any resources or tutorials online with the functionality I'm trying to use, I try to see if people have run into *similar* issues. For this step, there are online forums that are helpful to search for bioinformatics support:\n",
    "\n",
    "    * **GitHub** (https://github.com/): If the tool that you're using has a `GitHub` page, you can navigate to the `Issues` that are present with the tool and search for the method that you're using. Sometimes, the method itself has a bug that hasn't been resolved in the version you're trying to use, or another user has already posted about the issue! You can also post issues yourself to be looked at by the package's developers! \n",
    "    * **Google Groups**: Some tools have a dedicated Google Groups community set-up for their tools; these groups function as an email listserv where you can both provide questions and answers for a specific toolset (e.g., some examples are the R packages for single-cell analysis, `Monocle` and `Garnet` developed by Cole Trapnell, Ph.D.'s group at the University of Washington).\n",
    "    * **Biostars** (https://www.biostars.org/): Biostars is a relatively active online community for bioinformatics questions and can be helpful, *especially* for older tools such as `samtools`, `fastqc`, and `DESeq2` that have existed in the community for a while. \n",
    "    * **Bioinformatics StackExchange** (https://bioinformatics.stackexchange.com/): The Bioinformatics StackExchange is similar to StackOverflow but is more focused around bioinformatics questions--from the very general to conceptual to tool-specific! \n",
    "    * **StackOverflow** (https://stackoverflow.com/): StackOverflow is an online community for anybody that programs! While most of the questions concern general programming questions, sometimes, bioinformatics tools are mentioned! \n",
    "    * **`/r/bioinformatics` Subreddit** (https://www.reddit.com/r/bioinformatics/): The Bioinformatics subreddit community is a general community for people interested in bioinformatics. While there aren't many tool-related posts, they do have general resources available and lively discussions. \n",
    "    * **SEQanswers** (http://seqanswers.com/): SEQanswers is an online forum for next-generation sequencing data analysis that is slowly going out of use, but can be helpful for older tools, especially `samtools`, and learning about concepts that have existed in NGS for a while (e.g., quality scoring metrics).\n",
    "\n",
    "6. **Contact the tool developers**: Generally as a last method, I contact the developers of the tool via email to see if I can get in contact with somebody that has used the tool that I'm interested in. I've only gotten to this case once--and it turns out that the tool they published online wasn't fully ready for others to use, leading to many issues with the funcation calls I was making! \n",
    "\n",
    "Ultimately, learning how to diagnose how to use a tool and where to go is trial and error! It can be frustrating, unfortunately, but reading the documentation and learning how to interpret it can help resolve most issues you run into! \n",
    "\n",
    "---"
   ]
  },
  {
   "cell_type": "markdown",
   "metadata": {},
   "source": [
    "## Practice Exercises\n",
    "\n",
    "With these next few problems, I'll be asking you to generate some simple code that will require you to read the documentation for some tools that we've gone over in class! We'll be using a built-in dataset that is pre-installed with the `seaborn` library so you don't have to worry about importing anything. \n",
    "\n",
    "### Import Necessary Packages and Datasets of Interest\n",
    "\n",
    "Within this section, we'll be using the `pandas` library to evaluate the `diamonds` dataset that is pre-loaded into the `seaborn` package! "
   ]
  },
  {
   "cell_type": "code",
   "execution_count": null,
   "metadata": {},
   "outputs": [],
   "source": [
    "import pandas as pd \n",
    "import seaborn as sns "
   ]
  },
  {
   "cell_type": "code",
   "execution_count": null,
   "metadata": {},
   "outputs": [],
   "source": [
    "# Load in and preview the diamonds dataset from seaborn using load_dataset()\n",
    "# (You can find more built-in datasets for seaborn here: https://github.com/mwaskom/seaborn-data)\n",
    "diamonds = sns.load_dataset('diamonds')\n",
    "diamonds.head() "
   ]
  },
  {
   "cell_type": "markdown",
   "metadata": {},
   "source": [
    "---\n",
    "\n",
    "<div class=\"alert alert-block alert-success\">\n",
    "    <p><b>Exercise 1:</b> Generate descriptive statistics of the <code>diamonds</code> object using a single command across all columns using the 30th, 60th, and 90th percentiles.</p>\n",
    "    <p><i>Hint:</i> We used a command in one of the first notebooks of this class to learn how to <i>describe</i> the basic statistics of a dataset's distribution in Python!</p>\n",
    "</div>"
   ]
  },
  {
   "cell_type": "code",
   "execution_count": null,
   "metadata": {},
   "outputs": [],
   "source": [
    "# TODO"
   ]
  },
  {
   "cell_type": "markdown",
   "metadata": {},
   "source": [
    "<div class=\"alert alert-block alert-success\">\n",
    "    <p><b>Exercise 2:</b> Print a concise summary of the <code>diamonds</code> object, but do not show per-column information nor memory usage information.</p>\n",
    "    <p><i>Hint:</i> We used a command in one of the first notebooks of this class to learn how to gather <i>information</i> about a dataset in Python!</p>\n",
    "</div>"
   ]
  },
  {
   "cell_type": "code",
   "execution_count": null,
   "metadata": {},
   "outputs": [],
   "source": [
    "# TODO"
   ]
  },
  {
   "cell_type": "markdown",
   "metadata": {},
   "source": [
    "<div class=\"alert alert-block alert-success\">\n",
    "    <p><b>Exercise 3:</b> Group the <code>diamonds</code> object by the <code>cut</code> and <code>color</code> attributes to calculate the mean price per cut of a diamond</p>\n",
    "    <p><i>Hint:</i> You can use the <code>DataFrame.groupby()</code> function for this answer!</p>\n",
    "</div>"
   ]
  },
  {
   "cell_type": "code",
   "execution_count": null,
   "metadata": {},
   "outputs": [],
   "source": [
    "# TODO"
   ]
  },
  {
   "cell_type": "markdown",
   "metadata": {},
   "source": [
    "<div class=\"alert alert-block alert-success\">\n",
    "    <p><b>Exercise 4:</b> Calculate the <b>Spearman</b> correlation between all columns of the <code>diamonds</code> object</p>\n",
    "</div>"
   ]
  },
  {
   "cell_type": "code",
   "execution_count": null,
   "metadata": {},
   "outputs": [],
   "source": [
    "# TODO"
   ]
  },
  {
   "cell_type": "markdown",
   "metadata": {},
   "source": [
    "<div class=\"alert alert-block alert-success\">\n",
    "    <p><b>Exercise 5:</b> Generate several purple-colored histograms (with a bin size of fifteen) of the <code>diamonds</code> object with a <b>single</b> function call of the <code>carat</code>, <code>depth</code>, <code>price</code>, and <code>table</code> attributes. <br>Please place all of the plots within a single row (that is, a 1 x 4 grid) without any gridlines present. Finally, the width of the figure size should be four times the height of the figure.</p>\n",
    "</div>"
   ]
  },
  {
   "cell_type": "code",
   "execution_count": null,
   "metadata": {},
   "outputs": [],
   "source": [
    "# TODO"
   ]
  }
 ],
 "metadata": {
  "kernelspec": {
   "display_name": "Python 3",
   "language": "python",
   "name": "python3"
  },
  "language_info": {
   "codemirror_mode": {
    "name": "ipython",
    "version": 3
   },
   "file_extension": ".py",
   "mimetype": "text/x-python",
   "name": "python",
   "nbconvert_exporter": "python",
   "pygments_lexer": "ipython3",
   "version": "3.8.6"
  }
 },
 "nbformat": 4,
 "nbformat_minor": 4
}
