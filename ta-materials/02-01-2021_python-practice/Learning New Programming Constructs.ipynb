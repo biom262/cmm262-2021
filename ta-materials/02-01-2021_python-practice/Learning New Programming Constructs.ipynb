{
 "cells": [
  {
   "cell_type": "markdown",
   "metadata": {},
   "source": [
    "# Tracing Through Code in Python\n",
    "\n",
    "**Author:** Michelle Franc Ragsac (mragsac@eng.ucsd.edu)\n",
    "\n",
    "There are four steps that are important for learning any programming language, including: \n",
    "\n",
    "1. **Learning how to read code by performing variable and code traces**, or following the steps that a computer would take to execute code \n",
    "2. **Writing code from *pseudocode***, plain language descriptions of the steps in an algorithm that is meant to be human-readable \n",
    "3. **Learning how to read code templates**, such as the example code we've provided in class \n",
    "4. **Applying code templates to unique problems**, such as modifying the example code we've applied in class with your own variable values\n",
    "\n",
    "During this class, we've performed a lot of the last two steps, learning how to read code templates and apply them to specific problems, however, this notebook will focus on the first two steps as they're fundamental skills for understanding what a given program is doing, as well as for debugging a certain code block. "
   ]
  },
  {
   "cell_type": "markdown",
   "metadata": {},
   "source": [
    "---\n",
    "\n",
    "## Background to Code Tracing: Learning How to Read Code like a Computer\n",
    "\n",
    "Code tracing is a method where a programmer uses pencil and paper--or mentally--to hand-trace the execution of a program or block of code in order to track how variable values change during execution and to also determine the output of the given section of code. Code tracing is an effective way to troubleshoot errors across all programing languages, learn how a program functions, as well as get familiar with the syntax with a given programming language! \n",
    "\n",
    "<div class=\"alert alert-block alert-info\">\n",
    "    <p>Tracing code is a <i>different</i> skill from writing code and should be mastered before attempting to write code from scratch! Before you're able to write original code, you should be able to predict the behavior of code for the language that you're interested in.</p>\n",
    "</div>\n",
    "\n",
    "There are two tracing skills that are important for interpreting what a given segment of code is doing: \n",
    "\n",
    "1. **Variable Tracing** is where you trace the value stored within variables as a segment of code is executed, line-by-line \n",
    "2. **Program Tracing** is where you track the *flow* of a program, especially in learning when loops start and execute or when conditional code blocks are executed\n",
    "\n",
    "### Code Tracing Example\n",
    "\n",
    "Within this section of the notebook, I'll be going through a small segment of code and how I would trace through it, line-by-line. I would like to determine what value is displayed at the end of the following code block: \n",
    "\n",
    "```python\n",
    "n = 1729 \n",
    "total = 0 \n",
    "while n>0:\n",
    "    digit = int(n % 10)\n",
    "    total = total + digit \n",
    "    n = int(n/10) \n",
    "print(total)\n",
    "```\n",
    "\n",
    "#### Code Tracing Methodology \n",
    "\n",
    "While I don't have a sheet of paper, here are the steps that I went through to figure out what the final output would be: \n",
    "\n",
    "1. It seems like from this code block, there are three variables present, `n`, `total`, and `digit`\n",
    "2. The first two variables, `n` and `total` are initialized with `1729` and `0`, respectively before we reach the while-loop\n",
    "3. Because `n=1729` is greater than 0, we enter the while-loop : \n",
    "    1. The variable `digit` is set to `1729 % 10 = 9` (remember, the modulo (`%`) operator calculates the remainder after division)\n",
    "    2. The variable `total` is then set to `0 + 9 = 9` \n",
    "    3. The variable `n` is set to `1729/10 = 172` \n",
    "4. We then check the loop condition again; because `n=172` is greater than 0, we enter the while-loop a second time: \n",
    "    1. The variable `digit` is set to `172 % 10 = 2` \n",
    "    2. The variable `total` is then set to `9 + 2 = 11` \n",
    "    3. The variable `n` is set to `172/10 = 17` \n",
    "5. We then check the loop condition again; because `n=17` is greater than 0, we enter the while-loop a third time: \n",
    "    1. The variable `digit` is set to `17 % 10 = 7`\n",
    "    2. The variable `total` is then set to `11 + 7 = 18`\n",
    "    3. The variable `n` is set to `17/10 = 1`\n",
    "6. We then check the loop condition again; because `n=1` is greater than 0, we enter the while-loop a fourth time: \n",
    "    1. The variable `digit` is set to `1 % 10 = 1`\n",
    "    2. The variable `total` is then set to `18 + 1 = 19`\n",
    "    3. The variable `n` is set to `1/10 = 0`\n",
    "7. We then check the loop condition again; because `n=0` is **not** greater than 0, we end the while-loop \n",
    "8. We then print the value of `total`, which should be `19` \n",
    "\n",
    "#### What was the point of that exercise? \n",
    "\n",
    "This might be you at the moment: \n",
    "\n",
    "> *The code segment we went through above was super simple! We could have just ran the code manually!* \n",
    "\n",
    "However, code tracing does more than just understand code that works correctly; it can also be used to **find errors** within your existing code. When your code behaves in ways that you wouldn't expect, it's helpful to trace through the variables and program flow to see what is being executed line-by-line to track where the issue might lie. \n",
    "\n",
    "But for fun, the code block below has the code that we traced through above: "
   ]
  },
  {
   "cell_type": "code",
   "execution_count": null,
   "metadata": {},
   "outputs": [],
   "source": [
    "n = 1729\n",
    "total = 0 \n",
    "while n>0:\n",
    "    digit = int(n % 10)\n",
    "    total = total + digit \n",
    "    n = int(n/10)\n",
    "print(total)"
   ]
  },
  {
   "cell_type": "markdown",
   "metadata": {},
   "source": [
    "As you can see, we were able to get the value that we would expect! "
   ]
  },
  {
   "cell_type": "markdown",
   "metadata": {},
   "source": [
    "---\n",
    "\n",
    "## Code Tracing Practice Problems\n",
    "\n",
    "This section contains several practice problems for tracing through code. While you can just copy and paste the code into a code block to see what the answer would be, try to see if you can determine what it is in your head or using pencil and paper to track the values of the variables line-by-line! \n",
    "\n",
    "<div class=\"alert alert-block alert-success\">\n",
    "    <p><b>Section 1:</b> Run through each segment of code below and determine what the final output would be, along with what the function is doing:</p>\n",
    "</div>"
   ]
  },
  {
   "cell_type": "markdown",
   "metadata": {},
   "source": [
    "```python\n",
    "################################################################################\n",
    "# Exercise 1\n",
    "################################################################################\n",
    "def makes10(a,b): \n",
    "    return(a == 10 or b == 10 or a+b == 10) \n",
    "\n",
    "# What is the output of makes10(10,6)? \n",
    "```"
   ]
  },
  {
   "cell_type": "code",
   "execution_count": null,
   "metadata": {},
   "outputs": [],
   "source": []
  },
  {
   "cell_type": "markdown",
   "metadata": {},
   "source": [
    "```python\n",
    "################################################################################\n",
    "# Exercise 2\n",
    "################################################################################\n",
    "def front_back(s):\n",
    "  if len(s) <= 1:\n",
    "    return(s)\n",
    "  mid = s[1:len(s)-1]  \n",
    "  return(s[len(s)-1] + mid + s[0])\n",
    "\n",
    "# What is the output of front_back(\"hello\")? \n",
    "```"
   ]
  },
  {
   "cell_type": "code",
   "execution_count": null,
   "metadata": {},
   "outputs": [],
   "source": []
  },
  {
   "cell_type": "markdown",
   "metadata": {},
   "source": [
    "```python\n",
    "################################################################################\n",
    "# Exercise 3\n",
    "################################################################################\n",
    "def missing_char(s, n):\n",
    "    b = s[:n]   \n",
    "    e = s[n+1:]  \n",
    "    return(b + e)\n",
    "\n",
    "# What is the output of missing_char(\"superduper\",5)? \n",
    "```"
   ]
  },
  {
   "cell_type": "code",
   "execution_count": null,
   "metadata": {},
   "outputs": [],
   "source": []
  },
  {
   "cell_type": "markdown",
   "metadata": {},
   "source": [
    "<div class=\"alert alert-block alert-success\">\n",
    "    <p><b>Section 2:</b> Reorder the <b>lines</b> of code provided such that the desired result is returned after running the code block.</p>\n",
    "    <p>There may be more lines than necessary; please exclude the lines that you believe do not belong in the answer to producde the desired output.</p>\n",
    "</div>\n",
    "\n",
    "<div class=\"alert alert-block alert-info\">\n",
    "    <p>This section contains something known as <i>Parsons Problems</i>, programming puzzles where you're required to rearrange code blocks to construct a program. They've been found my computer science education reserachers to be useful for learning computer science as problems that involve writing or fixing code while being more engaging (hopefully) than tracing through code manually like we did in the previous section above!</p>\n",
    "</div>"
   ]
  },
  {
   "cell_type": "markdown",
   "metadata": {},
   "source": [
    "```python\n",
    "################################################################################\n",
    "# Exercise 4\n",
    "################################################################################\n",
    "Line 1 | print(food + \" is a good choice\") \n",
    "Line 2 | food = input(\"What is your favorite food, \" + name + \"?\")\n",
    "Line 3 | name = input(\"Please enter your name:\") \n",
    "\n",
    "################################################################################\n",
    "# Desired Output\n",
    "################################################################################\n",
    "# Please enter your name: Michelle\n",
    "# What is your favorite food, Michelle? Bananas \n",
    "# Bananas is a good choice \n",
    "```"
   ]
  },
  {
   "cell_type": "code",
   "execution_count": null,
   "metadata": {},
   "outputs": [],
   "source": []
  },
  {
   "cell_type": "markdown",
   "metadata": {},
   "source": [
    "```python\n",
    "################################################################################\n",
    "# Exercise 2\n",
    "################################################################################\n",
    "Line 1 | price = 3.50\n",
    "Line 2 | quantity = 5 \n",
    "Line 3 | total = price * quantity \n",
    "Line 4 | total = price * Quantity \n",
    "Line 5 | print(total) \n",
    "Line 6 | print(\"total\") \n",
    "\n",
    "################################################################################\n",
    "# Desired Output\n",
    "################################################################################\n",
    "# 17.5\n",
    "```"
   ]
  },
  {
   "cell_type": "code",
   "execution_count": null,
   "metadata": {},
   "outputs": [],
   "source": []
  },
  {
   "cell_type": "markdown",
   "metadata": {},
   "source": [
    "```python\n",
    "################################################################################\n",
    "# Exercise 3\n",
    "################################################################################\n",
    "Line 1 | number1 = 1\n",
    "Line 2 | print(5 - number1) \n",
    "Line 3 | number2 = 2\n",
    "Line 4 | temporary = number3\n",
    "Line 5 | number1 = number2\n",
    "Line 6 | number2 = temporary\n",
    "Line 7 | number3 = 5 \n",
    "Line 8 | print(number2) \n",
    "\n",
    "################################################################################\n",
    "# Desired Output\n",
    "################################################################################\n",
    "# 5\n",
    "```"
   ]
  },
  {
   "cell_type": "code",
   "execution_count": null,
   "metadata": {},
   "outputs": [],
   "source": []
  },
  {
   "cell_type": "markdown",
   "metadata": {},
   "source": [
    "---\n",
    "\n",
    "## Background to Pseudocode: Learning How to Quickly Draft Programs \n",
    "\n",
    "While algorithms are the actual procedures for solving a given problem using a given programming language, pseudocode is an informal language that allows programmers to develop algorithms. You can think of pseudocode as a human-readable, text-based design tool for drafting out what you would like your code to do before you actually do it! Often times, algorithms within papers or other resources are represented with the help of pseudocode so that they can be interpreted by programmers regardless of their programming background or knowledge! \n",
    "\n",
    "| The Advantages of Pseudocode                                          | The Disadvantages of Pseudocode                                      | \n",
    "| ----------------------------------------------------------------------|----------------------------------------------------------------------|\n",
    "| Improves the readability of your approach to an algorithm             | Lack of a proper format or standard                                  |\n",
    "| Serves as rough documentation for what a given block of code is doing | Does not provide a visual representation of the logic of programming |\n",
    "| Explains what exactly each line of a program *should* do              | -                                                                    |\n",
    "\n",
    "<div class=\"alert alert-block alert-info\">\n",
    "    <p>Despite these pros and cons, it's generally a valuable skill to be able to read pseudocode as well as draft it yourself when you're trying to program something!</p>\n",
    "</div>\n",
    "\n",
    "### Why can't I just comment each line of code? \n",
    "\n",
    "Generally, pseudocode comes *before* you draft an actual program while commenting comes *after* or *during* the time a given program is implemented; commenting your code serves as the internal documentation for what your software does. Pseudocode is useful because it helps you generate a detailed plan for what you would like a given block of code to do and usually doesn't incorporate any language-specific syntax! \n",
    "\n",
    "--- \n",
    "\n",
    "## Pseudocode Practice Problems \n",
    "\n",
    "The best way to learn how to write pseudocode is to go through examples!\n",
    "\n",
    "<div class=\"alert alert-block alert-success\">\n",
    "    <p><b>Exercise 1:</b> Write pseudocode that takes in two numbers and multiplies them together and prints out their product.</p>\n",
    "</div>"
   ]
  },
  {
   "cell_type": "code",
   "execution_count": null,
   "metadata": {},
   "outputs": [],
   "source": [
    "################################################################################\n",
    "# Exercise 1: Pseudocode \n",
    "################################################################################\n",
    "\n",
    "\n",
    "################################################################################\n",
    "# Exercise 1: Implementation\n",
    "################################################################################\n"
   ]
  },
  {
   "cell_type": "markdown",
   "metadata": {},
   "source": [
    "<div class=\"alert alert-block alert-success\">\n",
    "    <p><b>Exercise 2:</b> Write pseudocode that tells a user if number they inputted is not a 5 or 6.</p>\n",
    "</div>"
   ]
  },
  {
   "cell_type": "code",
   "execution_count": null,
   "metadata": {},
   "outputs": [],
   "source": [
    "################################################################################\n",
    "# Exercise 2: Pseudocode \n",
    "################################################################################\n",
    "\n",
    "\n",
    "################################################################################\n",
    "# Exercise 2: Implementation\n",
    "################################################################################\n"
   ]
  },
  {
   "cell_type": "markdown",
   "metadata": {},
   "source": [
    "<div class=\"alert alert-block alert-success\">\n",
    "    <p><b>Exercise 3:</b> Write pseudocode that:</p>\n",
    "    <ul>\n",
    "        <li>Ask the user to enter a number</li>\n",
    "        <li>If the number is between 0 and 10, print the word <code>blue</code></li>\n",
    "        <li>If the number is between 10 and 20, print the word <code>red</code></li>\n",
    "        <li>If the number is between 20 and 30, print the word <code>green</code></li>\n",
    "        <li>If the number is any other number, print <code>Incorrect color option</code></li>\n",
    "    </ul>\n",
    "</div>"
   ]
  },
  {
   "cell_type": "code",
   "execution_count": null,
   "metadata": {},
   "outputs": [],
   "source": [
    "################################################################################\n",
    "# Exercise 3: Pseudocode \n",
    "################################################################################\n",
    "\n",
    "\n",
    "################################################################################\n",
    "# Exercise 3: Implementation\n",
    "################################################################################\n"
   ]
  },
  {
   "cell_type": "markdown",
   "metadata": {},
   "source": [
    "---\n",
    "\n",
    "## References\n",
    "\n",
    "### Tracing Code\n",
    "\n",
    "* Background on Code Tracing: https://microcredentials.digitalpromise.org/explore/code-tracing\n",
    "* Additional Background on Code Tracing: https://levelup.gitconnected.com/how-to-learn-to-program-variable-and-program-tracing-f8249d997c5c\n",
    "* Code Tracing Example: https://maryash.github.io/135/worked_examples/Homework%204.2.pdf\n",
    "* Example Python Programming Problems: https://codingbat.com/python/Warmup-1\n",
    "* Parson's Problems Examples: https://www.futurelearn.com/info/courses/secondary-programming-pedagogy/0/steps/68422\n",
    "\n",
    "### Pseudocode \n",
    "\n",
    "* Information on Pseudocode: https://cs50.harvard.edu/ap/2020/assets/pdfs/pseudocode.pdf\n",
    "* Beginner's Guide to Pseudocode: https://blog.usejournal.com/how-to-write-pseudocode-a-beginners-guide-29956242698\n",
    "* Khan Academy Video on Pseudocode: https://www.khanacademy.org/computing/computer-programming/programming/good-practices/pt/planning-with-pseudo-code\n",
    "* Pseudocode Practice Problems: https://computersciencewiki.org/images/e/ea/Pseudo_Code_Practice_Problems.pdf"
   ]
  }
 ],
 "metadata": {
  "kernelspec": {
   "display_name": "Python 3",
   "language": "python",
   "name": "python3"
  },
  "language_info": {
   "codemirror_mode": {
    "name": "ipython",
    "version": 3
   },
   "file_extension": ".py",
   "mimetype": "text/x-python",
   "name": "python",
   "nbconvert_exporter": "python",
   "pygments_lexer": "ipython3",
   "version": "3.8.6"
  }
 },
 "nbformat": 4,
 "nbformat_minor": 4
}
