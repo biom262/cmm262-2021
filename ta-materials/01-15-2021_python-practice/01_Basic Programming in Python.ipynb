{
 "cells": [
  {
   "cell_type": "markdown",
   "metadata": {},
   "source": [
    "# CMM262 Programming Practice Problems in Python, Part 1\n",
    "\n",
    "**Author:** Michelle Franc Ragsac (mragsac@eng.ucsd.edu)\n",
    "\n",
    "This notebook contains some introductory exercises to basic concepts of programming, specifically for the Python programming language. \n",
    "\n",
    "> * Adapted from BISB Bootcamp 2020 Day 4, Module 6: Pair Programming materials: https://github.com/mragsac/BISB-Bootcamp-2020/tree/master/day4/module6_pair-programming\n",
    "> * Many of these exercises (and more!) can be found through the Rosalind \"Python Village\" resource: http://rosalind.info/problems/list-view/?location=python-village\n",
    "\n",
    "---\n",
    "\n",
    "### [Variables and Some Arithmetic](http://rosalind.info/problems/ini2/)\n",
    "\n",
    "#### Learning Goals \n",
    "- Store values into `variables` \n",
    "- Learn about variable `types`, such as `int`, `float`, and `str` objects in Python\n",
    "\n",
    "#### What are primitive types? \n",
    "\n",
    "*Primitive types* are the basic building blocks of a programming language. Examples in Python include:\n",
    "\n",
    "- **`int`** objects (otherwise known as *integers*), for integers between -2 billion and 2 billion\n",
    "- **`float`** objects for numbers with a decimal present \n",
    "- **`bool`** objects (otherwise known as *booleans*), can have a value of either `True` or `False`\n",
    "- **`str`** objects (otherwise known as *strings*) for sequences of alphanumeric characters\n",
    "- **`None`** \n",
    "\n",
    "<div class=\"alert alert-block alert-success\">\n",
    "    <p><b>Exercise:</b></p>\n",
    "    <p><b><i>Given</i></b>: Two positive integers, <code>a</code> and <code>b</code>, that are each less than 1,000\n",
    "    <br><b><i>Return</i></b>: The integer corresponding to the square of the hypotenuse of the right triangle whose legs have lengths <code>a</code> and <code>b</code></p>\n",
    "</div>"
   ]
  },
  {
   "cell_type": "code",
   "execution_count": null,
   "metadata": {},
   "outputs": [],
   "source": []
  },
  {
   "cell_type": "markdown",
   "metadata": {},
   "source": [
    "---\n",
    "\n",
    "### [Strings and Lists](http://rosalind.info/problems/ini3/)\n",
    "\n",
    "#### Learning Goals \n",
    "- Gain some familiarity with `list` objects in Python\n",
    "\n",
    "#### What are data structures?\n",
    "\n",
    "*Data Structures* are ways of organizing, collecting, and manipulating the primitive types. Some common and useful ones in Python are:\n",
    "\n",
    "- **`list`** data structures (denoted with `[]`) for ordered sequences\n",
    "- **`str`** data structures (denoted with `\"\"`) for ordered sequences of alphanumeric characters (can often do list operations on strings)\n",
    "- **`dict`** data structures (denoted with `{key: value}`) for indexed pairs of {lookup index, value}\n",
    "\n",
    "<div class=\"alert alert-block alert-success\">\n",
    "    <p><b>Exercise:</b></p>\n",
    "    <p><b><i>Given</i></b>: A string, <code>s</code>, of length of at most 200 characters, as well as four integers, <code>a</code>, <code>b</code>, <code>c</code>, and <code>d</code>\n",
    "    <br><b><i>Return</i></b>: The slice of this string from indices <code>a</code> through <code>b</code> and <code>ac</code> through <code>d</code> with a space in between each inclusive slice. In other words, we should include elements <code>s[b]</code> and <code>s[d]</code> in our slice</p>\n",
    "</div>"
   ]
  },
  {
   "cell_type": "code",
   "execution_count": null,
   "metadata": {},
   "outputs": [],
   "source": []
  },
  {
   "cell_type": "markdown",
   "metadata": {},
   "source": [
    "---\n",
    "\n",
    "### [Conditions and Loops](http://rosalind.info/problems/ini4/)\n",
    "\n",
    "#### Learning Goals \n",
    "- Learn about how *control flow* can be used to dictate how often a piece of code runs\n",
    "\n",
    "#### What are conditional statements?\n",
    "\n",
    "*Conditional Statements* set up conditions in your code that could either be `True` or `False`. They often appear in Python through `if`, `elif`, or `else` statements. \n",
    "\n",
    "#### What are loops? \n",
    "\n",
    "*Loops* are control structures that are used to repeat a given section of code a certain number of times or until a particular condition is met. Within Python, there are two types of loops that are ecommonly used, `for loop` that are used for iterating over a sequence, or `while loop` that are used to execute a block of code repeatedly until a given condition is satisfied. \n",
    "\n",
    "<div class=\"alert alert-block alert-success\">\n",
    "    <p><b>Exercise:</b></p>\n",
    "    <p><b><i>Given</i></b>: Two positive integers, <code>a</code> and <code>b</code>, that are each less than 10,000\n",
    "    <br><b><i>Return</i></b>: The sum of all <i>odd</i> integers from <code>a</code> through <code>b</code>, inclusively</p>\n",
    "</div>"
   ]
  },
  {
   "cell_type": "code",
   "execution_count": null,
   "metadata": {},
   "outputs": [],
   "source": []
  },
  {
   "cell_type": "markdown",
   "metadata": {},
   "source": [
    "---\n",
    "\n",
    "### [Dictionaries](http://rosalind.info/problems/ini6/)\n",
    "\n",
    "#### Learning Goals \n",
    "- Become familiar with the `dict` data structure in Python\n",
    "\n",
    "#### What are dictionaries?\n",
    "\n",
    "*Dictionaries* (`dict`) are another basic data structure common to many languages, including Python. A dictionary allows you to take any *value*, and assign it a unique lookup index, or *key*. You can then look up this value, using the key, very efficiently using the `dict` object. You can store anything in the value: a `str`, a `list`, even another `dict`!\n",
    "\n",
    "<div class=\"alert alert-block alert-success\">\n",
    "    <p><b>Exercise:</b></p>\n",
    "    <p><b><i>Given</i></b>: A string, <code>s</code>, with a maximum length of 10,000 characters\n",
    "    <br><b><i>Return</i></b>: The number of occurences of each word in <code>s</code>, where words are separated by spaces. Words are case-sensitive, and the lines in the output can be in any order.</p>\n",
    "</div>"
   ]
  },
  {
   "cell_type": "code",
   "execution_count": null,
   "metadata": {},
   "outputs": [],
   "source": []
  }
 ],
 "metadata": {
  "kernelspec": {
   "display_name": "Python 3",
   "language": "python",
   "name": "python3"
  },
  "language_info": {
   "codemirror_mode": {
    "name": "ipython",
    "version": 3
   },
   "file_extension": ".py",
   "mimetype": "text/x-python",
   "name": "python",
   "nbconvert_exporter": "python",
   "pygments_lexer": "ipython3",
   "version": "3.9.1"
  }
 },
 "nbformat": 4,
 "nbformat_minor": 4
}
