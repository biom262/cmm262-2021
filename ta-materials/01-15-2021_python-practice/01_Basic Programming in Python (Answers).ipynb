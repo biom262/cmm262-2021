{
 "cells": [
  {
   "cell_type": "markdown",
   "metadata": {},
   "source": [
    "# CMM262 Programming Practice Problems in Python, Part 1\n",
    "\n",
    "**Author:** Michelle Franc Ragsac (mragsac@eng.ucsd.edu)\n",
    "\n",
    "This notebook contains some introductory exercises to basic concepts of programming, specifically for the Python programming language. \n",
    "\n",
    "> * Adapted from BISB Bootcamp 2020 Day 4, Module 6: Pair Programming materials: https://github.com/mragsac/BISB-Bootcamp-2020/tree/master/day4/module6_pair-programming\n",
    "> * Many of these exercises (and more!) can be found through the Rosalind \"Python Village\" resource: http://rosalind.info/problems/list-view/?location=python-village\n",
    "\n",
    "---\n",
    "\n",
    "### [Variables and Some Arithmetic](http://rosalind.info/problems/ini2/)\n",
    "\n",
    "#### Learning Goals \n",
    "- Store values into `variables` \n",
    "- Learn about variable `types`, such as `int`, `float`, and `str` objects in Python\n",
    "\n",
    "#### What are primitive types? \n",
    "\n",
    "*Primitive types* are the basic building blocks of a programming language. Examples in Python include:\n",
    "\n",
    "- **`int`** objects (otherwise known as *integers*), for integers between -2 billion and 2 billion\n",
    "- **`float`** objects for numbers with a decimal present \n",
    "- **`bool`** objects (otherwise known as *booleans*), can have a value of either `True` or `False`\n",
    "- **`str`** objects (otherwise known as *strings*) for sequences of alphanumeric characters\n",
    "- **`None`** \n",
    "\n",
    "<div class=\"alert alert-block alert-success\">\n",
    "    <p><b>Exercise:</b></p>\n",
    "    <p><b><i>Given</i></b>: Two positive integers, <code>a</code> and <code>b</code>, that are each less than 1,000\n",
    "    <br><b><i>Return</i></b>: The integer corresponding to the square of the hypotenuse of the right triangle whose legs have lengths <code>a</code> and <code>b</code></p>\n",
    "</div>"
   ]
  },
  {
   "cell_type": "code",
   "execution_count": 1,
   "metadata": {},
   "outputs": [
    {
     "name": "stdout",
     "output_type": "stream",
     "text": [
      "For a right triangle with legs of length a=500 and b=400, the hypotenuse is of length c=640.3124237432849\n"
     ]
    }
   ],
   "source": [
    "# 1. Start by initializing the variables a and b and assigning some values to them\n",
    "a = 500\n",
    "b = 400\n",
    "\n",
    "# 2. Perform some arithmetic to calculate the hypotenuse \n",
    "a_squared = a ** 2 \n",
    "b_squared = b ** 2 \n",
    "c_squared = a_squared + b_squared \n",
    "c = c_squared ** (1/2)\n",
    "\n",
    "# 3. Print out the answer \n",
    "print(f\"For a right triangle with legs of length a={a} and b={b}, the hypotenuse is of length c={c}\")"
   ]
  },
  {
   "cell_type": "markdown",
   "metadata": {},
   "source": [
    "---\n",
    "\n",
    "### [Strings and Lists](http://rosalind.info/problems/ini3/)\n",
    "\n",
    "#### Learning Goals \n",
    "- Gain some familiarity with `list` objects in Python\n",
    "\n",
    "#### What are data structures?\n",
    "\n",
    "*Data Structures* are ways of organizing, collecting, and manipulating the primitive types. Some common and useful ones in Python are:\n",
    "\n",
    "- **`list`** data structures (denoted with `[]`) for ordered sequences\n",
    "- **`str`** data structures (denoted with `\"\"`) for ordered sequences of alphanumeric characters (can often do list operations on strings)\n",
    "- **`dict`** data structures (denoted with `{key: value}`) for indexed pairs of {lookup index, value}\n",
    "\n",
    "<div class=\"alert alert-block alert-success\">\n",
    "    <p><b>Exercise:</b></p>\n",
    "    <p><b><i>Given</i></b>: A string, <code>s</code>, of length of at most 200 characters, as well as four integers, <code>a</code>, <code>b</code>, <code>c</code>, and <code>d</code>\n",
    "    <br><b><i>Return</i></b>: The slice of this string from indices <code>a</code> through <code>b</code> and <code>ac</code> through <code>d</code> with a space in between each inclusive slice. In other words, we should include elements <code>s[b]</code> and <code>s[d]</code> in our slice</p>\n",
    "</div>"
   ]
  },
  {
   "cell_type": "code",
   "execution_count": 2,
   "metadata": {},
   "outputs": [
    {
     "name": "stdout",
     "output_type": "stream",
     "text": [
      "String Contents: abcdefghijklmnopqrstuvwxyz\n",
      "\n",
      "Slice 1 from positions a=1 to b=10, inclusive:\tbcdefghijk\n",
      "Slice 2 from positions c=15 to d=25, inclusive:\tpqrstuvwxyz\n",
      "\n",
      "The final result with a space separating the slices: bcdefghijk pqrstuvwxyz\n"
     ]
    }
   ],
   "source": [
    "# 1. Start by defining the string that we want to slice \n",
    "s = \"abcdefghijklmnopqrstuvwxyz\"\n",
    "\n",
    "# 2. Next, define the four integers that we want to use for our slicing \n",
    "a = 1\n",
    "b = 10\n",
    "c = 15\n",
    "d = 25\n",
    "\n",
    "# 3. Perform the slicing, remembering to be inclusive\n",
    "a_to_b = s[a:b+1]\n",
    "c_to_d = s[c:d+1]\n",
    "\n",
    "# 4. Return the answer by printing it out \n",
    "print(f\"String Contents: {s}\\n\")\n",
    "print(f\"Slice 1 from positions a={a} to b={b}, inclusive:\\t{a_to_b}\")\n",
    "print(f\"Slice 2 from positions c={c} to d={d}, inclusive:\\t{c_to_d}\\n\")\n",
    "print(f\"The final result with a space separating the slices: {a_to_b} {c_to_d}\")"
   ]
  },
  {
   "cell_type": "markdown",
   "metadata": {},
   "source": [
    "---\n",
    "\n",
    "### [Conditions and Loops](http://rosalind.info/problems/ini4/)\n",
    "\n",
    "#### Learning Goals \n",
    "- Learn about how *control flow* can be used to dictate how often a piece of code runs\n",
    "\n",
    "#### What are conditional statements?\n",
    "\n",
    "*Conditional Statements* set up conditions in your code that could either be `True` or `False`. They often appear in Python through `if`, `elif`, or `else` statements. \n",
    "\n",
    "#### What are loops? \n",
    "\n",
    "*Loops* are control structures that are used to repeat a given section of code a certain number of times or until a particular condition is met. Within Python, there are two types of loops that are ecommonly used, `for loop` that are used for iterating over a sequence, or `while loop` that are used to execute a block of code repeatedly until a given condition is satisfied. \n",
    "\n",
    "<div class=\"alert alert-block alert-success\">\n",
    "    <p><b>Exercise:</b></p>\n",
    "    <p><b><i>Given</i></b>: Two positive integers, <code>a</code> and <code>b</code>, that are each less than 10,000\n",
    "    <br><b><i>Return</i></b>: The sum of all <i>odd</i> integers from <code>a</code> through <code>b</code>, inclusively</p>\n",
    "</div>"
   ]
  },
  {
   "cell_type": "code",
   "execution_count": 3,
   "metadata": {},
   "outputs": [
    {
     "name": "stdout",
     "output_type": "stream",
     "text": [
      "The sum of all odd numbers from a=10 to b=30 is 200\n"
     ]
    }
   ],
   "source": [
    "# 1. Start by defining the two positive integers that we want to use for our range\n",
    "a = 10\n",
    "b = 30\n",
    "\n",
    "# 2. Create a variable to hold the tally as we go through the range \n",
    "tally = 0\n",
    "\n",
    "# 3. Use a for-loop to go through each integer within the range, inclusively\n",
    "for value in range(a,b+1): \n",
    "    if value % 2 == 0: # check if the value is even\n",
    "        continue\n",
    "    elif value % 2 != 0: # check if the value is odd\n",
    "        tally += value   # sum together all of the odd values \n",
    "        \n",
    "# 4. Print out the result\n",
    "print(f\"The sum of all odd numbers from a={a} to b={b} is {tally}\")"
   ]
  },
  {
   "cell_type": "markdown",
   "metadata": {},
   "source": [
    "---\n",
    "\n",
    "### [Dictionaries](http://rosalind.info/problems/ini6/)\n",
    "\n",
    "#### Learning Goals \n",
    "- Become familiar with the `dict` data structure in Python\n",
    "\n",
    "#### What are dictionaries?\n",
    "\n",
    "*Dictionaries* (`dict`) are another basic data structure common to many languages, including Python. A dictionary allows you to take any *value*, and assign it a unique lookup index, or *key*. You can then look up this value, using the key, very efficiently using the `dict` object. You can store anything in the value: a `str`, a `list`, even another `dict`!\n",
    "\n",
    "<div class=\"alert alert-block alert-success\">\n",
    "    <p><b>Exercise:</b></p>\n",
    "    <p><b><i>Given</i></b>: A string, <code>s</code>, with a maximum length of 10,000 characters\n",
    "    <br><b><i>Return</i></b>: The number of occurences of each word in <code>s</code>, where words are separated by spaces. Words are case-sensitive, and the lines in the output can be in any order.</p>\n",
    "</div>"
   ]
  },
  {
   "cell_type": "code",
   "execution_count": 4,
   "metadata": {},
   "outputs": [
    {
     "data": {
      "text/plain": [
       "{'a': 3,\n",
       " 'musician': 1,\n",
       " 'must': 4,\n",
       " 'make': 1,\n",
       " 'music': 1,\n",
       " 'an': 1,\n",
       " 'artist': 1,\n",
       " 'paint': 1,\n",
       " 'poet': 1,\n",
       " 'write': 1,\n",
       " 'if': 1,\n",
       " 'he': 2,\n",
       " 'is': 1,\n",
       " 'to': 1,\n",
       " 'be': 3,\n",
       " 'ultimately': 1,\n",
       " 'at': 1,\n",
       " 'peace': 1,\n",
       " 'with': 1,\n",
       " 'himself': 1,\n",
       " 'what': 1,\n",
       " 'man': 1,\n",
       " 'can': 1}"
      ]
     },
     "execution_count": 4,
     "metadata": {},
     "output_type": "execute_result"
    }
   ],
   "source": [
    "# 1. Define the string that we want to use for this exercise... We'll be using a quote randomly chosen from GoodReads! \n",
    "\n",
    "#    \"A musician must make music, an artist must paint, a poet must write, \n",
    "#     if he is to be ultimately at peace with himself. What a man can be, he must be\"\n",
    "#                                                                  --- Abraham Maslow\n",
    "\n",
    "s = \"A musician must make music, an artist must paint, a poet must write, if he is to be ultimately at peace with himself. What a man can be, he must be\"\n",
    "\n",
    "# 2. Initialize the dictionary that we will use to store the number of occurences for each word \n",
    "d = {}\n",
    "\n",
    "# 3. Split the quote so that we can remove all spaces and only have words in lowercase \n",
    "s = [word.lower().replace(',','').replace('.','') for word in s.split()]\n",
    "\n",
    "# 4. Use a for-loop to go through the split string and tally up the number of unique words we have\n",
    "for word in s: \n",
    "    if word not in d:\n",
    "        d[word] = 0\n",
    "    d[word] += 1\n",
    "    \n",
    "# 5. Reveal the results\n",
    "d"
   ]
  }
 ],
 "metadata": {
  "kernelspec": {
   "display_name": "Python 3",
   "language": "python",
   "name": "python3"
  },
  "language_info": {
   "codemirror_mode": {
    "name": "ipython",
    "version": 3
   },
   "file_extension": ".py",
   "mimetype": "text/x-python",
   "name": "python",
   "nbconvert_exporter": "python",
   "pygments_lexer": "ipython3",
   "version": "3.9.1"
  }
 },
 "nbformat": 4,
 "nbformat_minor": 4
}
