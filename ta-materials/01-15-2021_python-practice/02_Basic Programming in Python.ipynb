{
 "cells": [
  {
   "cell_type": "markdown",
   "metadata": {},
   "source": [
    "# CMM262 Programming Practice Problems in Python, Part 2\n",
    "\n",
    "**Author:** Michelle Franc Ragsac (mragsac@eng.ucsd.edu)\n",
    "\n",
    "This notebook contains some additional introductory exercises to basic concepts of programming, specifically for the Python programming language, but with a bioinformatics twist!\n",
    "\n",
    "> * Adapted from BISB Bootcamp 2020 Day 4, Module 6: Pair Programming materials: https://github.com/mragsac/BISB-Bootcamp-2020/tree/master/day4/module6_pair-programming\n",
    "> * Many of these exercises (and more!) can be found through the Rosalind \"Bioinformatics Stronghold\" resource: http://rosalind.info/problems/list-view/?location=bioinformatics-stronghold\n",
    "\n",
    "---\n",
    "\n",
    "### [Counting DNA Nucleotides](http://rosalind.info/problems/dna/)\n",
    "\n",
    "<div class=\"alert alert-block alert-success\">\n",
    "    <p><b>Exercise:</b></p>\n",
    "    <p><b><i>Given</i></b>: A DNA sequence string, <code>s</code>, with a maximum length of 1,000 nucleotides \n",
    "    <br><b><i>Return</i></b>: Four integers (separated by spaces) counting the respective number of times that the bases <code>A</code>, <code>T</code>, <code>C</code>, and <code>G</code> occur in <code>s</code></p>\n",
    "</div>"
   ]
  },
  {
   "cell_type": "code",
   "execution_count": null,
   "metadata": {},
   "outputs": [],
   "source": []
  },
  {
   "cell_type": "markdown",
   "metadata": {},
   "source": [
    "---\n",
    "\n",
    "### [Compute the Hamming Distance Between Two Strings](http://rosalind.info/problems/ba1g/)\n",
    "\n",
    "We say that position $i$ in k-mers $p_1 … p_k$ and $q_1 … q_k$ is a mismatch if $p_i ≠ q_i$. For example, `CGAAT` and `CGGAC` have two mismatches. \n",
    "\n",
    "The number of mismatches between strings $p$ and $q$ is called the **Hamming Distance** between these strings and is denoted `HammingDistance(p, q)`.\n",
    "\n",
    "<div class=\"alert alert-block alert-success\">\n",
    "    <p><b>Exercise:</b></p>\n",
    "    <p><b><i>Given</i></b>: Two DNA Strings\n",
    "    <br><b><i>Return</i></b>: An integer value representing the Hamming Distance of the two DNA strings</p>\n",
    "</div>"
   ]
  },
  {
   "cell_type": "code",
   "execution_count": null,
   "metadata": {},
   "outputs": [],
   "source": []
  },
  {
   "cell_type": "markdown",
   "metadata": {},
   "source": [
    "---\n",
    "\n",
    "### [Complementing a Strand of DNA](http://rosalind.info/problems/revc/)\n",
    "\n",
    "In DNA strings, symbols `A` and `T` are complements of each other, as are `C` and `G`. The reverse complement of a DNA string $s$ is the string $s_c$ formed by reversing the symbols of `s`, then taking the complement of each symbol (e.g., the reverse complement of `GTCA` is `TGAC`).\n",
    "\n",
    "<div class=\"alert alert-block alert-success\">\n",
    "    <p><b>Exercise:</b></p>\n",
    "    <p><b><i>Given</i></b>: A DNA string, <code>s</code>, with a maximum length of 1,000 nucleotides\n",
    "    <br><b><i>Return</i></b>: The reverse complement of <code>s</code></p>\n",
    "</div>"
   ]
  },
  {
   "cell_type": "code",
   "execution_count": null,
   "metadata": {},
   "outputs": [],
   "source": []
  },
  {
   "cell_type": "markdown",
   "metadata": {},
   "source": [
    "---\n",
    "\n",
    "### [Find the Most Frequent \"Words\" in a String](http://rosalind.info/problems/revc/)\n",
    "\n",
    "**k-mers** are small subsequences of a string that are of length `k`. We can define the term *Pattern* as our most frequent k-mer in a string if it maximizes `Count(Text,Pattern)` among all k-mers. For example, `ACTAT` is a most frequent 5-mer in `ACAACTATGCATCACTATCGGGAACTATCCT`, and `ATA` is a most frequent 3-mer of `CGATATATCCATAG`.\n",
    "\n",
    "**Frequent Words Problem (CR 4)**\n",
    "\n",
    "Find the most frequent k-mers in a string.\n",
    "\n",
    "Given: A DNA string Text and an integer k.\n",
    "\n",
    "Return: All most frequent k-mers in Text (in any order).\n",
    "\n",
    "<div class=\"alert alert-block alert-success\">\n",
    "    <p><b>Exercise:</b></p>\n",
    "    <p><b><i>Given</i></b>: A DNA string, <code>Text</code>, and an integer, <code>k</code>\n",
    "    <br><b><i>Return</i></b>: All most frequent k-mers in <code>Text</code> in any order\n",
    "</div>"
   ]
  },
  {
   "cell_type": "code",
   "execution_count": null,
   "metadata": {},
   "outputs": [],
   "source": []
  },
  {
   "cell_type": "markdown",
   "metadata": {},
   "source": [
    "---\n",
    "\n",
    "### [Translating RNA into its Respective Protein Sequence](http://rosalind.info/problems/prot/)\n",
    "\n",
    "The 20 commonly occurring amino acids are abbreviated by using 20 letters from the English alphabet (all letters except for `B`, `J`, `O`, `U`, `X`, and `Z`). Protein strings are constructed from these 20 symbols. Henceforth, the term genetic string will incorporate protein strings along with DNA strings and RNA strings. RNA codon tables dictate the details regarding the encoding of specific codons into the amino acid alphabet.\n",
    "\n",
    "**Problem: (CR 3)**\n",
    "\n",
    "Given: An RNA string $s$ corresponding to a strand of mRNA (of length at most 10 kbp).\n",
    "\n",
    "Return: The protein string encoded by $s$.\n",
    "\n",
    "<div class=\"alert alert-block alert-success\">\n",
    "    <p><b>Exercise:</b></p>\n",
    "    <p><b><i>Given</i></b>: An RNA string, <code>s</code>, corresponding to a strand of mRNA with a maximum length of 10,000 nucleotides \n",
    "    <br><b><i>Return</i></b>: The protein string denoted by <code>s</code></p>\n",
    "</div>"
   ]
  },
  {
   "cell_type": "code",
   "execution_count": null,
   "metadata": {},
   "outputs": [],
   "source": []
  }
 ],
 "metadata": {
  "kernelspec": {
   "display_name": "Python 3",
   "language": "python",
   "name": "python3"
  },
  "language_info": {
   "codemirror_mode": {
    "name": "ipython",
    "version": 3
   },
   "file_extension": ".py",
   "mimetype": "text/x-python",
   "name": "python",
   "nbconvert_exporter": "python",
   "pygments_lexer": "ipython3",
   "version": "3.9.1"
  }
 },
 "nbformat": 4,
 "nbformat_minor": 4
}
