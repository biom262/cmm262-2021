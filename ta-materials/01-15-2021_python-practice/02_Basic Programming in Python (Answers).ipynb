{
 "cells": [
  {
   "cell_type": "markdown",
   "metadata": {},
   "source": [
    "# CMM262 Programming Practice Problems in Python, Part 2\n",
    "\n",
    "**Author:** Michelle Franc Ragsac (mragsac@eng.ucsd.edu)\n",
    "\n",
    "This notebook contains some additional introductory exercises to basic concepts of programming, specifically for the Python programming language, but with a bioinformatics twist!\n",
    "\n",
    "> * Adapted from BISB Bootcamp 2020 Day 4, Module 6: Pair Programming materials: https://github.com/mragsac/BISB-Bootcamp-2020/tree/master/day4/module6_pair-programming\n",
    "> * Many of these exercises (and more!) can be found through the Rosalind \"Bioinformatics Stronghold\" resource: http://rosalind.info/problems/list-view/?location=bioinformatics-stronghold\n",
    "\n",
    "---\n",
    "\n",
    "### [Counting DNA Nucleotides](http://rosalind.info/problems/dna/)\n",
    "\n",
    "<div class=\"alert alert-block alert-success\">\n",
    "    <p><b>Exercise:</b></p>\n",
    "    <p><b><i>Given</i></b>: A DNA sequence string, <code>s</code>, with a maximum length of 1,000 nucleotides \n",
    "    <br><b><i>Return</i></b>: Four integers (separated by spaces) counting the respective number of times that the bases <code>A</code>, <code>T</code>, <code>C</code>, and <code>G</code> occur in <code>s</code></p>\n",
    "</div>"
   ]
  },
  {
   "cell_type": "code",
   "execution_count": null,
   "metadata": {},
   "outputs": [],
   "source": [
    "# 1. Start by initializing the DNA string that we want to evaluate\n",
    "s = \"GGGCCGTTGGT\"\n",
    "\n",
    "# 2. Generate a dictionary to hold the tallies of each nucleotide\n",
    "d = {\"A\":0, \"T\":0, \"C\":0, \"G\":0}\n",
    "\n",
    "# 3. Go through the string and tally the number of times a nucleotide appears\n",
    "for nt in s: \n",
    "    d[nt.upper()] += 1\n",
    "    \n",
    "# 4. Return the four integers with the tally for each base\n",
    "print(f'{d[\"A\"]} {d[\"T\"]} {d[\"C\"]} {d[\"G\"]}')"
   ]
  },
  {
   "cell_type": "markdown",
   "metadata": {},
   "source": [
    "---\n",
    "\n",
    "### [Compute the Hamming Distance Between Two Strings](http://rosalind.info/problems/ba1g/)\n",
    "\n",
    "We say that position $i$ in k-mers $p_1 … p_k$ and $q_1 … q_k$ is a mismatch if $p_i ≠ q_i$. For example, `CGAAT` and `CGGAC` have two mismatches. \n",
    "\n",
    "The number of mismatches between strings $p$ and $q$ is called the **Hamming Distance** between these strings and is denoted `HammingDistance(p, q)`.\n",
    "\n",
    "<div class=\"alert alert-block alert-success\">\n",
    "    <p><b>Exercise:</b></p>\n",
    "    <p><b><i>Given</i></b>: Two DNA Strings, <code>p</code> and <code>q</code>\n",
    "    <br><b><i>Return</i></b>: An integer value representing the Hamming Distance of the two DNA strings</p>\n",
    "</div>"
   ]
  },
  {
   "cell_type": "code",
   "execution_count": null,
   "metadata": {},
   "outputs": [],
   "source": [
    "# 1. Start by initializing the two DNA strings we want to evaluate\n",
    "p = \"GGGCCGTTGGT\"\n",
    "q = \"GGACCGTTGAC\"\n",
    "\n",
    "# 2. Initialize a variable to hold the number of mismatches\n",
    "num_mismatches = 0\n",
    "\n",
    "# 3. Go through each pair of nucleotide to determine if they are the same \n",
    "for p_i, q_i in zip(p,q):\n",
    "    if p_i != q_i: \n",
    "        num_mismatches += 1\n",
    "        \n",
    "# 4. Return the result\n",
    "print(f\"The Hamming Distance between the two DNA strings is num_mismatches={num_mismatches}\")\n",
    "print(f\"\\np = {p}\\nq = {q}\")"
   ]
  },
  {
   "cell_type": "markdown",
   "metadata": {},
   "source": [
    "---\n",
    "\n",
    "### [Complementing a Strand of DNA](http://rosalind.info/problems/revc/)\n",
    "\n",
    "In DNA strings, symbols `A` and `T` are complements of each other, as are `C` and `G`. The reverse complement of a DNA string $s$ is the string $s_c$ formed by reversing the symbols of `s`, then taking the complement of each symbol (e.g., the reverse complement of `GTCA` is `TGAC`).\n",
    "\n",
    "<div class=\"alert alert-block alert-success\">\n",
    "    <p><b>Exercise:</b></p>\n",
    "    <p><b><i>Given</i></b>: A DNA string, <code>s</code>, with a maximum length of 1,000 nucleotides\n",
    "    <br><b><i>Return</i></b>: The reverse complement of <code>s</code></p>\n",
    "</div>"
   ]
  },
  {
   "cell_type": "code",
   "execution_count": null,
   "metadata": {},
   "outputs": [],
   "source": [
    "# 1. Start be initializing the DNA string that we want to determine the reverse complement of \n",
    "s = \"GGGCCGTTGGT\"\n",
    "\n",
    "# 2. Create a dictionary to hold the nucleotide pairings\n",
    "d = {\"A\":\"T\", \"T\":\"A\", \"C\":\"G\", \"G\":\"C\"}\n",
    "\n",
    "# 3. Generate a string with the complement strand to our DNA string\n",
    "s_c = [d[nt] for nt in s]\n",
    "\n",
    "# 4. Reverse the string to produce the reverse complement strand and join the characters together\n",
    "s_c = ''.join(s_c[::-1])\n",
    "\n",
    "# 5. Return the result\n",
    "print(f\"For the DNA string\\t\\ts   =\\t{s}\")\n",
    "print(f\"The reverse complement is\\ts_c =\\t{s_c}\")"
   ]
  },
  {
   "cell_type": "markdown",
   "metadata": {},
   "source": [
    "---\n",
    "\n",
    "### [Find the Most Frequent \"Words\" in a String](http://rosalind.info/problems/revc/)\n",
    "\n",
    "**k-mers** are small subsequences of a string that are of length `k`. We can define the term *Pattern* as our most frequent k-mer in a string if it maximizes `Count(Text,Pattern)` among all k-mers. For example, `ACTAT` is a most frequent 5-mer in `ACAACTATGCATCACTATCGGGAACTATCCT`, and `ATA` is a most frequent 3-mer of `CGATATATCCATAG`.\n",
    "\n",
    "<div class=\"alert alert-block alert-success\">\n",
    "    <p><b>Exercise:</b></p>\n",
    "    <p><b><i>Given</i></b>: A DNA string, <code>Text</code>, and an integer, <code>k</code>\n",
    "    <br><b><i>Return</i></b>: All most frequent k-mers in <code>Text</code> in any order\n",
    "</div>"
   ]
  },
  {
   "cell_type": "code",
   "execution_count": null,
   "metadata": {},
   "outputs": [],
   "source": [
    "# 1. Start by defining the DNA sequence we would like to evaluate\n",
    "Text = \"ACAACTATGCATCACTATCGGGAACTATCCT\"\n",
    "\n",
    "# 2. Define the k-mer length we want to evaluate\n",
    "k = 5\n",
    "\n",
    "# 3. Generate all k-mers within our DNA string\n",
    "all_kmers = [Text[i:i+k] for i in range(len(Text)-k+1)]\n",
    "\n",
    "# 4. Initialize a dictionary to tally the number of times we see each k-mer in our text\n",
    "kmer_tallies = {}\n",
    "\n",
    "# 5. Go through each k-mer within our text and determine the number of times it appears\n",
    "for kmer in all_kmers:\n",
    "    if kmer not in kmer_tallies:\n",
    "        kmer_tallies[kmer] = 0\n",
    "    kmer_tallies[kmer] += 1\n",
    "    \n",
    "# 6. Return the results\n",
    "kmer_tallies"
   ]
  }
 ],
 "metadata": {
  "kernelspec": {
   "display_name": "Python 3",
   "language": "python",
   "name": "python3"
  },
  "language_info": {
   "codemirror_mode": {
    "name": "ipython",
    "version": 3
   },
   "file_extension": ".py",
   "mimetype": "text/x-python",
   "name": "python",
   "nbconvert_exporter": "python",
   "pygments_lexer": "ipython3",
   "version": "3.9.1"
  }
 },
 "nbformat": 4,
 "nbformat_minor": 4
}
