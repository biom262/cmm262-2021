{
 "cells": [
  {
   "cell_type": "markdown",
   "metadata": {},
   "source": [
    "# BIOM262: ChIP-Seq workshop"
   ]
  },
  {
   "cell_type": "markdown",
   "metadata": {},
   "source": [
    "**Introduction:**\n",
    "\n",
    "This workshop will walk you through an example of ChIP-seq analysis. We will focus on running tools as command lines and simple bash scripts – I recommend having a cheat-sheet like this [one](http://cheatsheetworld.com/programming/unix-linux-cheat-sheet/). \n",
    "\n",
    "We will use some common tools such as: \n",
    "* **bowtie2** for alignment (<a href=\"http://bowtie-bio.sourceforge.net/bowtie2/index.shtml\" target=\"_blank\">http://bowtie-bio.sourceforge.net/bowtie2/index.shtml</a>),\n",
    "* **IGV** for visualization (<a href=\"http://software.broadinstitute.org/software/igv/home\" target=\"_blank\">http://software.broadinstitute.org/software/igv/home</a>) \n",
    "* Most of the workshop will be done using **HOMER** (e.g., QC of the data, peak calling etc.; <a href=\"http://homer.ucsd.edu/homer/\" target=\"_blank\">http://homer.ucsd.edu/homer/</a>). HOMER was created by Chris Benner at UCSD, and I love the documentation and tutorials and the threaded humor. To install HOMER follow <a href=\"https://github.com/biom262/cmm262-2020/blob/master/Module_5/Notebooks/Install_Homer.ipynb\" target=\"_blank\">these instructions</a>.\n",
    "\n",
    "During the workshop, and in general, it is always good to type the command and get the notes and use options of the command. Thus e.g., typing bowtie2 would yield this output (capped after several lines):\n",
    "\n",
    "```\n",
    "[ucsd-trainXX@tscc-login1 ~]$  bowtie2\n",
    "No index, query, or output file specified!  \n",
    "Bowtie 2 version 2.3.0 by Ben Langmead (langmea@cs.jhu.edu, www.cs.jhu.edu/~langmea)   \n",
    "Usage: bowtie2 [options]* -x <bt2-idx> {-1 <m1> -2 <m2> | -U <r>} [-S <sam>]\n",
    "```\n",
    "\n"
   ]
  },
  {
   "cell_type": "code",
   "execution_count": 5,
   "metadata": {},
   "outputs": [
    {
     "name": "stdout",
     "output_type": "stream",
     "text": [
      "bash: bowtie2: command not found\n"
     ]
    },
    {
     "ename": "",
     "evalue": "127",
     "output_type": "error",
     "traceback": []
    }
   ],
   "source": [
    "/opt/conda/envs/r-bio/bin/bowtie2"
   ]
  },
  {
   "cell_type": "markdown",
   "metadata": {},
   "source": [
    "## Part 0\n",
    "\n",
    "### 1. Organize directories\n",
    "\n",
    "Before we begin, we will create directories to organize our analysis:\n",
    "\n",
    "\n"
   ]
  },
  {
   "cell_type": "code",
   "execution_count": 6,
   "metadata": {},
   "outputs": [
    {
     "name": "stdout",
     "output_type": "stream",
     "text": [
      "mkdir: chipseq_workshop: File exists\n",
      "mkdir: chipseq_workshop/aligned: File exists\n",
      "mkdir: chipseq_workshop/tagdirs: File exists\n"
     ]
    },
    {
     "ename": "",
     "evalue": "1",
     "output_type": "error",
     "traceback": []
    }
   ],
   "source": [
    "mkdir chipseq_workshop\n",
    "mkdir chipseq_workshop/aligned\n",
    "mkdir chipseq_workshop/tagdirs\n"
   ]
  },
  {
   "cell_type": "markdown",
   "metadata": {},
   "source": [
    "### 2. Generate symbolic links\n",
    "Let's generate a couple [symbolic links](https://linuxize.com/post/how-to-create-symbolic-links-in-linux-using-the-ln-command/) to make it easier to type file paths. You can think of them as shortcuts."
   ]
  },
  {
   "cell_type": "code",
   "execution_count": 9,
   "metadata": {},
   "outputs": [
    {
     "name": "stdout",
     "output_type": "stream",
     "text": [
      "ln: chipseq_workshop/fastqs: File exists\n",
      "ln: chipseq_workshop/mm9: File exists\n",
      "ln: chipseq_workshop/fai: File exists\n"
     ]
    },
    {
     "ename": "",
     "evalue": "1",
     "output_type": "error",
     "traceback": []
    }
   ],
   "source": [
    "ln -s /datasets/cm262-wi21-A00-public/chipseq/fastqs chipseq_workshop/fastqs\n",
    "ln -s /datasets/cm262-wi21-A00-public/mm9 chipseq_workshop/mm9\n",
    "ln -s /datasets/cm262-wi21-A00-public/mm9/mm9.fa.fai chipseq_workshop/fai"
   ]
  },
  {
   "cell_type": "markdown",
   "metadata": {},
   "source": [
    "---\n",
    "\n",
    "## Part I\n",
    "We will start with FASTQ files and perform many of the basic analysis tasks that one might normally do when analyzing ChIP-seq data. \n"
   ]
  },
  {
   "cell_type": "markdown",
   "metadata": {},
   "source": [
    "### **1.** Align FASTQ reads using bowtie2.\n",
    "The fastqs are at: ` /datasets/cm262-wi21-A00-public/chipseq/fastqs`\n",
    "\n",
    "But we made a symbolic link so we can access them at `chipseq_workshop/fastqs`"
   ]
  },
  {
   "cell_type": "markdown",
   "metadata": {},
   "source": [
    "These files are originally from the following study investigating the roles that reprogramming factors play when transforming MEF (fibroblasts) into embryonic stem cells.\n",
    "[Chronis et al. Cooperative Binding of Transcription Factors Orchestrates Reprogramming](https://www.ncbi.nlm.nih.gov/pubmed/28111071)\n",
    "Sequencing Data: [GSE90893](https://www.ncbi.nlm.nih.gov/geo/query/acc.cgi?acc=GSE90893)\n",
    "\n",
    "For this tutorial we extracted the ChIP-seq experiments for several transcription factors and histone modifications performed on ESC (embryonic stem cells). To reduce runtimes, only reads that mapped to chr17 (and chr17_random) are included. (the random chromosomes are explained in this link – http://genome.ucsc.edu/FAQ/FAQdownloads#download10.)\n",
    "\n",
    "**Question:** how would you generate such a file with only one chromosome?\n",
    "\n",
    "To align the reads we will use bowtie2. It is always a good practice to look at the manual of each tool you use, so you get an idea of options and documentation.\n",
    "Initially, to get an idea of the command we will run it on one file as follows:\n",
    "(notice if you have very long lines of code you can break it up with a \"\\\\\")"
   ]
  },
  {
   "cell_type": "code",
   "execution_count": 10,
   "metadata": {},
   "outputs": [
    {
     "name": "stdout",
     "output_type": "stream",
     "text": [
      "bash: bowtie2: command not found\n",
      "[main_samview] fail to read the header from \"-\".\n"
     ]
    },
    {
     "ename": "",
     "evalue": "1",
     "output_type": "error",
     "traceback": []
    }
   ],
   "source": [
    "/opt/conda/envs/r-bio/bin/bowtie2 -p 8 -x chipseq_workshop/mm9/mm9 \\\n",
    "    -U chipseq_workshop/fastqs/oct4-esc.chr17.2m.fastq | \\\n",
    "    /opt/conda/envs/r-bio/bin/samtools view -bS -t ~chipseq_workshop/mm9/mm9.fa.fai > \\\n",
    "    chipseq_workshop/aligned/oct4-esc.chr17.2m.bam"
   ]
  },
  {
   "cell_type": "markdown",
   "metadata": {},
   "source": [
    "To do it properly, we will use a for loop to get BAMs from all the fastqs in the directory:"
   ]
  },
  {
   "cell_type": "code",
   "execution_count": 12,
   "metadata": {},
   "outputs": [
    {
     "name": "stdout",
     "output_type": "stream",
     "text": [
      "bash: bowtie2: command not found\n",
      "[main_samview] fail to read the header from \"-\".\n"
     ]
    },
    {
     "ename": "",
     "evalue": "1",
     "output_type": "error",
     "traceback": []
    }
   ],
   "source": [
    "for f in chipseq_workshop/fastqs/*fastq; \n",
    "do fname=`basename $f .fastq`; \n",
    "    /opt/conda/envs/r-bio/bin/bowtie2 -p 8 -x chipseq_workshop/mm9/mm9 -U $f | \\\n",
    "    /opt/conda/envs/r-bio/bin/samtools view -bS -t chipseq_workshop/fai > \\\n",
    "    chipseq_workshop/aligned/$fname.bam ; \n",
    "done"
   ]
  },
  {
   "cell_type": "markdown",
   "metadata": {},
   "source": [
    "This will produce BAM files for the 6 datasets. HOMER can analyze SAM files and if it receives BAM files it converts them to SAM so samtools has to be available (you can check that by typing “samtools” in the command line). \n",
    "\n",
    "It is a good practice to always double check datasets before you start analyzing them. For instance, use samtools to view the files."
   ]
  },
  {
   "cell_type": "code",
   "execution_count": null,
   "metadata": {},
   "outputs": [],
   "source": [
    "/opt/conda/envs/r-bio/bin/samtools view chipseq_workshop/aligned/input-esc.chr17.2m.bam | head -n10"
   ]
  },
  {
   "cell_type": "markdown",
   "metadata": {},
   "source": [
    "and validate that the files are indeed what they should be (e.g., aligned to chr 17, and have 2M reads). \n",
    "\n",
    "To calculate the number of reads do:\n"
   ]
  },
  {
   "cell_type": "code",
   "execution_count": 1,
   "metadata": {},
   "outputs": [
    {
     "name": "stdout",
     "output_type": "stream",
     "text": [
      "[E::hts_open_format] Failed to open file /Users/erickofman/workshop-2.4/aligned/input-esc.chr17.2m.bam\n",
      "samtools view: failed to open \"/Users/erickofman/workshop-2.4/aligned/input-esc.chr17.2m.bam\" for reading: No such file or directory\n",
      "       0\n"
     ]
    }
   ],
   "source": [
    "/opt/conda/envs/r-bio/bin/samtools view chipseq_workshop/aligned/input-esc.chr17.2m.bam | wc -l"
   ]
  },
  {
   "cell_type": "markdown",
   "metadata": {},
   "source": [
    "Alternatively, another option that is even better for here is to use samtools "
   ]
  },
  {
   "cell_type": "code",
   "execution_count": 4,
   "metadata": {},
   "outputs": [
    {
     "name": "stdout",
     "output_type": "stream",
     "text": [
      "[E::hts_open_format] Failed to open file /Users/erickofman/workshop-2.4/aligned/input-esc.chr17.2m.bam\n",
      "samtools flagstat: Cannot open input file \"/Users/erickofman/workshop-2.4/aligned/input-esc.chr17.2m.bam\": No such file or directory\n"
     ]
    },
    {
     "ename": "",
     "evalue": "1",
     "output_type": "error",
     "traceback": []
    }
   ],
   "source": [
    "/opt/conda/envs/r-bio/bin/samtools flagstat chipseq_workshop/aligned/input-esc.chr17.2m.bam"
   ]
  },
  {
   "cell_type": "markdown",
   "metadata": {},
   "source": [
    "If you want to understand better the way SAM files are organized you can follow <a href=\"https://samtools.github.io/hts-specs/SAMv1.pdf\" target=\"_blank\">https://samtools.github.io/hts-specs/SAMv1.pdf</a> section 1.4.\n"
   ]
  },
  {
   "cell_type": "markdown",
   "metadata": {},
   "source": [
    "--- \n",
    "### **2.** Create a “tag directory” \n",
    "\n",
    "**These commands should be run directly in the terminal**\n",
    "\n",
    "For the example Oct4 ChIP-seq experiment using the makeTagDirectory command. Start by typing makeTagDirectory (without any options) in your command line, it will provide the usage, some info about the command and a full list of program options – as I mentioned above, I highly recommend doing that whenever you use a new tool and a new command. \n",
    "\n",
    "Tag directories are analogous to sorted bam files and are the starting point for most HOMER operations like finding peaks, creating visualization files, or calculating read densities. The command also performs several quality control and parameter estimation calculations. The command has the following form:  \n",
    "    \n"
   ]
  },
  {
   "cell_type": "markdown",
   "metadata": {},
   "source": [
    "```\n",
    "makeTagDirectory <Output Tag Directory> [options] <input SAM/BAM file1> [input SAM/BAM file2] ...\n",
    "``` "
   ]
  },
  {
   "cell_type": "markdown",
   "metadata": {},
   "source": [
    "\n",
    "To create a tag directory for the Oct4 experiment, open the terminal, make sure you are in the module-6-chipseq folder, and run the following command with recommended options:\n"
   ]
  },
  {
   "cell_type": "raw",
   "metadata": {},
   "source": [
    "makeTagDirectory chipseq_workshop/tagdirs/oct4-esc -genome chipseq_workshop/mm9 -checkGC chipseq_workshop/aligned/oct4-esc.chr17.2m.bam"
   ]
  },
  {
   "cell_type": "markdown",
   "metadata": {},
   "source": [
    "The command will take several seconds to run. What it is doing is parsing through the BAM file, removing reads that do not align to a unique position in the genome, separating reads by chromosome and sorting them by position, calculating how often reads appear in the same position to estimate the clonality (i.e. PCR duplication), calculating the relative distribution of reads relative to one another to estimate the ChIP-fragment length, calculating sequence properties and GC-content of the reads and performs a simple enrichment calculation to check if the experiment looks like a ChIP-seq experiment (vs. an RNA-seq experiment).\n",
    "\n",
    "The command creates a new directory, in this case named **oct4-esc**. Inside the directory are several text files that contain various QC results. \n",
    "\n",
    "Try looking at the following using the \"head\" command:\n",
    "\n",
    "> * **tagInfo.txt** - summary information from the experiment, including read totals.\n",
    "> * **tagFreqUniq.txt** - nucleotide frequencies relative to the 5’ end of the sequencing reads.\n",
    "> * **genomeGCcontent.txt** - distribution of ChIP-fragment GC%\n",
    "> * **tagAutocorrelation.txt** - relative distribution of reads found on the same strand vs. different strands.\n",
    "> * **tagCountDistribution.txt** - number of reads appearing at the same positions.\n"
   ]
  },
  {
   "cell_type": "code",
   "execution_count": 2,
   "metadata": {},
   "outputs": [],
   "source": [
    "# Use this box to look at the various files\n"
   ]
  },
  {
   "cell_type": "markdown",
   "metadata": {},
   "source": [
    "--- \n",
    "### **3.** Create “tag directories” for all samples\n",
    "\n",
    "By the following code, using a ‘for loop’, again pasting this command in the terminal. This process will take about 8-10 minutes.\n"
   ]
  },
  {
   "cell_type": "raw",
   "metadata": {},
   "source": [
    "for f in chipseq_workshop/aligned/*.bam; \n",
    "do fname=`basename $f .chr17.2m.bam`; \n",
    "    makeTagDirectory chipseq_workshop/tagdirs/$fname -genome chipseq_workshop/mm9 -checkGC $f; \n",
    "done"
   ]
  },
  {
   "cell_type": "markdown",
   "metadata": {},
   "source": [
    "At this point you should have 6 tag directories. Look through the QC stats of the various ones."
   ]
  },
  {
   "cell_type": "markdown",
   "metadata": {},
   "source": [
    "---\n",
    "### **4.** Next we will visualize the ChIP-seq experiments.\n",
    "\n",
    "By creating bedGraph files from the tag directories and using the IGV genome browser to look at the results. We will do this using the makeUCSCfile command. For most ChIP-seq experiments all you need to do is specify the tag directory and specify “-o auto” for the command to automatically save the bedGraph file inside the tag directory:\n",
    "\n",
    "```\n",
    "makeUCSCfile chipseq_workshop/tagdirs -o auto\n",
    "```\n",
    "\n",
    "For a specific dataset, e.g. Oct4, the command would be:\n",
    "\n",
    "```\n",
    "makeUCSCfile chipseq_workshop/tagdirs/oct4-esc/ -o auto\n",
    "```\n",
    "\n",
    "This creates the file “oct4-esc/oct4-esc.ucsc.bedGraph.gz”. This file format specifies the normalized read depth at variable intervals along the genome (use zmore and the filename to view the file format for yourself). \n",
    "\n",
    "Now make these for all samples:"
   ]
  },
  {
   "cell_type": "raw",
   "metadata": {},
   "source": [
    "for dir in chipseq_workshop/tagdirs/*; \n",
    "    do makeUCSCfile $dir -o auto; \n",
    "done"
   ]
  },
  {
   "cell_type": "markdown",
   "metadata": {},
   "source": [
    "### To view the file in the genome browser, do the following:\n",
    "\n",
    "Download the files to your computer.\n",
    "\n",
    "**Open IGV.** Make sure you use the right genome (mm9; it is a good practice to have!) and drag the file to the center window (or select file -> load from file).\n",
    "\n",
    "The read pileups will display the relative density of ChIP-seq reads at each position in the genome. We only have data for chr17 in this example, so we can stick to that chromosome.\n",
    "\n",
    "---\n",
    "### **5.** See if there are any interesting patterns in the data that catch your eye.\n",
    "\n",
    "Try visiting the Pou5f1 locus (the gene for Oct4) by typing the gene name into the search bar at the top. Once at the Pou5f1 locus, zoom out (alt+click or scale on top right) to see if there any nearby sites that might resemble enhancers.\n",
    "\n",
    "Each dataset was created by a different antibody, and they can be divided into three types: TFs, HMs and global input. Since we will need to treat each type differently, I recommend making a directory for each – input, tfs and hms and move the tag directories to the relevant one (e.g. tfs/oct4-esc/, etc). \n"
   ]
  },
  {
   "cell_type": "code",
   "execution_count": null,
   "metadata": {},
   "outputs": [],
   "source": []
  }
 ],
 "metadata": {
  "kernelspec": {
   "display_name": "Bash",
   "language": "bash",
   "name": "bash"
  },
  "language_info": {
   "codemirror_mode": "shell",
   "file_extension": ".sh",
   "mimetype": "text/x-sh",
   "name": "bash"
  },
  "nteract": {
   "version": "0.21.0"
  }
 },
 "nbformat": 4,
 "nbformat_minor": 2
}
