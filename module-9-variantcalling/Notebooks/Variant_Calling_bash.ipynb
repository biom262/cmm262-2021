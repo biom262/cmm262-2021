{
 "cells": [
  {
   "cell_type": "code",
   "execution_count": null,
   "metadata": {},
   "outputs": [],
   "source": [
    "mkdir ./results_HsMetric\n",
    "mkdir ./results_varscan\n",
    "mkdir ./results_variantAnn"
   ]
  },
  {
   "cell_type": "markdown",
   "metadata": {},
   "source": [
    "Starting files you should have:\n",
    "-"
   ]
  },
  {
   "cell_type": "markdown",
   "metadata": {},
   "source": [
    "**resources_varCall**\n",
    "- Sureselect.chr21.bed\n",
    "- Sureselect.chr21.headerReorder.interval_list\n",
    "- chr21.fa.gz (and associated indices and dicts)\n",
    "- access-5k-mappable.hg19.bed \n",
    "- annovar (directory)\n",
    "    - annotate_variation.pl  \n",
    "    - convert2annovar.pl\n",
    "    - humandb (directory)\n",
    "        - hg19_refGeneMrna.fa\n",
    "        - hg19_refGene.txt\n",
    "    - table_annovar.pl)\n",
    "- refFlat.txt\n",
    "- hg19 reference files (.dict, .fa.gz, .fa.gz.fai, .fa.gz.gzi)\n",
    "- chr21 reference files (.dict, .fa.gz, .fa.gz.gzi, .fa.gz.gzi)\n",
    "\n",
    "**materials_varCall**\n",
    "- FRFZ.chr21.hg19.bam\n",
    "- FRFZ.chr21.hg19.mapped.bam (contains only mapped reads from FRFZ.chr21.hg19.bam) \n",
    "- CPTRES7.realigned.chr21.bam\n",
    "- CPTRES4.realigned.chr21.bam\n",
    "- GMTS_all.shuf.vcf.gz\n",
    "- GMTS_all.shuf.vcf.gz.tbi\n",
    "\n",
    "**results_mutect2**\n",
    "- CPTRES7vs4.mutec2.vcf\n",
    "- CPTRES7vs4.vcf.gz"
   ]
  },
  {
   "cell_type": "markdown",
   "metadata": {},
   "source": [
    "### Generate coverage metrics"
   ]
  },
  {
   "cell_type": "markdown",
   "metadata": {},
   "source": [
    "We have already generated the *.intervals_list file but this command is an example of how it would be generated "
   ]
  },
  {
   "cell_type": "markdown",
   "metadata": {},
   "source": [
    "```/opt/conda/envs/variant_calling/bin/picard BedToIntervalList I=./resources_varCall/Sureselect.chr21.bed O=./resources_varCall/Sureselect.chr21.interval_list SD=./resources_varCall/hg19.fa.gz```"
   ]
  },
  {
   "cell_type": "code",
   "execution_count": 1,
   "metadata": {},
   "outputs": [
    {
     "name": "stdout",
     "output_type": "stream",
     "text": [
      "INFO\t2021-03-03 10:26:59\tCollectHsMetrics\t\n",
      "\n",
      "********** NOTE: Picard's command line syntax is changing.\n",
      "**********\n",
      "********** For more information, please see:\n",
      "********** https://github.com/broadinstitute/picard/wiki/Command-Line-Syntax-Transition-For-Users-(Pre-Transition)\n",
      "**********\n",
      "********** The command line looks like this in the new syntax:\n",
      "**********\n",
      "**********    CollectHsMetrics -BAIT_INTERVALS ./resources_varCall/Sureselect.chr21.headerReorder.interval_list -TARGET_INTERVALS ./resources_varCall/Sureselect.chr21.headerReorder.interval_list -INPUT ./materials_varCall/FRFZ.chr21.hg19.mapped.bam -OUTPUT ./results_HsMetric/FRFZ.chr21.hsmetrics.txt\n",
      "**********\n",
      "\n",
      "\n",
      "10:26:59.803 INFO  NativeLibraryLoader - Loading libgkl_compression.so from jar:file:/opt/conda/envs/variant_calling/share/picard-2.18.29-0/picard.jar!/com/intel/gkl/native/libgkl_compression.so\n",
      "[Wed Mar 03 10:26:59 PST 2021] CollectHsMetrics BAIT_INTERVALS=[./resources_varCall/Sureselect.chr21.headerReorder.interval_list] TARGET_INTERVALS=[./resources_varCall/Sureselect.chr21.headerReorder.interval_list] INPUT=./materials_varCall/FRFZ.chr21.hg19.mapped.bam OUTPUT=./results_HsMetric/FRFZ.chr21.hsmetrics.txt    METRIC_ACCUMULATION_LEVEL=[ALL_READS] NEAR_DISTANCE=250 MINIMUM_MAPPING_QUALITY=20 MINIMUM_BASE_QUALITY=20 CLIP_OVERLAPPING_READS=true INCLUDE_INDELS=false COVERAGE_CAP=200 SAMPLE_SIZE=10000 ALLELE_FRACTION=[0.001, 0.005, 0.01, 0.02, 0.05, 0.1, 0.2, 0.3, 0.5] VERBOSITY=INFO QUIET=false VALIDATION_STRINGENCY=STRICT COMPRESSION_LEVEL=5 MAX_RECORDS_IN_RAM=500000 CREATE_INDEX=false CREATE_MD5_FILE=false GA4GH_CLIENT_SECRETS=client_secrets.json USE_JDK_DEFLATER=false USE_JDK_INFLATER=false\n",
      "[Wed Mar 03 10:26:59 PST 2021] Executing as cm262wi21ta1@dsmlp-jupyter-cm262wi21ta1 on Linux 3.10.0-1062.1.1.el7.x86_64 amd64; OpenJDK 64-Bit Server VM 10.0.2+13; Deflater: Intel; Inflater: Intel; Provider GCS is not available; Picard version: 2.18.29-SNAPSHOT\n",
      "INFO\t2021-03-03 10:27:14\tCollectHsMetrics\tProcessed     1,000,000 records.  Elapsed time: 00:00:14s.  Time for last 1,000,000:   14s.  Last read position: chr21:30,699,031\n",
      "INFO\t2021-03-03 10:27:27\tCollectHsMetrics\tProcessed     2,000,000 records.  Elapsed time: 00:00:27s.  Time for last 1,000,000:   13s.  Last read position: chr21:34,922,959\n",
      "INFO\t2021-03-03 10:27:41\tCollectHsMetrics\tProcessed     3,000,000 records.  Elapsed time: 00:00:41s.  Time for last 1,000,000:   14s.  Last read position: chr21:39,671,492\n",
      "INFO\t2021-03-03 10:27:56\tCollectHsMetrics\tProcessed     4,000,000 records.  Elapsed time: 00:00:56s.  Time for last 1,000,000:   14s.  Last read position: chr21:43,967,100\n",
      "INFO\t2021-03-03 10:28:10\tCollectHsMetrics\tProcessed     5,000,000 records.  Elapsed time: 00:01:10s.  Time for last 1,000,000:   13s.  Last read position: chr21:46,902,642\n",
      "INFO\t2021-03-03 10:28:19\tTheoreticalSensitivity\tCreating Roulette Wheel\n",
      "INFO\t2021-03-03 10:28:19\tTheoreticalSensitivity\tCalculating quality sums from quality sampler\n",
      "INFO\t2021-03-03 10:28:19\tTheoreticalSensitivity\t0 sampling iterations completed\n",
      "INFO\t2021-03-03 10:28:20\tTheoreticalSensitivity\t1000 sampling iterations completed\n",
      "INFO\t2021-03-03 10:28:21\tTheoreticalSensitivity\t2000 sampling iterations completed\n",
      "INFO\t2021-03-03 10:28:22\tTheoreticalSensitivity\t3000 sampling iterations completed\n",
      "INFO\t2021-03-03 10:28:24\tTheoreticalSensitivity\t4000 sampling iterations completed\n",
      "INFO\t2021-03-03 10:28:25\tTheoreticalSensitivity\t5000 sampling iterations completed\n",
      "INFO\t2021-03-03 10:28:26\tTheoreticalSensitivity\t6000 sampling iterations completed\n",
      "INFO\t2021-03-03 10:28:28\tTheoreticalSensitivity\t7000 sampling iterations completed\n",
      "INFO\t2021-03-03 10:28:29\tTheoreticalSensitivity\t8000 sampling iterations completed\n",
      "INFO\t2021-03-03 10:28:30\tTheoreticalSensitivity\t9000 sampling iterations completed\n",
      "INFO\t2021-03-03 10:28:31\tTheoreticalSensitivity\tCalculating theoretical het sensitivity\n",
      "[Wed Mar 03 10:28:32 PST 2021] picard.analysis.directed.CollectHsMetrics done. Elapsed time: 1.55 minutes.\n",
      "Runtime.totalMemory()=536870912\n"
     ]
    }
   ],
   "source": [
    "#This step takes a minute or two to run\n",
    "/opt/conda/envs/variant_calling/bin/picard CollectHsMetrics BAIT_INTERVALS=./resources_varCall/Sureselect.chr21.headerReorder.interval_list TARGET_INTERVALS=./resources_varCall/Sureselect.chr21.headerReorder.interval_list INPUT=./materials_varCall/FRFZ.chr21.hg19.mapped.bam OUTPUT=./results_HsMetric/FRFZ.chr21.hsmetrics.txt\n"
   ]
  },
  {
   "cell_type": "markdown",
   "metadata": {},
   "source": [
    "### Calling somatic variants (First Method)"
   ]
  },
  {
   "cell_type": "markdown",
   "metadata": {},
   "source": [
    "Mutect2 "
   ]
  },
  {
   "cell_type": "markdown",
   "metadata": {},
   "source": [
    "We will not be running this command, but the following are example commands we would use to generate ```CPTRES7vs4.vcf``` and ```CPTRES7vs4.mutec2.vcf```, our input files for the next few steps"
   ]
  },
  {
   "cell_type": "markdown",
   "metadata": {},
   "source": [
    " ```/opt/conda/envs/r-bio/bin/gatk Mutect2 -R ./resources_varCall/hg19.fa.gz \\\n",
    " -I ./materials_varCall/CPTRES7.realigned.chr21.bam \\\n",
    " -I ./materials_varCall/CPTRES4.realigned.chr21.bam \\\n",
    " -tumor CPTRES7:DS:CPTRES7 \\\n",
    " -normal CPTRES4:DS:CPTRES4 \\\n",
    " -O ./results_mutect2/CPTRES7vs4.vcf```"
   ]
  },
  {
   "cell_type": "markdown",
   "metadata": {},
   "source": [
    "``` /opt/conda/envs/r-bio/bin/gatk FilterMutectCalls -R ./resources_varCall/hg19.fa.gz \\\n",
    " -V ./results_mutect2/CPTRES7vs4.vcf \\\n",
    " -O ./results_mutect2/CPTRES7vs4.mutec2.vcf```"
   ]
  },
  {
   "cell_type": "markdown",
   "metadata": {},
   "source": [
    "#### VCF file manipulation"
   ]
  },
  {
   "cell_type": "code",
   "execution_count": 2,
   "metadata": {},
   "outputs": [],
   "source": [
    "#zip (bgzip) and index the vcf file\n",
    "for file in ./results_mutect2/CPTRES7vs4*vcf; do /opt/conda/envs/r-bio/bin/bgzip $file; /opt/conda/envs/r-bio/bin/tabix -p vcf $file.gz; done"
   ]
  },
  {
   "cell_type": "code",
   "execution_count": 3,
   "metadata": {
    "scrolled": true
   },
   "outputs": [
    {
     "name": "stdout",
     "output_type": "stream",
     "text": [
      "[W::vcf_parse_format] Extreme FORMAT/MPOS value encountered and set to missing at chr21:10794142\n"
     ]
    }
   ],
   "source": [
    "#flag variants with coverage less than 20\n",
    "/opt/conda/envs/r-bio/bin/bcftools filter -s \"DP20\" -O z -e 'INFO/DP<20' ./results_mutect2/CPTRES7vs4.mutec2.vcf.gz > ./results_mutect2/CPTRES7vs4.mutec2.filtered.vcf.gz"
   ]
  },
  {
   "cell_type": "code",
   "execution_count": 4,
   "metadata": {},
   "outputs": [
    {
     "name": "stdout",
     "output_type": "stream",
     "text": [
      "# This file was produced by bcftools stats (1.11+htslib-1.11) and can be plotted using plot-vcfstats.\n",
      "# The command line was:\tbcftools stats  ./results_mutect2/CPTRES7vs4.mutec2.filtered.vcf.gz\n",
      "#\n",
      "# Definition of sets:\n",
      "# ID\t[2]id\t[3]tab-separated file names\n",
      "ID\t0\t./results_mutect2/CPTRES7vs4.mutec2.filtered.vcf.gz\n",
      "# SN, Summary numbers:\n",
      "#   number of records   .. number of data rows in the VCF\n",
      "#   number of no-ALTs   .. reference-only sites, ALT is either \".\" or identical to REF\n",
      "#   number of SNPs      .. number of rows with a SNP\n",
      "#   number of MNPs      .. number of rows with a MNP, such as CC>TT\n",
      "#   number of indels    .. number of rows with an indel\n",
      "#   number of others    .. number of rows with other type, for example a symbolic allele or\n",
      "#                          a complex substitution, such as ACT>TCGA\n",
      "#   number of multiallelic sites     .. number of rows with multiple alternate alleles\n",
      "#   number of multiallelic SNP sites .. number of rows with multiple alternate alleles, all SNPs\n",
      "# \n",
      "#   Note that rows containing multiple types will be counted multiple times, in each\n",
      "#   counter. For example, a row with a SNP and an indel increments both the SNP and\n",
      "#   the indel counter.\n",
      "# \n",
      "# SN\t[2]id\t[3]key\t[4]value\n",
      "SN\t0\tnumber of samples:\t2\n",
      "SN\t0\tnumber of records:\t78\n",
      "SN\t0\tnumber of no-ALTs:\t0\n",
      "SN\t0\tnumber of SNPs:\t58\n",
      "SN\t0\tnumber of MNPs:\t5\n",
      "SN\t0\tnumber of indels:\t15\n",
      "SN\t0\tnumber of others:\t0\n",
      "SN\t0\tnumber of multiallelic sites:\t4\n",
      "SN\t0\tnumber of multiallelic SNP sites:\t1\n",
      "# TSTV, transitions/transversions:\n",
      "# TSTV\t[2]id\t[3]ts\t[4]tv\t[5]ts/tv\t[6]ts (1st ALT)\t[7]tv (1st ALT)\t[8]ts/tv (1st ALT)\n",
      "TSTV\t0\t23\t36\t0.64\t23\t35\t0.66\n",
      "# SiS, Singleton stats:\n",
      "# SiS\t[2]id\t[3]allele count\t[4]number of SNPs\t[5]number of transitions\t[6]number of transversions\t[7]number of indels\t[8]repeat-consistent\t[9]repeat-inconsistent\t[10]not applicable\n",
      "SiS\t0\t1\t59\t23\t36\t18\t0\t0\t18\n",
      "# AF, Stats by non-reference allele frequency:\n",
      "# AF\t[2]id\t[3]allele frequency\t[4]number of SNPs\t[5]number of transitions\t[6]number of transversions\t[7]number of indels\t[8]repeat-consistent\t[9]repeat-inconsistent\t[10]not applicable\n",
      "AF\t0\t0.000000\t59\t23\t36\t18\t0\t0\t18\n",
      "# QUAL, Stats by quality:\n",
      "# QUAL\t[2]id\t[3]Quality\t[4]number of SNPs\t[5]number of transitions (1st ALT)\t[6]number of transversions (1st ALT)\t[7]number of indels\n",
      "QUAL\t0\t998\t58\t23\t35\t15\n",
      "# IDD, InDel distribution:\n",
      "# IDD\t[2]id\t[3]length (deletions negative)\t[4]number of sites\t[5]number of genotypes\t[6]mean VAF\n",
      "IDD\t0\t-2\t3\t0\t.\n",
      "IDD\t0\t-1\t12\t0\t.\n",
      "IDD\t0\t1\t3\t0\t.\n",
      "# ST, Substitution types:\n",
      "# ST\t[2]id\t[3]type\t[4]count\n",
      "ST\t0\tA>C\t3\n",
      "ST\t0\tA>G\t1\n",
      "ST\t0\tA>T\t1\n",
      "ST\t0\tC>A\t14\n",
      "ST\t0\tC>G\t2\n",
      "ST\t0\tC>T\t15\n",
      "ST\t0\tG>A\t3\n",
      "ST\t0\tG>C\t1\n",
      "ST\t0\tG>T\t11\n",
      "ST\t0\tT>A\t3\n",
      "ST\t0\tT>C\t4\n",
      "ST\t0\tT>G\t1\n",
      "# DP, Depth distribution\n",
      "# DP\t[2]id\t[3]bin\t[4]number of genotypes\t[5]fraction of genotypes (%)\t[6]number of sites\t[7]fraction of sites (%)\n",
      "DP\t0\t18\t0\t0.000000\t1\t1.282051\n",
      "DP\t0\t21\t0\t0.000000\t1\t1.282051\n",
      "DP\t0\t23\t0\t0.000000\t2\t2.564103\n",
      "DP\t0\t26\t0\t0.000000\t1\t1.282051\n",
      "DP\t0\t27\t0\t0.000000\t1\t1.282051\n",
      "DP\t0\t28\t0\t0.000000\t2\t2.564103\n",
      "DP\t0\t35\t0\t0.000000\t1\t1.282051\n",
      "DP\t0\t36\t0\t0.000000\t1\t1.282051\n",
      "DP\t0\t37\t0\t0.000000\t1\t1.282051\n",
      "DP\t0\t38\t0\t0.000000\t1\t1.282051\n",
      "DP\t0\t39\t0\t0.000000\t1\t1.282051\n",
      "DP\t0\t40\t0\t0.000000\t1\t1.282051\n",
      "DP\t0\t41\t0\t0.000000\t1\t1.282051\n",
      "DP\t0\t45\t0\t0.000000\t1\t1.282051\n",
      "DP\t0\t49\t0\t0.000000\t2\t2.564103\n",
      "DP\t0\t51\t0\t0.000000\t3\t3.846154\n",
      "DP\t0\t52\t0\t0.000000\t1\t1.282051\n",
      "DP\t0\t53\t0\t0.000000\t1\t1.282051\n",
      "DP\t0\t57\t0\t0.000000\t1\t1.282051\n",
      "DP\t0\t58\t0\t0.000000\t1\t1.282051\n",
      "DP\t0\t60\t0\t0.000000\t1\t1.282051\n",
      "DP\t0\t61\t0\t0.000000\t1\t1.282051\n",
      "DP\t0\t62\t0\t0.000000\t2\t2.564103\n",
      "DP\t0\t64\t0\t0.000000\t1\t1.282051\n",
      "DP\t0\t69\t0\t0.000000\t1\t1.282051\n",
      "DP\t0\t70\t0\t0.000000\t2\t2.564103\n",
      "DP\t0\t71\t0\t0.000000\t1\t1.282051\n",
      "DP\t0\t78\t0\t0.000000\t1\t1.282051\n",
      "DP\t0\t82\t0\t0.000000\t1\t1.282051\n",
      "DP\t0\t88\t0\t0.000000\t1\t1.282051\n",
      "DP\t0\t91\t0\t0.000000\t1\t1.282051\n",
      "DP\t0\t114\t0\t0.000000\t1\t1.282051\n",
      "DP\t0\t118\t0\t0.000000\t1\t1.282051\n",
      "DP\t0\t119\t0\t0.000000\t1\t1.282051\n",
      "DP\t0\t134\t0\t0.000000\t1\t1.282051\n",
      "DP\t0\t135\t0\t0.000000\t1\t1.282051\n",
      "DP\t0\t142\t0\t0.000000\t1\t1.282051\n",
      "DP\t0\t148\t0\t0.000000\t2\t2.564103\n",
      "DP\t0\t153\t0\t0.000000\t1\t1.282051\n",
      "DP\t0\t155\t0\t0.000000\t1\t1.282051\n",
      "DP\t0\t157\t0\t0.000000\t1\t1.282051\n",
      "DP\t0\t166\t0\t0.000000\t1\t1.282051\n",
      "DP\t0\t173\t0\t0.000000\t1\t1.282051\n",
      "DP\t0\t183\t0\t0.000000\t1\t1.282051\n",
      "DP\t0\t186\t0\t0.000000\t1\t1.282051\n",
      "DP\t0\t207\t0\t0.000000\t1\t1.282051\n",
      "DP\t0\t215\t0\t0.000000\t1\t1.282051\n",
      "DP\t0\t234\t0\t0.000000\t2\t2.564103\n",
      "DP\t0\t247\t0\t0.000000\t1\t1.282051\n",
      "DP\t0\t262\t0\t0.000000\t1\t1.282051\n",
      "DP\t0\t444\t0\t0.000000\t1\t1.282051\n",
      "DP\t0\t461\t0\t0.000000\t1\t1.282051\n",
      "DP\t0\t491\t0\t0.000000\t1\t1.282051\n",
      "DP\t0\t>500\t0\t0.000000\t16\t20.512821\n"
     ]
    }
   ],
   "source": [
    "#Get some statistics\n",
    "/opt/conda/envs/r-bio/bin/bcftools stats ./results_mutect2/CPTRES7vs4.mutec2.filtered.vcf.gz"
   ]
  },
  {
   "cell_type": "markdown",
   "metadata": {},
   "source": [
    "### Calling somatic variants (Second Method)"
   ]
  },
  {
   "cell_type": "markdown",
   "metadata": {},
   "source": [
    "#### Generate pileup files"
   ]
  },
  {
   "cell_type": "code",
   "execution_count": 5,
   "metadata": {},
   "outputs": [],
   "source": [
    "#create bam indices\n",
    "/opt/conda/envs/r-bio/bin/samtools index ./materials_varCall/CPTRES7.realigned.chr21.bam ./materials_varCall/CPTRES7.realigned.chr21.bam.bai\n",
    "/opt/conda/envs/r-bio/bin/samtools index ./materials_varCall/CPTRES4.realigned.chr21.bam ./materials_varCall/CPTRES4.realigned.chr21.bam.bai"
   ]
  },
  {
   "cell_type": "code",
   "execution_count": 6,
   "metadata": {},
   "outputs": [
    {
     "name": "stdout",
     "output_type": "stream",
     "text": [
      "[mpileup] 1 samples in 1 input files\n",
      "[mpileup] 1 samples in 1 input files\n"
     ]
    }
   ],
   "source": [
    "# generate pileup (without ref)\n",
    "/opt/conda/envs/r-bio/bin/samtools mpileup -Q 0 -f ./resources_varCall/chr21.fa.gz ./materials_varCall/CPTRES7.realigned.chr21.bam > ./results_varscan/CPTRES7.chr21.pileup\n",
    "/opt/conda/envs/r-bio/bin/samtools mpileup -Q 0 -f ./resources_varCall/chr21.fa.gz ./materials_varCall/CPTRES4.realigned.chr21.bam > ./results_varscan/CPTRES4.chr21.pileup\n"
   ]
  },
  {
   "cell_type": "code",
   "execution_count": 7,
   "metadata": {},
   "outputs": [
    {
     "name": "stdout",
     "output_type": "stream",
     "text": [
      "Normal Pileup: ./results_varscan/CPTRES4.chr21.pileup\n",
      "Tumor Pileup: ./results_varscan/CPTRES7.chr21.pileup\n",
      "NOTICE: While dual input files are still supported, using a single mpileup file (normal-tumor) with the --mpileup 1 setting is strongly recommended.\n",
      "Min coverage:\t8x for Normal, 6x for Tumor\n",
      "Min reads2:\t2\n",
      "Min strands2:\t1\n",
      "Min var freq:\t0.2\n",
      "Min freq for hom:\t0.75\n",
      "Normal purity:\t1.0\n",
      "Tumor purity:\t1.0\n",
      "Min avg qual:\t15\n",
      "P-value thresh:\t0.99\n",
      "Somatic p-value:\t0.05\n",
      "1417403 positions in tumor\n",
      "1416817 positions shared in normal\n",
      "945223 had sufficient coverage for comparison\n",
      "944186 were called Reference\n",
      "0 were mixed SNP-indel calls and filtered\n",
      "1020 were called Germline\n",
      "2 were called LOH\n",
      "15 were called Somatic\n",
      "0 were called Unknown\n",
      "0 were called Variant\n"
     ]
    }
   ],
   "source": [
    "# call variants with Varscan (may need interactive node for RAM needs)\n",
    "/opt/conda/envs/r-bio/bin/varscan somatic ./results_varscan/CPTRES4.chr21.pileup ./results_varscan/CPTRES7.chr21.pileup CPTRES7vs4 --output-vcf --output-snp ./results_varscan/CPTRES7vs4.chr21.snp --output-indel ./results_varscan/CPTRES7vs4.chr21.indel"
   ]
  },
  {
   "cell_type": "markdown",
   "metadata": {},
   "source": [
    "#### Calling CNV"
   ]
  },
  {
   "cell_type": "markdown",
   "metadata": {},
   "source": [
    "We will not be running this command, but here is an example of the ```cnvkit.py batch``` command."
   ]
  },
  {
   "cell_type": "markdown",
   "metadata": {},
   "source": [
    "CNV calling with CNVkit batch:\n",
    "\n",
    "```/opt/conda/envs/r-bio/bin/cnvkit.py batch ./materials/CPTRES7.realigned.chr21.bam --normal ./materials/CPTRES4.realigned.chr21.bam --targets ./resources/Sureselect.chr21.bed --annotate ./resources/refFlat.txt --fasta ./resources/hg19.fa.gz --access ./resources/access-5k-mappable.hg19.bed --output-reference myref.cnn --output-dir ./results --diagram --scatter```\n"
   ]
  },
  {
   "cell_type": "markdown",
   "metadata": {},
   "source": [
    "#### VCF file manipulation"
   ]
  },
  {
   "cell_type": "markdown",
   "metadata": {},
   "source": [
    "Let's merge the snp and indel files"
   ]
  },
  {
   "cell_type": "code",
   "execution_count": 1,
   "metadata": {},
   "outputs": [],
   "source": [
    "#zip (bgzip) and index the vcf file\n",
    "for file in ./results_varscan/CPTRES7vs4*vcf; do /opt/conda/envs/r-bio/bin/bgzip $file; /opt/conda/envs/r-bio/bin/tabix -p vcf $file.gz; done"
   ]
  },
  {
   "cell_type": "code",
   "execution_count": 2,
   "metadata": {},
   "outputs": [
    {
     "name": "stdout",
     "output_type": "stream",
     "text": [
      "Checking the headers and starting positions of 2 files\n",
      "Concatenating ./results_varscan/CPTRES7vs4.chr21.snp.vcf.gz\t0.008932 seconds\n",
      "Concatenating ./results_varscan/CPTRES7vs4.chr21.indel.vcf.gz\t0.000701 seconds\n"
     ]
    }
   ],
   "source": [
    "#Concatenate the snp and indel files\n",
    "/opt/conda/envs/r-bio/bin/bcftools concat -O z -o ./results_varscan/CPTRES7vs4.varscan.vcf.gz ./results_varscan/CPTRES7vs4.chr21.snp.vcf.gz ./results_varscan/CPTRES7vs4.chr21.indel.vcf.gz\n"
   ]
  },
  {
   "cell_type": "code",
   "execution_count": 3,
   "metadata": {},
   "outputs": [],
   "source": [
    "#flag variants with coverage less than 20\n",
    "/opt/conda/envs/r-bio/bin/bcftools filter -s \"DP20\" -O z -e 'INFO/DP<20' ./results_varscan/CPTRES7vs4.varscan.vcf.gz > ./results_varscan/CPTRES7vs4.varscan.filtered.vcf.gz"
   ]
  },
  {
   "cell_type": "code",
   "execution_count": 4,
   "metadata": {},
   "outputs": [],
   "source": [
    "#keep PASS and germline\n",
    "/opt/conda/envs/r-bio/bin/bcftools filter -O z -i 'FILTER==\"PASS\" & INFO/SS==\"1\"' ./results_varscan/CPTRES7vs4.varscan.filtered.vcf.gz > ./results_varscan/CPTRES7vs4.germ.vcf.gz"
   ]
  },
  {
   "cell_type": "code",
   "execution_count": 5,
   "metadata": {},
   "outputs": [
    {
     "name": "stdout",
     "output_type": "stream",
     "text": [
      "# This file was produced by bcftools stats (1.11+htslib-1.11) and can be plotted using plot-vcfstats.\n",
      "# The command line was:\tbcftools stats  ./results_varscan/CPTRES7vs4.germ.vcf.gz\n",
      "#\n",
      "# Definition of sets:\n",
      "# ID\t[2]id\t[3]tab-separated file names\n",
      "ID\t0\t./results_varscan/CPTRES7vs4.germ.vcf.gz\n",
      "# SN, Summary numbers:\n",
      "#   number of records   .. number of data rows in the VCF\n",
      "#   number of no-ALTs   .. reference-only sites, ALT is either \".\" or identical to REF\n",
      "#   number of SNPs      .. number of rows with a SNP\n",
      "#   number of MNPs      .. number of rows with a MNP, such as CC>TT\n",
      "#   number of indels    .. number of rows with an indel\n",
      "#   number of others    .. number of rows with other type, for example a symbolic allele or\n",
      "#                          a complex substitution, such as ACT>TCGA\n",
      "#   number of multiallelic sites     .. number of rows with multiple alternate alleles\n",
      "#   number of multiallelic SNP sites .. number of rows with multiple alternate alleles, all SNPs\n",
      "# \n",
      "#   Note that rows containing multiple types will be counted multiple times, in each\n",
      "#   counter. For example, a row with a SNP and an indel increments both the SNP and\n",
      "#   the indel counter.\n",
      "# \n",
      "# SN\t[2]id\t[3]key\t[4]value\n",
      "SN\t0\tnumber of samples:\t2\n",
      "SN\t0\tnumber of records:\t957\n",
      "SN\t0\tnumber of no-ALTs:\t0\n",
      "SN\t0\tnumber of SNPs:\t847\n",
      "SN\t0\tnumber of MNPs:\t0\n",
      "SN\t0\tnumber of indels:\t110\n",
      "SN\t0\tnumber of others:\t0\n",
      "SN\t0\tnumber of multiallelic sites:\t0\n",
      "SN\t0\tnumber of multiallelic SNP sites:\t0\n",
      "# TSTV, transitions/transversions:\n",
      "# TSTV\t[2]id\t[3]ts\t[4]tv\t[5]ts/tv\t[6]ts (1st ALT)\t[7]tv (1st ALT)\t[8]ts/tv (1st ALT)\n",
      "TSTV\t0\t619\t228\t2.71\t619\t228\t2.71\n",
      "# SiS, Singleton stats:\n",
      "# SiS\t[2]id\t[3]allele count\t[4]number of SNPs\t[5]number of transitions\t[6]number of transversions\t[7]number of indels\t[8]repeat-consistent\t[9]repeat-inconsistent\t[10]not applicable\n",
      "SiS\t0\t1\t847\t619\t228\t110\t0\t0\t110\n",
      "# AF, Stats by non-reference allele frequency:\n",
      "# AF\t[2]id\t[3]allele frequency\t[4]number of SNPs\t[5]number of transitions\t[6]number of transversions\t[7]number of indels\t[8]repeat-consistent\t[9]repeat-inconsistent\t[10]not applicable\n",
      "AF\t0\t0.000000\t847\t619\t228\t110\t0\t0\t110\n",
      "# QUAL, Stats by quality:\n",
      "# QUAL\t[2]id\t[3]Quality\t[4]number of SNPs\t[5]number of transitions (1st ALT)\t[6]number of transversions (1st ALT)\t[7]number of indels\n",
      "QUAL\t0\t998\t847\t619\t228\t110\n",
      "# IDD, InDel distribution:\n",
      "# IDD\t[2]id\t[3]length (deletions negative)\t[4]number of sites\t[5]number of genotypes\t[6]mean VAF\n",
      "IDD\t0\t-14\t1\t0\t.\n",
      "IDD\t0\t-8\t1\t0\t.\n",
      "IDD\t0\t-7\t1\t0\t.\n",
      "IDD\t0\t-4\t3\t0\t.\n",
      "IDD\t0\t-3\t4\t0\t.\n",
      "IDD\t0\t-2\t7\t0\t.\n",
      "IDD\t0\t-1\t34\t0\t.\n",
      "IDD\t0\t1\t36\t0\t.\n",
      "IDD\t0\t2\t5\t0\t.\n",
      "IDD\t0\t3\t5\t0\t.\n",
      "IDD\t0\t4\t1\t0\t.\n",
      "IDD\t0\t5\t2\t0\t.\n",
      "IDD\t0\t6\t4\t0\t.\n",
      "IDD\t0\t12\t1\t0\t.\n",
      "IDD\t0\t13\t1\t0\t.\n",
      "IDD\t0\t15\t3\t0\t.\n",
      "IDD\t0\t29\t1\t0\t.\n",
      "# ST, Substitution types:\n",
      "# ST\t[2]id\t[3]type\t[4]count\n",
      "ST\t0\tA>C\t25\n",
      "ST\t0\tA>G\t163\n",
      "ST\t0\tA>T\t17\n",
      "ST\t0\tC>A\t36\n",
      "ST\t0\tC>G\t37\n",
      "ST\t0\tC>T\t147\n",
      "ST\t0\tG>A\t156\n",
      "ST\t0\tG>C\t39\n",
      "ST\t0\tG>T\t24\n",
      "ST\t0\tT>A\t22\n",
      "ST\t0\tT>C\t153\n",
      "ST\t0\tT>G\t28\n",
      "# DP, Depth distribution\n",
      "# DP\t[2]id\t[3]bin\t[4]number of genotypes\t[5]fraction of genotypes (%)\t[6]number of sites\t[7]fraction of sites (%)\n",
      "DP\t0\t20\t0\t0.000000\t12\t1.253918\n",
      "DP\t0\t21\t0\t0.000000\t17\t1.776385\n",
      "DP\t0\t22\t0\t0.000000\t12\t1.253918\n",
      "DP\t0\t23\t0\t0.000000\t7\t0.731452\n",
      "DP\t0\t24\t0\t0.000000\t13\t1.358412\n",
      "DP\t0\t25\t0\t0.000000\t16\t1.671891\n",
      "DP\t0\t26\t0\t0.000000\t15\t1.567398\n",
      "DP\t0\t27\t0\t0.000000\t10\t1.044932\n",
      "DP\t0\t28\t0\t0.000000\t9\t0.940439\n",
      "DP\t0\t29\t0\t0.000000\t15\t1.567398\n",
      "DP\t0\t30\t0\t0.000000\t4\t0.417973\n",
      "DP\t0\t31\t0\t0.000000\t14\t1.462905\n",
      "DP\t0\t32\t0\t0.000000\t8\t0.835946\n",
      "DP\t0\t33\t0\t0.000000\t7\t0.731452\n",
      "DP\t0\t34\t0\t0.000000\t11\t1.149425\n",
      "DP\t0\t35\t0\t0.000000\t10\t1.044932\n",
      "DP\t0\t36\t0\t0.000000\t10\t1.044932\n",
      "DP\t0\t37\t0\t0.000000\t6\t0.626959\n",
      "DP\t0\t38\t0\t0.000000\t14\t1.462905\n",
      "DP\t0\t39\t0\t0.000000\t13\t1.358412\n",
      "DP\t0\t40\t0\t0.000000\t12\t1.253918\n",
      "DP\t0\t41\t0\t0.000000\t14\t1.462905\n",
      "DP\t0\t42\t0\t0.000000\t11\t1.149425\n",
      "DP\t0\t43\t0\t0.000000\t13\t1.358412\n",
      "DP\t0\t44\t0\t0.000000\t12\t1.253918\n",
      "DP\t0\t45\t0\t0.000000\t11\t1.149425\n",
      "DP\t0\t46\t0\t0.000000\t12\t1.253918\n",
      "DP\t0\t47\t0\t0.000000\t11\t1.149425\n",
      "DP\t0\t48\t0\t0.000000\t3\t0.313480\n",
      "DP\t0\t49\t0\t0.000000\t12\t1.253918\n",
      "DP\t0\t50\t0\t0.000000\t3\t0.313480\n",
      "DP\t0\t51\t0\t0.000000\t7\t0.731452\n",
      "DP\t0\t52\t0\t0.000000\t13\t1.358412\n",
      "DP\t0\t53\t0\t0.000000\t4\t0.417973\n",
      "DP\t0\t54\t0\t0.000000\t6\t0.626959\n",
      "DP\t0\t55\t0\t0.000000\t6\t0.626959\n",
      "DP\t0\t56\t0\t0.000000\t7\t0.731452\n",
      "DP\t0\t57\t0\t0.000000\t9\t0.940439\n",
      "DP\t0\t58\t0\t0.000000\t4\t0.417973\n",
      "DP\t0\t59\t0\t0.000000\t8\t0.835946\n",
      "DP\t0\t60\t0\t0.000000\t9\t0.940439\n",
      "DP\t0\t61\t0\t0.000000\t16\t1.671891\n",
      "DP\t0\t62\t0\t0.000000\t4\t0.417973\n",
      "DP\t0\t63\t0\t0.000000\t4\t0.417973\n",
      "DP\t0\t64\t0\t0.000000\t5\t0.522466\n",
      "DP\t0\t65\t0\t0.000000\t9\t0.940439\n",
      "DP\t0\t66\t0\t0.000000\t4\t0.417973\n",
      "DP\t0\t67\t0\t0.000000\t3\t0.313480\n",
      "DP\t0\t68\t0\t0.000000\t11\t1.149425\n",
      "DP\t0\t69\t0\t0.000000\t7\t0.731452\n",
      "DP\t0\t70\t0\t0.000000\t6\t0.626959\n",
      "DP\t0\t71\t0\t0.000000\t5\t0.522466\n",
      "DP\t0\t72\t0\t0.000000\t3\t0.313480\n",
      "DP\t0\t73\t0\t0.000000\t2\t0.208986\n",
      "DP\t0\t74\t0\t0.000000\t9\t0.940439\n",
      "DP\t0\t75\t0\t0.000000\t4\t0.417973\n",
      "DP\t0\t76\t0\t0.000000\t3\t0.313480\n",
      "DP\t0\t77\t0\t0.000000\t8\t0.835946\n",
      "DP\t0\t78\t0\t0.000000\t9\t0.940439\n",
      "DP\t0\t79\t0\t0.000000\t8\t0.835946\n",
      "DP\t0\t80\t0\t0.000000\t9\t0.940439\n",
      "DP\t0\t81\t0\t0.000000\t3\t0.313480\n",
      "DP\t0\t82\t0\t0.000000\t1\t0.104493\n",
      "DP\t0\t83\t0\t0.000000\t5\t0.522466\n",
      "DP\t0\t84\t0\t0.000000\t5\t0.522466\n",
      "DP\t0\t85\t0\t0.000000\t3\t0.313480\n",
      "DP\t0\t86\t0\t0.000000\t4\t0.417973\n",
      "DP\t0\t87\t0\t0.000000\t9\t0.940439\n",
      "DP\t0\t88\t0\t0.000000\t3\t0.313480\n",
      "DP\t0\t89\t0\t0.000000\t1\t0.104493\n",
      "DP\t0\t90\t0\t0.000000\t4\t0.417973\n",
      "DP\t0\t91\t0\t0.000000\t3\t0.313480\n",
      "DP\t0\t92\t0\t0.000000\t6\t0.626959\n",
      "DP\t0\t93\t0\t0.000000\t2\t0.208986\n",
      "DP\t0\t94\t0\t0.000000\t5\t0.522466\n",
      "DP\t0\t95\t0\t0.000000\t1\t0.104493\n",
      "DP\t0\t96\t0\t0.000000\t3\t0.313480\n",
      "DP\t0\t97\t0\t0.000000\t6\t0.626959\n",
      "DP\t0\t98\t0\t0.000000\t1\t0.104493\n",
      "DP\t0\t99\t0\t0.000000\t7\t0.731452\n",
      "DP\t0\t100\t0\t0.000000\t3\t0.313480\n",
      "DP\t0\t101\t0\t0.000000\t5\t0.522466\n",
      "DP\t0\t102\t0\t0.000000\t5\t0.522466\n",
      "DP\t0\t103\t0\t0.000000\t3\t0.313480\n",
      "DP\t0\t104\t0\t0.000000\t3\t0.313480\n",
      "DP\t0\t105\t0\t0.000000\t4\t0.417973\n",
      "DP\t0\t106\t0\t0.000000\t5\t0.522466\n",
      "DP\t0\t107\t0\t0.000000\t6\t0.626959\n",
      "DP\t0\t108\t0\t0.000000\t1\t0.104493\n",
      "DP\t0\t109\t0\t0.000000\t1\t0.104493\n",
      "DP\t0\t110\t0\t0.000000\t4\t0.417973\n",
      "DP\t0\t111\t0\t0.000000\t2\t0.208986\n",
      "DP\t0\t112\t0\t0.000000\t3\t0.313480\n",
      "DP\t0\t114\t0\t0.000000\t7\t0.731452\n",
      "DP\t0\t115\t0\t0.000000\t2\t0.208986\n",
      "DP\t0\t116\t0\t0.000000\t2\t0.208986\n",
      "DP\t0\t117\t0\t0.000000\t5\t0.522466\n",
      "DP\t0\t118\t0\t0.000000\t7\t0.731452\n",
      "DP\t0\t119\t0\t0.000000\t5\t0.522466\n",
      "DP\t0\t120\t0\t0.000000\t8\t0.835946\n",
      "DP\t0\t121\t0\t0.000000\t3\t0.313480\n",
      "DP\t0\t122\t0\t0.000000\t3\t0.313480\n",
      "DP\t0\t123\t0\t0.000000\t4\t0.417973\n",
      "DP\t0\t124\t0\t0.000000\t3\t0.313480\n",
      "DP\t0\t125\t0\t0.000000\t3\t0.313480\n",
      "DP\t0\t126\t0\t0.000000\t1\t0.104493\n",
      "DP\t0\t127\t0\t0.000000\t1\t0.104493\n",
      "DP\t0\t128\t0\t0.000000\t3\t0.313480\n",
      "DP\t0\t129\t0\t0.000000\t1\t0.104493\n",
      "DP\t0\t130\t0\t0.000000\t4\t0.417973\n",
      "DP\t0\t131\t0\t0.000000\t3\t0.313480\n",
      "DP\t0\t132\t0\t0.000000\t4\t0.417973\n",
      "DP\t0\t133\t0\t0.000000\t5\t0.522466\n",
      "DP\t0\t134\t0\t0.000000\t3\t0.313480\n",
      "DP\t0\t135\t0\t0.000000\t3\t0.313480\n",
      "DP\t0\t136\t0\t0.000000\t2\t0.208986\n",
      "DP\t0\t137\t0\t0.000000\t2\t0.208986\n",
      "DP\t0\t138\t0\t0.000000\t2\t0.208986\n",
      "DP\t0\t139\t0\t0.000000\t5\t0.522466\n",
      "DP\t0\t140\t0\t0.000000\t2\t0.208986\n",
      "DP\t0\t141\t0\t0.000000\t5\t0.522466\n",
      "DP\t0\t142\t0\t0.000000\t3\t0.313480\n",
      "DP\t0\t143\t0\t0.000000\t4\t0.417973\n",
      "DP\t0\t144\t0\t0.000000\t3\t0.313480\n",
      "DP\t0\t145\t0\t0.000000\t2\t0.208986\n",
      "DP\t0\t146\t0\t0.000000\t4\t0.417973\n",
      "DP\t0\t147\t0\t0.000000\t4\t0.417973\n",
      "DP\t0\t148\t0\t0.000000\t1\t0.104493\n",
      "DP\t0\t149\t0\t0.000000\t1\t0.104493\n",
      "DP\t0\t150\t0\t0.000000\t2\t0.208986\n",
      "DP\t0\t151\t0\t0.000000\t3\t0.313480\n",
      "DP\t0\t152\t0\t0.000000\t3\t0.313480\n",
      "DP\t0\t154\t0\t0.000000\t3\t0.313480\n",
      "DP\t0\t156\t0\t0.000000\t1\t0.104493\n",
      "DP\t0\t157\t0\t0.000000\t2\t0.208986\n",
      "DP\t0\t158\t0\t0.000000\t3\t0.313480\n",
      "DP\t0\t159\t0\t0.000000\t4\t0.417973\n",
      "DP\t0\t160\t0\t0.000000\t1\t0.104493\n",
      "DP\t0\t163\t0\t0.000000\t1\t0.104493\n",
      "DP\t0\t164\t0\t0.000000\t2\t0.208986\n",
      "DP\t0\t165\t0\t0.000000\t1\t0.104493\n",
      "DP\t0\t166\t0\t0.000000\t3\t0.313480\n",
      "DP\t0\t168\t0\t0.000000\t2\t0.208986\n",
      "DP\t0\t170\t0\t0.000000\t2\t0.208986\n",
      "DP\t0\t171\t0\t0.000000\t1\t0.104493\n",
      "DP\t0\t172\t0\t0.000000\t2\t0.208986\n",
      "DP\t0\t173\t0\t0.000000\t1\t0.104493\n",
      "DP\t0\t174\t0\t0.000000\t2\t0.208986\n",
      "DP\t0\t175\t0\t0.000000\t1\t0.104493\n",
      "DP\t0\t176\t0\t0.000000\t3\t0.313480\n",
      "DP\t0\t177\t0\t0.000000\t2\t0.208986\n",
      "DP\t0\t178\t0\t0.000000\t2\t0.208986\n",
      "DP\t0\t179\t0\t0.000000\t1\t0.104493\n",
      "DP\t0\t180\t0\t0.000000\t2\t0.208986\n",
      "DP\t0\t182\t0\t0.000000\t1\t0.104493\n",
      "DP\t0\t183\t0\t0.000000\t5\t0.522466\n",
      "DP\t0\t186\t0\t0.000000\t1\t0.104493\n",
      "DP\t0\t187\t0\t0.000000\t3\t0.313480\n",
      "DP\t0\t188\t0\t0.000000\t4\t0.417973\n",
      "DP\t0\t190\t0\t0.000000\t1\t0.104493\n",
      "DP\t0\t191\t0\t0.000000\t1\t0.104493\n",
      "DP\t0\t192\t0\t0.000000\t1\t0.104493\n",
      "DP\t0\t194\t0\t0.000000\t3\t0.313480\n",
      "DP\t0\t195\t0\t0.000000\t1\t0.104493\n",
      "DP\t0\t196\t0\t0.000000\t2\t0.208986\n",
      "DP\t0\t197\t0\t0.000000\t1\t0.104493\n",
      "DP\t0\t198\t0\t0.000000\t2\t0.208986\n",
      "DP\t0\t199\t0\t0.000000\t3\t0.313480\n",
      "DP\t0\t200\t0\t0.000000\t5\t0.522466\n"
     ]
    },
    {
     "name": "stdout",
     "output_type": "stream",
     "text": [
      "DP\t0\t201\t0\t0.000000\t1\t0.104493\n",
      "DP\t0\t202\t0\t0.000000\t1\t0.104493\n",
      "DP\t0\t203\t0\t0.000000\t1\t0.104493\n",
      "DP\t0\t204\t0\t0.000000\t3\t0.313480\n",
      "DP\t0\t205\t0\t0.000000\t2\t0.208986\n",
      "DP\t0\t206\t0\t0.000000\t4\t0.417973\n",
      "DP\t0\t207\t0\t0.000000\t2\t0.208986\n",
      "DP\t0\t208\t0\t0.000000\t3\t0.313480\n",
      "DP\t0\t210\t0\t0.000000\t2\t0.208986\n",
      "DP\t0\t211\t0\t0.000000\t1\t0.104493\n",
      "DP\t0\t212\t0\t0.000000\t1\t0.104493\n",
      "DP\t0\t214\t0\t0.000000\t1\t0.104493\n",
      "DP\t0\t215\t0\t0.000000\t1\t0.104493\n",
      "DP\t0\t217\t0\t0.000000\t2\t0.208986\n",
      "DP\t0\t220\t0\t0.000000\t2\t0.208986\n",
      "DP\t0\t223\t0\t0.000000\t2\t0.208986\n",
      "DP\t0\t224\t0\t0.000000\t2\t0.208986\n",
      "DP\t0\t226\t0\t0.000000\t2\t0.208986\n",
      "DP\t0\t227\t0\t0.000000\t1\t0.104493\n",
      "DP\t0\t229\t0\t0.000000\t2\t0.208986\n",
      "DP\t0\t230\t0\t0.000000\t2\t0.208986\n",
      "DP\t0\t232\t0\t0.000000\t1\t0.104493\n",
      "DP\t0\t234\t0\t0.000000\t1\t0.104493\n",
      "DP\t0\t235\t0\t0.000000\t1\t0.104493\n",
      "DP\t0\t236\t0\t0.000000\t3\t0.313480\n",
      "DP\t0\t237\t0\t0.000000\t1\t0.104493\n",
      "DP\t0\t238\t0\t0.000000\t1\t0.104493\n",
      "DP\t0\t243\t0\t0.000000\t1\t0.104493\n",
      "DP\t0\t245\t0\t0.000000\t1\t0.104493\n",
      "DP\t0\t246\t0\t0.000000\t1\t0.104493\n",
      "DP\t0\t248\t0\t0.000000\t1\t0.104493\n",
      "DP\t0\t249\t0\t0.000000\t2\t0.208986\n",
      "DP\t0\t250\t0\t0.000000\t2\t0.208986\n",
      "DP\t0\t251\t0\t0.000000\t1\t0.104493\n",
      "DP\t0\t254\t0\t0.000000\t1\t0.104493\n",
      "DP\t0\t255\t0\t0.000000\t1\t0.104493\n",
      "DP\t0\t258\t0\t0.000000\t1\t0.104493\n",
      "DP\t0\t261\t0\t0.000000\t2\t0.208986\n",
      "DP\t0\t262\t0\t0.000000\t1\t0.104493\n",
      "DP\t0\t263\t0\t0.000000\t1\t0.104493\n",
      "DP\t0\t264\t0\t0.000000\t1\t0.104493\n",
      "DP\t0\t266\t0\t0.000000\t1\t0.104493\n",
      "DP\t0\t268\t0\t0.000000\t1\t0.104493\n",
      "DP\t0\t269\t0\t0.000000\t1\t0.104493\n",
      "DP\t0\t271\t0\t0.000000\t1\t0.104493\n",
      "DP\t0\t277\t0\t0.000000\t1\t0.104493\n",
      "DP\t0\t281\t0\t0.000000\t1\t0.104493\n",
      "DP\t0\t292\t0\t0.000000\t1\t0.104493\n",
      "DP\t0\t319\t0\t0.000000\t2\t0.208986\n",
      "DP\t0\t320\t0\t0.000000\t1\t0.104493\n",
      "DP\t0\t324\t0\t0.000000\t1\t0.104493\n",
      "DP\t0\t327\t0\t0.000000\t1\t0.104493\n",
      "DP\t0\t331\t0\t0.000000\t1\t0.104493\n",
      "DP\t0\t337\t0\t0.000000\t1\t0.104493\n",
      "DP\t0\t339\t0\t0.000000\t1\t0.104493\n",
      "DP\t0\t342\t0\t0.000000\t1\t0.104493\n",
      "DP\t0\t345\t0\t0.000000\t1\t0.104493\n",
      "DP\t0\t347\t0\t0.000000\t1\t0.104493\n",
      "DP\t0\t387\t0\t0.000000\t1\t0.104493\n",
      "DP\t0\t467\t0\t0.000000\t2\t0.208986\n",
      "DP\t0\t469\t0\t0.000000\t1\t0.104493\n",
      "DP\t0\t>500\t0\t0.000000\t12\t1.253918\n"
     ]
    }
   ],
   "source": [
    "#What is the transition to transversion ratio?\n",
    "/opt/conda/envs/r-bio/bin/bcftools stats ./results_varscan/CPTRES7vs4.germ.vcf.gz"
   ]
  },
  {
   "cell_type": "markdown",
   "metadata": {},
   "source": [
    "### Variant Annotation"
   ]
  },
  {
   "cell_type": "markdown",
   "metadata": {},
   "source": [
    "For this part we will use the results of cphort germien sequencing (GATK HapotypeCaller). Note: genotype have been shuffled to preserve privacy. Note2: GATK was run on individual file, not cohort, hence no use of gVCF : missing are assumed homozygous reference. "
   ]
  },
  {
   "cell_type": "code",
   "execution_count": 6,
   "metadata": {},
   "outputs": [],
   "source": [
    "#Breakmulti allele sites\n",
    "/opt/conda/envs/variant_calling/bin/vcfbreakmulti ./materials_varCall/GMTS_all.shuf.vcf.gz | /opt/conda/envs/r-bio/bin/bgzip -c >  ./results_variantAnn/GMTS_all.shuf.BM.vcf.gz"
   ]
  },
  {
   "cell_type": "code",
   "execution_count": 7,
   "metadata": {},
   "outputs": [],
   "source": [
    "#index the output\n",
    "/opt/conda/envs/r-bio/bin/tabix -p vcf ./results_variantAnn/GMTS_all.shuf.BM.vcf.gz"
   ]
  },
  {
   "cell_type": "code",
   "execution_count": 8,
   "metadata": {},
   "outputs": [
    {
     "name": "stdout",
     "output_type": "stream",
     "text": [
      "\n",
      "NOTICE: Running with system command <convert2annovar.pl -includeinfo -allsample -withfreq -format vcf4 ./results_variantAnn/GMTS_all.shuf.BM.vcf.gz > ./results_variantAnn/GMTSann.avinput>\n",
      "NOTICE: Finished reading 8192 lines from VCF file\n",
      "NOTICE: A total of 8055 locus in VCF file passed QC threshold, representing 5386 SNPs (3375 transitions and 2011 transversions) and 2669 indels/substitutions\n",
      "NOTICE: Finished writing 204668 SNPs (128250 transitions and 76418 transversions) and 101422 indels/substitutions for 38 samples\n",
      "\n",
      "NOTICE: Running with system command <./resources_varCall/annovar/table_annovar.pl --nastring . --protocol refGene --operation g --buildver hg19 -outfile ./results_variantAnn/GMTSann ./results_variantAnn/GMTSann.avinput ./resources_varCall/annovar/humandb/ -otherinfo>\n",
      "-----------------------------------------------------------------\n",
      "NOTICE: Processing operation=g protocol=refGene\n",
      "\n",
      "NOTICE: Running with system command <annotate_variation.pl -geneanno -buildver hg19 -dbtype refGene -outfile ./results_variantAnn/GMTSann.refGene -exonsort ./results_variantAnn/GMTSann.avinput ./resources_varCall/annovar/humandb/>\n",
      "NOTICE: Reading gene annotation from resources_varCall/annovar/humandb/hg19_refGene.txt ... Done with 72212 transcripts (including 17527 without coding sequence annotation) for 28250 unique genes\n",
      "NOTICE: Reading FASTA sequences from resources_varCall/annovar/humandb/hg19_refGeneMrna.fa ... Done with 563 sequences\n",
      "WARNING: A total of 446 sequences will be ignored due to lack of correct ORF annotation\n",
      "NOTICE: Finished gene-based annotation on 8055 genetic variants in ./results_variantAnn/GMTSann.avinput\n",
      "NOTICE: Output files were written to ./results_variantAnn/GMTSann.refGene.variant_function, ./results_variantAnn/GMTSann.refGene.exonic_variant_function\n",
      "-----------------------------------------------------------------\n",
      "NOTICE: Multianno output file is written to ./results_variantAnn/GMTSann.hg19_multianno.txt\n",
      "NOTICE: Reading from ./results_variantAnn/GMTSann.hg19_multianno.txt\n",
      "-----------------------------------------------------------------\n",
      "NOTICE: VCF output is written to ./results_variantAnn/GMTSann.hg19_multianno.vcf\n"
     ]
    }
   ],
   "source": [
    "#run Table annovar on the GMTS variant file. \n",
    "./resources_varCall/annovar/table_annovar.pl --vcfinput --nastring . --protocol refGene --operation g --buildver hg19 --outfile ./results_variantAnn/GMTSann ./results_variantAnn/GMTS_all.shuf.BM.vcf.gz ./resources_varCall/annovar/humandb/"
   ]
  },
  {
   "cell_type": "code",
   "execution_count": 10,
   "metadata": {},
   "outputs": [],
   "source": [
    "#export genotypes to TSV file. One sample.variant per row. \n",
    "/opt/conda/envs/variant_calling/bin/vcf2tsv -g ./results_variantAnn/GMTS_all.shuf.BM.vcf.gz > ./results_variantAnn/GMTS.geno.txt"
   ]
  },
  {
   "cell_type": "code",
   "execution_count": null,
   "metadata": {},
   "outputs": [],
   "source": []
  }
 ],
 "metadata": {
  "kernelspec": {
   "display_name": "Bash",
   "language": "bash",
   "name": "bash"
  },
  "language_info": {
   "codemirror_mode": "shell",
   "file_extension": ".sh",
   "mimetype": "text/x-sh",
   "name": "bash"
  }
 },
 "nbformat": 4,
 "nbformat_minor": 4
}
