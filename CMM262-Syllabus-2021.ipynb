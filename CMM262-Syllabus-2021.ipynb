{
 "cells": [
  {
   "cell_type": "markdown",
   "metadata": {},
   "source": [
    "# CMM262: Quantitative Methods in Genetics and Genomics\n",
    "**University of California, San Diego (UCSD)** <br> **Winter 2021**\n",
    "\n",
    "## What's this course about?\n",
    "Quantitative Methods in Genetics and Genomics is designed to teach experimental and analytical approaches in modern genetics and genomics, from experimental design through data analysis in each of several topic areas. Lecturers this year include Clarence Mah, Michelle Franc Ragsac, Eric Kofman, Pratibha Jagannatha, Pablo Tamayo, William Kim, Robert Morey, Noorsher Ahmed, Olivier Harismendy, Alon Goren, Hannah Carter, Graham McVicker, Ondrej Libiger, and Nicholas Schork.  \n",
    "\n",
    "<div class=\"alert alert-block alert-info\">\n",
    "    <p><b>Note:</b> This 4-unit course is a <i>core requirement</i> for students in the UCSD Genetics Training Program (<a href=\"http://genetics.ucsd.edu/\">http://genetics.ucsd.edu/</a>).</p>\n",
    "</div>\n",
    "\n",
    "## Who are the points of contact for this course?\n",
    "This course will be managed by the following course instructor and teaching assistants:\n",
    "\n",
    "* **Instructor:** Dr. Alon Goren (agoren@ucsd.edu)\n",
    "* **Teaching Assistant 1:** Clarence Mah (ckmah@ucsd.edu)\n",
    "* **Teaching Assistant 2:** Michelle Franc Ragsac (mragsac@eng.ucsd.edu)\n",
    "* **Teaching Assistant 3:** Eric Kofman (ekofman@eng.ucsd.edu)\n",
    "* **Teaching Assistant 4:** Pratibha Jagannatha (pjaganna@eng.ucsd.edu)\n",
    "\n",
    "As each module is taught by a separate guest lecturer, their contact information is provided in the syllabus table at the following link: https://docs.google.com/spreadsheets/d/1bKWXKMPXYKxDXFZ6iJVk1KP1TWGURX8EpJCSaTXj2Jw/edit?usp=sharing. \n",
    "\n",
    "## Where can I attend class?\n",
    "Due to COVID-19, all lectures will be held remotely over Zoom on **Monday, Wednesday, and Friday from 9:00 AM - 11:00 AM PST**. \n",
    "\n",
    "## When are office hours?\n",
    "Office Hours will take place remotely after lecture on **Monday, Wednesday, and Friday from 11:00 AM - 12:00 PM PST**. \n",
    "\n",
    "## How can I submit assignments? \n",
    "\n",
    "We'll be using Gradescope for submitting the homework assignments, as well as the midterm and final exams. If you have not been added to the course, to sign up for Gradescope, please follow the steps outlined below:\n",
    "\n",
    "1. Navigate to the Gradescope Website at https://www.gradescope.com/\n",
    "2. Select the link in the header to \"Sign Up\", and then select the option to sign up as a \"Student\"\n",
    "3. Enter the following Course Entry Code: **`KY3JXR`**\n",
    "4. Input your Full Name, UCSD Email, and UCSD Student ID (should be A#######); <br>**Note: If you are auditing the course, please enter <i>AUDITOR</i> as your Student ID**\n",
    "5. Select \"Sign up as Student\" to complete the sign-up process, and then check the email you have provided for the link to set your password and log in information\n",
    "\n",
    "### How will homework be assigned?\n",
    "Homework will be assigned on Fridays and due on the following Friday throughout the quarter. There will *not* be an assignment every week. Assignments will be announced in the week they are assigned. Submission of homework will be conducted through GradeScope and will be due by **9:00 AM PST on Friday mornings**. \n",
    "\n",
    "### When's the midterm and final? \n",
    "* **Midterm Examination**: \n",
    "    * Released on January 29th, 2021 (Week 4) \n",
    "    * Submission via GradeScope on February 6th, 2021 (Week 5) by 9:59 PM PST\n",
    "* **Final Examination**: \n",
    "    * Released on March 10th, 2021 (Week 10) \n",
    "    * Submission via GradeScope on March 17th, 2021 (Finals Week) by 9:59 PM PST\n",
    "\n",
    "### What's the policy on late submissions?\n",
    "If for whatever reason you cannot deliver an assignment by its associated due date, you should report it at least a day before the due date. \n",
    "\n",
    "* **First Late Submission**: 10% of the maximal number of points is deducted for every day or part of a day that an assignment is handed in late\n",
    "* **Subsequent Late Submissions**: 20% of the maximal number of points is deducted for every day or part of a day that an assignment is handed in late\n",
    "\n",
    "<div class=\"alert alert-block alert-info\">\n",
    "    <p><b>Note:</b> We know that things happen!<br>If you're experiencing a health or family emergency, please let the course instructors and teaching assistants know and we can work something out!</p>\n",
    "</div>\n",
    "\n",
    "## What's the policy on emailing the course instructors and TAs?\n",
    "Please use office hours for questions regarding the homework assignments or take-home exams. It can be difficult, especially with code and software, to troubleshoot your problems via email. If you must email regarding a question, please do not expect an response to your email unless it is within working hours (Monday-Friday, 7:00 AM - 8:00 PM PST), otherwise, there is no guarantee you will receive a response. \n",
    "\n",
    "## What's the course schedule?\n",
    "You can find the schedule of what we'll be covering day-by-day at the following link: https://docs.google.com/spreadsheets/d/1bKWXKMPXYKxDXFZ6iJVk1KP1TWGURX8EpJCSaTXj2Jw/edit?usp=sharing."
   ]
  }
 ],
 "metadata": {
  "kernel_info": {
   "name": "python3"
  },
  "kernelspec": {
   "display_name": "Python 3",
   "language": "python",
   "name": "python3"
  },
  "language_info": {
   "codemirror_mode": {
    "name": "ipython",
    "version": 3
   },
   "file_extension": ".py",
   "mimetype": "text/x-python",
   "name": "python",
   "nbconvert_exporter": "python",
   "pygments_lexer": "ipython3",
   "version": "3.7.4"
  },
  "nteract": {
   "version": "0.15.0"
  }
 },
 "nbformat": 4,
 "nbformat_minor": 4
}
