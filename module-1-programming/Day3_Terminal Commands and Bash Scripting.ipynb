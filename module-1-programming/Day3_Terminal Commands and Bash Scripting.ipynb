{
 "cells": [
  {
   "cell_type": "markdown",
   "metadata": {},
   "source": [
    "# Terminal Commands and Bash Scripting"
   ]
  },
  {
   "cell_type": "markdown",
   "metadata": {},
   "source": [
    "Adapted from http://people.duke.edu/~ccc14/duke-hts-2018/cliburn/Bash_in_Jupyter.html "
   ]
  },
  {
   "cell_type": "markdown",
   "metadata": {},
   "source": [
    "## pwd: where am I?"
   ]
  },
  {
   "cell_type": "code",
   "execution_count": 12,
   "metadata": {},
   "outputs": [
    {
     "name": "stdout",
     "output_type": "stream",
     "text": [
      "/Users/erickofman/UCSD/cmm262-2021/module-1-programming/bash_playground\n"
     ]
    }
   ],
   "source": [
    "pwd"
   ]
  },
  {
   "cell_type": "markdown",
   "metadata": {},
   "source": [
    "<img src=\"img/whoami.jpg\">"
   ]
  },
  {
   "cell_type": "markdown",
   "metadata": {},
   "source": [
    "## To continue the existential questions..."
   ]
  },
  {
   "cell_type": "code",
   "execution_count": 118,
   "metadata": {},
   "outputs": [
    {
     "name": "stdout",
     "output_type": "stream",
     "text": [
      "erickofman\n"
     ]
    }
   ],
   "source": [
    "whoami"
   ]
  },
  {
   "cell_type": "markdown",
   "metadata": {},
   "source": [
    "## cd: navigate between directories"
   ]
  },
  {
   "cell_type": "markdown",
   "metadata": {},
   "source": [
    "* cd <dirname> --> go to a directory"
   ]
  },
  {
   "cell_type": "code",
   "execution_count": 14,
   "metadata": {},
   "outputs": [
    {
     "name": "stdout",
     "output_type": "stream",
     "text": [
      "bash: cd: bash_playground: No such file or directory\n"
     ]
    },
    {
     "ename": "",
     "evalue": "1",
     "output_type": "error",
     "traceback": []
    }
   ],
   "source": [
    "cd bash_playground"
   ]
  },
  {
   "cell_type": "code",
   "execution_count": 15,
   "metadata": {},
   "outputs": [
    {
     "name": "stdout",
     "output_type": "stream",
     "text": [
      "/Users/erickofman/UCSD/cmm262-2021/module-1-programming/bash_playground\n"
     ]
    }
   ],
   "source": [
    "# Now where are we?\n",
    "pwd"
   ]
  },
  {
   "cell_type": "markdown",
   "metadata": {},
   "source": [
    "## echo: print out a string"
   ]
  },
  {
   "cell_type": "code",
   "execution_count": 16,
   "metadata": {},
   "outputs": [
    {
     "name": "stdout",
     "output_type": "stream",
     "text": [
      "is there anybody out there?\n"
     ]
    }
   ],
   "source": [
    "echo \"is there anybody out there?\""
   ]
  },
  {
   "cell_type": "markdown",
   "metadata": {},
   "source": [
    "## ls: check out the contents of a folder"
   ]
  },
  {
   "cell_type": "code",
   "execution_count": 18,
   "metadata": {},
   "outputs": [
    {
     "name": "stdout",
     "output_type": "stream",
     "text": [
      "hello.sh\thello_you.sh\tsequences.txt\n"
     ]
    }
   ],
   "source": [
    "ls"
   ]
  },
  {
   "cell_type": "markdown",
   "metadata": {},
   "source": [
    "#### extra tags get you more information"
   ]
  },
  {
   "cell_type": "code",
   "execution_count": 19,
   "metadata": {},
   "outputs": [
    {
     "name": "stdout",
     "output_type": "stream",
     "text": [
      "total 24\n",
      "-rw-r--r--  1 erickofman  staff    32B Dec 31 09:32 hello.sh\n",
      "-rw-r--r--  1 erickofman  staff    38B Dec 31 09:32 hello_you.sh\n",
      "-rw-r--r--  1 erickofman  staff   280B Dec 31 09:32 sequences.txt\n"
     ]
    }
   ],
   "source": [
    "ls -lh"
   ]
  },
  {
   "cell_type": "markdown",
   "metadata": {},
   "source": [
    "#### what if we only want to list files with a certain extension?"
   ]
  },
  {
   "cell_type": "code",
   "execution_count": 20,
   "metadata": {},
   "outputs": [
    {
     "name": "stdout",
     "output_type": "stream",
     "text": [
      "hello.sh\thello_you.sh\n"
     ]
    }
   ],
   "source": [
    "# The asterisk is a \"wild card\" that matches any character\n",
    "ls *.sh"
   ]
  },
  {
   "cell_type": "code",
   "execution_count": 27,
   "metadata": {},
   "outputs": [
    {
     "name": "stdout",
     "output_type": "stream",
     "text": [
      "-rw-r--r--  1 erickofman  staff    32B Dec 31 09:32 hello.sh\n",
      "-rw-r--r--  1 erickofman  staff    38B Dec 31 09:32 hello_you.sh\n"
     ]
    }
   ],
   "source": [
    "ls -lh *.sh"
   ]
  },
  {
   "cell_type": "code",
   "execution_count": 28,
   "metadata": {},
   "outputs": [],
   "source": [
    "### YOU TRY: list only the files that end in .txt"
   ]
  },
  {
   "cell_type": "markdown",
   "metadata": {},
   "source": [
    "## mkdir: make a directory"
   ]
  },
  {
   "cell_type": "code",
   "execution_count": 29,
   "metadata": {},
   "outputs": [],
   "source": [
    "mkdir shiny_new"
   ]
  },
  {
   "cell_type": "markdown",
   "metadata": {},
   "source": [
    "##### Look it's there!"
   ]
  },
  {
   "cell_type": "code",
   "execution_count": 31,
   "metadata": {},
   "outputs": [
    {
     "name": "stdout",
     "output_type": "stream",
     "text": [
      "total 24\n",
      "-rw-r--r--  1 erickofman  staff    32B Dec 31 09:32 hello.sh\n",
      "-rw-r--r--  1 erickofman  staff    38B Dec 31 09:32 hello_you.sh\n",
      "-rw-r--r--  1 erickofman  staff   280B Dec 31 09:32 sequences.txt\n",
      "drwxr-xr-x  2 erickofman  staff    64B Jan  3 10:46 shiny_new\n"
     ]
    }
   ],
   "source": [
    "ls -lh"
   ]
  },
  {
   "cell_type": "markdown",
   "metadata": {},
   "source": [
    "## cp: Copy a file"
   ]
  },
  {
   "cell_type": "code",
   "execution_count": 32,
   "metadata": {},
   "outputs": [
    {
     "name": "stdout",
     "output_type": "stream",
     "text": [
      "total 8\n",
      "-rw-r--r--  1 erickofman  staff   280B Jan  3 10:47 sequences_copy.txt\n"
     ]
    }
   ],
   "source": [
    "cp sequences.txt shiny_new/sequences_copy.txt\n",
    "ls -lh shiny_new"
   ]
  },
  {
   "cell_type": "markdown",
   "metadata": {},
   "source": [
    "#### cp -r to copy a directory and all of its contents"
   ]
  },
  {
   "cell_type": "code",
   "execution_count": 33,
   "metadata": {},
   "outputs": [
    {
     "name": "stdout",
     "output_type": "stream",
     "text": [
      "sequences_copy.txt\n"
     ]
    }
   ],
   "source": [
    "cp -r shiny_new same_old\n"
   ]
  },
  {
   "cell_type": "code",
   "execution_count": 36,
   "metadata": {},
   "outputs": [
    {
     "name": "stdout",
     "output_type": "stream",
     "text": [
      "total 24\n",
      "-rw-r--r--  1 erickofman  staff    32B Dec 31 09:32 hello.sh\n",
      "-rw-r--r--  1 erickofman  staff    38B Dec 31 09:32 hello_you.sh\n",
      "drwxr-xr-x  3 erickofman  staff    96B Jan  3 10:47 same_old\n",
      "-rw-r--r--  1 erickofman  staff   280B Dec 31 09:32 sequences.txt\n",
      "drwxr-xr-x  3 erickofman  staff    96B Jan  3 10:47 shiny_new\n"
     ]
    }
   ],
   "source": [
    "# So now we should have two new directories in our bash playground: same_old and shiny_new\n",
    "ls -lh"
   ]
  },
  {
   "cell_type": "code",
   "execution_count": 37,
   "metadata": {},
   "outputs": [
    {
     "name": "stdout",
     "output_type": "stream",
     "text": [
      "sequences_copy.txt\n"
     ]
    }
   ],
   "source": [
    "ls -lh same_old"
   ]
  },
  {
   "cell_type": "code",
   "execution_count": 41,
   "metadata": {},
   "outputs": [
    {
     "name": "stdout",
     "output_type": "stream",
     "text": [
      "total 8\n",
      "-rw-r--r--  1 erickofman  staff   280B Jan  3 10:47 sequences_copy.txt\n"
     ]
    }
   ],
   "source": [
    "# And shiny new should contain the same contents as same old\n",
    "ls -lh shiny_new"
   ]
  },
  {
   "cell_type": "markdown",
   "metadata": {},
   "source": [
    "## touch: make an empty file"
   ]
  },
  {
   "cell_type": "code",
   "execution_count": 44,
   "metadata": {},
   "outputs": [],
   "source": [
    "touch empty_inside.txt"
   ]
  },
  {
   "cell_type": "code",
   "execution_count": 46,
   "metadata": {},
   "outputs": [
    {
     "name": "stdout",
     "output_type": "stream",
     "text": [
      "total 24\n",
      "-rw-r--r--  1 erickofman  staff     0B Jan  3 10:48 empty_inside.txt\n",
      "-rw-r--r--  1 erickofman  staff    32B Dec 31 09:32 hello.sh\n",
      "-rw-r--r--  1 erickofman  staff    38B Dec 31 09:32 hello_you.sh\n",
      "drwxr-xr-x  3 erickofman  staff    96B Jan  3 10:47 same_old\n",
      "-rw-r--r--  1 erickofman  staff   280B Dec 31 09:32 sequences.txt\n",
      "drwxr-xr-x  3 erickofman  staff    96B Jan  3 10:47 shiny_new\n"
     ]
    }
   ],
   "source": [
    "# Don't read into that name too much. Just trust me, it's empty. Look at the size. Or go check it yourself later!\n",
    "ls -lh"
   ]
  },
  {
   "cell_type": "markdown",
   "metadata": {},
   "source": [
    "## mv: Move or rename a file\n",
    "#### if you use mv where the destination is in the same folder you will simply rename the file"
   ]
  },
  {
   "cell_type": "code",
   "execution_count": 47,
   "metadata": {},
   "outputs": [],
   "source": [
    "# You before this lesson --> you after this lesson? \n",
    "mv empty_inside.txt fulfilled.txt"
   ]
  },
  {
   "cell_type": "code",
   "execution_count": 48,
   "metadata": {},
   "outputs": [
    {
     "name": "stdout",
     "output_type": "stream",
     "text": [
      "total 24\n",
      "-rw-r--r--  1 erickofman  staff     0B Jan  3 10:48 fulfilled.txt\n",
      "-rw-r--r--  1 erickofman  staff    32B Dec 31 09:32 hello.sh\n",
      "-rw-r--r--  1 erickofman  staff    38B Dec 31 09:32 hello_you.sh\n",
      "drwxr-xr-x  3 erickofman  staff    96B Jan  3 10:47 same_old\n",
      "-rw-r--r--  1 erickofman  staff   280B Dec 31 09:32 sequences.txt\n",
      "drwxr-xr-x  3 erickofman  staff    96B Jan  3 10:47 shiny_new\n"
     ]
    }
   ],
   "source": [
    "ls -lh"
   ]
  },
  {
   "cell_type": "markdown",
   "metadata": {},
   "source": [
    "### If you use mv where the destination is in a different folder you will move the file"
   ]
  },
  {
   "cell_type": "code",
   "execution_count": 49,
   "metadata": {},
   "outputs": [],
   "source": [
    "mv fulfilled.txt shiny_new"
   ]
  },
  {
   "cell_type": "code",
   "execution_count": 50,
   "metadata": {},
   "outputs": [
    {
     "name": "stdout",
     "output_type": "stream",
     "text": [
      "total 24\n",
      "-rw-r--r--  1 erickofman  staff    32B Dec 31 09:32 hello.sh\n",
      "-rw-r--r--  1 erickofman  staff    38B Dec 31 09:32 hello_you.sh\n",
      "drwxr-xr-x  3 erickofman  staff    96B Jan  3 10:47 same_old\n",
      "-rw-r--r--  1 erickofman  staff   280B Dec 31 09:32 sequences.txt\n",
      "drwxr-xr-x  4 erickofman  staff   128B Jan  3 10:49 shiny_new\n"
     ]
    }
   ],
   "source": [
    "# Not here at the main folder level anymore...\n",
    "ls -lh"
   ]
  },
  {
   "cell_type": "code",
   "execution_count": 51,
   "metadata": {},
   "outputs": [
    {
     "name": "stdout",
     "output_type": "stream",
     "text": [
      "total 8\n",
      "-rw-r--r--  1 erickofman  staff     0B Jan  3 10:48 fulfilled.txt\n",
      "-rw-r--r--  1 erickofman  staff   280B Jan  3 10:47 sequences_copy.txt\n"
     ]
    }
   ],
   "source": [
    "# Here!\n",
    "ls -lh shiny_new"
   ]
  },
  {
   "cell_type": "markdown",
   "metadata": {},
   "source": [
    "### With great power comes great responsibility... use this carefully! There is no \"undo\" in terminal...\n",
    "# rm: delete file"
   ]
  },
  {
   "cell_type": "code",
   "execution_count": 52,
   "metadata": {},
   "outputs": [],
   "source": [
    "rm shiny_new/fulfilled.txt"
   ]
  },
  {
   "cell_type": "code",
   "execution_count": 54,
   "metadata": {},
   "outputs": [
    {
     "name": "stdout",
     "output_type": "stream",
     "text": [
      "total 8\n",
      "-rw-r--r--  1 erickofman  staff   280B Jan  3 10:47 sequences_copy.txt\n"
     ]
    }
   ],
   "source": [
    "ls -lh shiny_new"
   ]
  },
  {
   "cell_type": "markdown",
   "metadata": {},
   "source": [
    "### rm -r: delete directory and all of its contents"
   ]
  },
  {
   "cell_type": "code",
   "execution_count": 55,
   "metadata": {},
   "outputs": [],
   "source": [
    "rm -r shiny_new\n"
   ]
  },
  {
   "cell_type": "code",
   "execution_count": 59,
   "metadata": {},
   "outputs": [],
   "source": [
    "### YOU TRY: delete the directory \"same_old\" \n",
    "\n"
   ]
  },
  {
   "cell_type": "code",
   "execution_count": 60,
   "metadata": {},
   "outputs": [
    {
     "name": "stdout",
     "output_type": "stream",
     "text": [
      "total 24\n",
      "-rw-r--r--  1 erickofman  staff    32B Dec 31 09:32 hello.sh\n",
      "-rw-r--r--  1 erickofman  staff    38B Dec 31 09:32 hello_you.sh\n",
      "drwxr-xr-x  3 erickofman  staff    96B Jan  3 10:47 same_old\n",
      "-rw-r--r--  1 erickofman  staff   280B Dec 31 09:32 sequences.txt\n"
     ]
    }
   ],
   "source": [
    "ls -lh"
   ]
  },
  {
   "cell_type": "markdown",
   "metadata": {},
   "source": [
    "# Now let's get fancy"
   ]
  },
  {
   "cell_type": "markdown",
   "metadata": {},
   "source": [
    "#### You can do quite a lot of text processing and execute more complex file operations in terminal. Check out the contents of the file sequences.txt in this directory by using the \"cat\" command:"
   ]
  },
  {
   "cell_type": "code",
   "execution_count": 61,
   "metadata": {},
   "outputs": [
    {
     "name": "stdout",
     "output_type": "stream",
     "text": [
      "seqA\tCCCTAACCCCCTAACCCCCTAACCCTCAGTCGGGGAGGCGACAATAGCTG\n",
      "seqB\tGTCATATGTTCTGTACGTTATTGGCCAACTGATCATACCTGAATCGAGCC\n",
      "seqC\tGAACCGGGATTATCAAAGACGAACATGGTCGGGTCCTTGAACCAAACGAA\n",
      "seqD\tTCTCCGTCCGCTGGCGTGTTTTTCTTTTCTCAAGTGGGCAAGTTACCCGG\n",
      "seqE\tTCTCCGTCCGCTGGCGTGTTTTTCTTTTCTCAAGTGGGCAAGTTACCCGG\n"
     ]
    }
   ],
   "source": [
    "cat sequences.txt"
   ]
  },
  {
   "cell_type": "markdown",
   "metadata": {},
   "source": [
    "### You can look at just the beginning or just the end of a file"
   ]
  },
  {
   "cell_type": "code",
   "execution_count": 62,
   "metadata": {},
   "outputs": [
    {
     "name": "stdout",
     "output_type": "stream",
     "text": [
      "seqA\tCCCTAACCCCCTAACCCCCTAACCCTCAGTCGGGGAGGCGACAATAGCTG\n",
      "seqB\tGTCATATGTTCTGTACGTTATTGGCCAACTGATCATACCTGAATCGAGCC\n"
     ]
    }
   ],
   "source": [
    "head -2 sequences.txt"
   ]
  },
  {
   "cell_type": "code",
   "execution_count": 63,
   "metadata": {},
   "outputs": [
    {
     "name": "stdout",
     "output_type": "stream",
     "text": [
      "seqD\tTCTCCGTCCGCTGGCGTGTTTTTCTTTTCTCAAGTGGGCAAGTTACCCGG\n",
      "seqE\tTCTCCGTCCGCTGGCGTGTTTTTCTTTTCTCAAGTGGGCAAGTTACCCGG\n"
     ]
    }
   ],
   "source": [
    "tail -2 sequences.txt "
   ]
  },
  {
   "cell_type": "markdown",
   "metadata": {},
   "source": [
    "### You can split up a file by columns!"
   ]
  },
  {
   "cell_type": "code",
   "execution_count": 64,
   "metadata": {},
   "outputs": [
    {
     "name": "stdout",
     "output_type": "stream",
     "text": [
      "seqA\n",
      "seqB\n",
      "seqC\n",
      "seqD\n",
      "seqE\n"
     ]
    }
   ],
   "source": [
    "cut -f1 sequences.txt"
   ]
  },
  {
   "cell_type": "code",
   "execution_count": 65,
   "metadata": {},
   "outputs": [],
   "source": [
    "### YOU TRY: print out just the second column\n",
    "\n"
   ]
  },
  {
   "cell_type": "markdown",
   "metadata": {},
   "source": [
    "### Piping "
   ]
  },
  {
   "cell_type": "markdown",
   "metadata": {},
   "source": [
    "<img src=\"img/mariopipe.png\">"
   ]
  },
  {
   "cell_type": "markdown",
   "metadata": {},
   "source": [
    "#### You can use pipes (\"|\") to send the output of one command to another command as input"
   ]
  },
  {
   "cell_type": "code",
   "execution_count": 68,
   "metadata": {},
   "outputs": [
    {
     "name": "stdout",
     "output_type": "stream",
     "text": [
      "seqB\tGTCATATGTTCTGTACGTTATTGGCCAACTGATCATACCTGAATCGAGCC\n",
      "seqC\tGAACCGGGATTATCAAAGACGAACATGGTCGGGTCCTTGAACCAAACGAA\n"
     ]
    }
   ],
   "source": [
    "### What do you think will be output using this combination of commands?\n",
    "head -3 sequences.txt | tail -2"
   ]
  },
  {
   "cell_type": "code",
   "execution_count": 69,
   "metadata": {},
   "outputs": [],
   "source": [
    "### NOW YOU TRY: retrieve just the second column of the third line (seq C) from the sequences.txt file using \n",
    "# a combination of tail, head, and cut with a couple of pipes in the mix.\n",
    "\n"
   ]
  },
  {
   "cell_type": "markdown",
   "metadata": {},
   "source": [
    "### grep: searching for specific text within a file"
   ]
  },
  {
   "cell_type": "code",
   "execution_count": 71,
   "metadata": {},
   "outputs": [
    {
     "name": "stdout",
     "output_type": "stream",
     "text": [
      "seqA\tCCCTAACCCCCTAACCCCCTAACCCTCAGTCGGGGAGGCGACAATAGCTG\n"
     ]
    }
   ],
   "source": [
    "grep \"TAAC\" sequences.txt"
   ]
  },
  {
   "cell_type": "markdown",
   "metadata": {},
   "source": [
    "#### You can use certain expressions to filter with extra parameters. For example, in this context the | means \"or\""
   ]
  },
  {
   "cell_type": "code",
   "execution_count": 72,
   "metadata": {},
   "outputs": [
    {
     "name": "stdout",
     "output_type": "stream",
     "text": [
      "seqB\tGTCATATGTTCTGTACGTTATTGGCCAACTGATCATACCTGAATCGAGCC\n",
      "seqD\tTCTCCGTCCGCTGGCGTGTTTTTCTTTTCTCAAGTGGGCAAGTTACCCGG\n"
     ]
    }
   ],
   "source": [
    "grep \"[B|D]\" sequences.txt"
   ]
  },
  {
   "cell_type": "markdown",
   "metadata": {},
   "source": [
    "#### Use the \"man\" keyword before any command to learn more about how to use it"
   ]
  },
  {
   "cell_type": "code",
   "execution_count": 91,
   "metadata": {},
   "outputs": [
    {
     "name": "stdout",
     "output_type": "stream",
     "text": [
      "\n",
      "GREP(1)                   BSD General Commands Manual                  GREP(1)\n",
      "\n",
      "NAME\n",
      "     grep, egrep, fgrep, zgrep, zegrep, zfgrep -- file pattern searcher\n",
      "\n",
      "SYNOPSIS\n",
      "     grep [-abcdDEFGHhIiJLlmnOopqRSsUVvwxZ] [-A num] [-B num] [-C[num]]\n",
      "          [-e pattern] [-f file] [--binary-files=value] [--color[=when]]\n",
      "          [--colour[=when]] [--context[=num]] [--label] [--line-buffered]\n",
      "          [--null] [pattern] [file ...]\n",
      "\n",
      "DESCRIPTION\n",
      "     The grep utility searches any given input files, selecting lines that\n",
      "     match one or more patterns.  By default, a pattern matches an input line\n",
      "     if the regular expression (RE) in the pattern matches the input line\n",
      "     without its trailing newline.  An empty expression matches every line.\n",
      "     Each input line that matches at least one of the patterns is written to\n",
      "     the standard output.\n",
      "\n",
      "     grep is used for simple patterns and basic regular expressions (BREs);\n",
      "     egrep can handle extended regular expressions (EREs).  See re_format(7)\n",
      "     for more information on regular expressions.  fgrep is quicker than both\n",
      "     grep and egrep, but can only handle fixed patterns (i.e. it does not\n",
      "     interpret regular expressions).  Patterns may consist of one or more\n",
      "     lines, allowing any of the pattern lines to match a portion of the input.\n",
      "\n",
      "     zgrep, zegrep, and zfgrep act like grep, egrep, and fgrep, respectively,\n",
      "     but accept input files compressed with the compress(1) or gzip(1) com-\n",
      "     pression utilities.\n",
      "\n",
      "     The following options are available:\n",
      "\n",
      "     -A num, --after-context=num\n",
      "             Print num lines of trailing context after each match.  See also\n",
      "             the -B and -C options.\n",
      "\n",
      "     -a, --text\n",
      "             Treat all files as ASCII text.  Normally grep will simply print\n",
      "             ``Binary file ... matches'' if files contain binary characters.\n",
      "             Use of this option forces grep to output lines matching the spec-\n",
      "             ified pattern.\n",
      "\n",
      "     -B num, --before-context=num\n",
      "             Print num lines of leading context before each match.  See also\n",
      "             the -A and -C options.\n",
      "\n",
      "     -b, --byte-offset\n",
      "             The offset in bytes of a matched pattern is displayed in front of\n",
      "             the respective matched line.\n",
      "\n",
      "     -C[num, --context=num]\n",
      "             Print num lines of leading and trailing context surrounding each\n",
      "             match.  The default is 2 and is equivalent to -A 2 -B 2.  Note:\n",
      "             no whitespace may be given between the option and its argument.\n",
      "\n",
      "     -c, --count\n",
      "             Only a count of selected lines is written to standard output.\n",
      "\n",
      "     --colour=[when, --color=[when]]\n",
      "             Mark up the matching text with the expression stored in\n",
      "             GREP_COLOR environment variable.  The possible values of when can\n",
      "             be `never', `always' or `auto'.\n",
      "\n",
      "     -D action, --devices=action\n",
      "             Specify the demanded action for devices, FIFOs and sockets.  The\n",
      "             default action is `read', which means, that they are read as if\n",
      "             they were normal files.  If the action is set to `skip', devices\n",
      "             will be silently skipped.\n",
      "\n",
      "     -d action, --directories=action\n",
      "             Specify the demanded action for directories.  It is `read' by\n",
      "             default, which means that the directories are read in the same\n",
      "             manner as normal files.  Other possible values are `skip' to\n",
      "             silently ignore the directories, and `recurse' to read them\n",
      "             recursively, which has the same effect as the -R and -r option.\n",
      "\n",
      "     -E, --extended-regexp\n",
      "             Interpret pattern as an extended regular expression (i.e. force\n",
      "             grep to behave as egrep).\n",
      "\n",
      "     -e pattern, --regexp=pattern\n",
      "             Specify a pattern used during the search of the input: an input\n",
      "             line is selected if it matches any of the specified patterns.\n",
      "             This option is most useful when multiple -e options are used to\n",
      "             specify multiple patterns, or when a pattern begins with a dash\n",
      "             (`-').\n",
      "\n",
      "     --exclude\n",
      "             If specified, it excludes files matching the given filename pat-\n",
      "             tern from the search.  Note that --exclude patterns take priority\n",
      "             over --include patterns, and if no --include pattern is speci-\n",
      "             fied, all files are searched that are not excluded.  Patterns are\n",
      "             matched to the full path specified, not only to the filename com-\n",
      "             ponent.\n",
      "\n",
      "     --exclude-dir\n",
      "             If -R is specified, it excludes directories matching the given\n",
      "             filename pattern from the search.  Note that --exclude-dir pat-\n",
      "             terns take priority over --include-dir patterns, and if no\n",
      "             --include-dir pattern is specified, all directories are searched\n",
      "             that are not excluded.\n",
      "\n",
      "     -F, --fixed-strings\n",
      "             Interpret pattern as a set of fixed strings (i.e. force grep to\n",
      "             behave as fgrep).\n",
      "\n",
      "     -f file, --file=file\n",
      "             Read one or more newline separated patterns from file.  Empty\n",
      "             pattern lines match every input line.  Newlines are not consid-\n",
      "             ered part of a pattern.  If file is empty, nothing is matched.\n",
      "\n",
      "     -G, --basic-regexp\n",
      "             Interpret pattern as a basic regular expression (i.e. force grep\n",
      "             to behave as traditional grep).\n",
      "\n",
      "     -H      Always print filename headers with output lines.\n",
      "\n",
      "     -h, --no-filename\n",
      "             Never print filename headers (i.e. filenames) with output lines.\n",
      "\n",
      "     --help  Print a brief help message.\n",
      "\n",
      "     -I      Ignore binary files.  This option is equivalent to\n",
      "             --binary-file=without-match option.\n",
      "\n",
      "     -i, --ignore-case\n",
      "             Perform case insensitive matching.  By default, grep is case sen-\n",
      "             sitive.\n",
      "\n",
      "     --include\n",
      "             If specified, only files matching the given filename pattern are\n",
      "             searched.  Note that --exclude patterns take priority over\n",
      "             --include patterns.  Patterns are matched to the full path speci-\n",
      "             fied, not only to the filename component.\n",
      "\n",
      "     --include-dir\n",
      "             If -R is specified, only directories matching the given filename\n",
      "             pattern are searched.  Note that --exclude-dir patterns take pri-\n",
      "             ority over --include-dir patterns.\n",
      "\n",
      "     -J, --bz2decompress\n",
      "             Decompress the bzip2(1) compressed file before looking for the\n",
      "             text.\n",
      "\n",
      "     -L, --files-without-match\n",
      "             Only the names of files not containing selected lines are written\n",
      "             to standard output.  Pathnames are listed once per file searched.\n",
      "             If the standard input is searched, the string ``(standard\n",
      "             input)'' is written.\n",
      "\n",
      "     -l, --files-with-matches\n",
      "             Only the names of files containing selected lines are written to\n",
      "             standard output.  grep will only search a file until a match has\n",
      "             been found, making searches potentially less expensive.  Path-\n",
      "             names are listed once per file searched.  If the standard input\n",
      "             is searched, the string ``(standard input)'' is written.\n",
      "\n",
      "     --mmap  Use mmap(2) instead of read(2) to read input, which can result in\n",
      "             better performance under some circumstances but can cause unde-\n",
      "             fined behaviour.\n",
      "\n",
      "     -m num, --max-count=num\n",
      "             Stop reading the file after num matches.\n",
      "\n",
      "     -n, --line-number\n",
      "             Each output line is preceded by its relative line number in the\n",
      "             file, starting at line 1.  The line number counter is reset for\n",
      "             each file processed.  This option is ignored if -c, -L, -l, or -q\n",
      "             is specified.\n",
      "\n",
      "     --null  Prints a zero-byte after the file name.\n",
      "\n",
      "     -O      If -R is specified, follow symbolic links only if they were\n",
      "             explicitly listed on the command line.  The default is not to\n",
      "             follow symbolic links.\n",
      "\n",
      "     -o, --only-matching\n",
      "             Prints only the matching part of the lines.\n",
      "\n",
      "     -p      If -R is specified, no symbolic links are followed.  This is the\n",
      "             default.\n",
      "\n",
      "     -q, --quiet, --silent\n",
      "             Quiet mode: suppress normal output.  grep will only search a file\n"
     ]
    },
    {
     "name": "stdout",
     "output_type": "stream",
     "text": [
      "             until a match has been found, making searches potentially less\n",
      "             expensive.\n",
      "\n",
      "     -R, -r, --recursive\n",
      "             Recursively search subdirectories listed.\n",
      "\n",
      "     -S      If -R is specified, all symbolic links are followed.  The default\n",
      "             is not to follow symbolic links.\n",
      "\n",
      "     -s, --no-messages\n",
      "             Silent mode.  Nonexistent and unreadable files are ignored (i.e.\n",
      "             their error messages are suppressed).\n",
      "\n",
      "     -U, --binary\n",
      "             Search binary files, but do not attempt to print them.\n",
      "\n",
      "     -V, --version\n",
      "             Display version information and exit.\n",
      "\n",
      "     -v, --invert-match\n",
      "             Selected lines are those not matching any of the specified pat-\n",
      "             terns.\n",
      "\n",
      "     -w, --word-regexp\n",
      "             The expression is searched for as a word (as if surrounded by\n",
      "             `[[:<:]]' and `[[:>:]]'; see re_format(7)).\n",
      "\n",
      "     -x, --line-regexp\n",
      "             Only input lines selected against an entire fixed string or regu-\n",
      "             lar expression are considered to be matching lines.\n",
      "\n",
      "     -y      Equivalent to -i.  Obsoleted.\n",
      "\n",
      "     -Z, -z, --decompress\n",
      "             Force grep to behave as zgrep.\n",
      "\n",
      "     --binary-files=value\n",
      "             Controls searching and printing of binary files.  Options are\n",
      "             binary, the default: search binary files but do not print them;\n",
      "             without-match: do not search binary files; and text: treat all\n",
      "             files as text.\n",
      "\n",
      "     --context[=num]\n",
      "             Print num lines of leading and trailing context.  The default is\n",
      "             2.\n",
      "\n",
      "     --line-buffered\n",
      "             Force output to be line buffered.  By default, output is line\n",
      "             buffered when standard output is a terminal and block buffered\n",
      "             otherwise.\n",
      "\n",
      "     If no file arguments are specified, the standard input is used.\n",
      "\n",
      "ENVIRONMENT\n",
      "     GREP_OPTIONS  May be used to specify default options that will be placed\n",
      "                   at the beginning of the argument list.  Backslash-escaping\n",
      "                   is not supported, unlike the behavior in GNU grep.\n",
      "\n",
      "EXIT STATUS\n",
      "     The grep utility exits with one of the following values:\n",
      "\n",
      "     0     One or more lines were selected.\n",
      "     1     No lines were selected.\n",
      "     >1    An error occurred.\n",
      "\n",
      "EXAMPLES\n",
      "     To find all occurrences of the word `patricia' in a file:\n",
      "\n",
      "           $ grep 'patricia' myfile\n",
      "\n",
      "     To find all occurrences of the pattern `.Pp' at the beginning of a line:\n",
      "\n",
      "           $ grep '^\\.Pp' myfile\n",
      "\n",
      "     The apostrophes ensure the entire expression is evaluated by grep instead\n",
      "     of by the user's shell.  The caret `^' matches the null string at the\n",
      "     beginning of a line, and the `\\' escapes the `.', which would otherwise\n",
      "     match any character.\n",
      "\n",
      "     To find all lines in a file which do not contain the words `foo' or\n",
      "     `bar':\n",
      "\n",
      "           $ grep -v -e 'foo' -e 'bar' myfile\n",
      "\n",
      "     A simple example of an extended regular expression:\n",
      "\n",
      "           $ egrep '19|20|25' calendar\n",
      "\n",
      "     Peruses the file `calendar' looking for either 19, 20, or 25.\n",
      "\n",
      "SEE ALSO\n",
      "     ed(1), ex(1), gzip(1), sed(1), re_format(7)\n",
      "\n",
      "STANDARDS\n",
      "     The grep utility is compliant with the IEEE Std 1003.1-2008 (``POSIX.1'')\n",
      "     specification.\n",
      "\n",
      "     The flags [-AaBbCDdGHhIJLmoPRSUVwZ] are extensions to that specification,\n",
      "     and the behaviour of the -f flag when used with an empty pattern file is\n",
      "     left undefined.\n",
      "\n",
      "     All long options are provided for compatibility with GNU versions of this\n",
      "     utility.\n",
      "\n",
      "     Historic versions of the grep utility also supported the flags [-ruy].\n",
      "     This implementation supports those options; however, their use is\n",
      "     strongly discouraged.\n",
      "\n",
      "HISTORY\n",
      "     The grep command first appeared in Version 6 AT&T UNIX.\n",
      "\n",
      "BUGS\n",
      "     The grep utility does not normalize Unicode input, so a pattern contain-\n",
      "     ing composed characters will not match decomposed input, and vice versa.\n",
      "\n",
      "BSD                              July 28, 2010                             BSD\n"
     ]
    }
   ],
   "source": [
    "man grep "
   ]
  },
  {
   "cell_type": "code",
   "execution_count": 92,
   "metadata": {},
   "outputs": [],
   "source": [
    "### NOW YOU TRY: Okay, try finding the line that contains \"TAAC\" plus the line after it using grep.\n",
    "\n",
    "\n"
   ]
  },
  {
   "cell_type": "markdown",
   "metadata": {},
   "source": [
    "### tr: substitution"
   ]
  },
  {
   "cell_type": "markdown",
   "metadata": {},
   "source": [
    "#### Let's use tr to turn our DNA sequences into RNA sequences instead!"
   ]
  },
  {
   "cell_type": "code",
   "execution_count": 102,
   "metadata": {},
   "outputs": [
    {
     "name": "stdout",
     "output_type": "stream",
     "text": [
      "seqA\tCCCUAACCCCCUAACCCCCUAACCCUCAGUCGGGGAGGCGACAAUAGCUG\n",
      "seqB\tGUCAUAUGUUCUGUACGUUAUUGGCCAACUGAUCAUACCUGAAUCGAGCC\n",
      "seqC\tGAACCGGGAUUAUCAAAGACGAACAUGGUCGGGUCCUUGAACCAAACGAA\n",
      "seqD\tUCUCCGUCCGCUGGCGUGUUUUUCUUUUCUCAAGUGGGCAAGUUACCCGG\n",
      "seqE\tUCUCCGUCCGCUGGCGUGUUUUUCUUUUCUCAAGUGGGCAAGUUACCCGG\n"
     ]
    }
   ],
   "source": [
    "cat sequences.txt | tr T U"
   ]
  },
  {
   "cell_type": "markdown",
   "metadata": {},
   "source": [
    "#### We can use tr to find the complement of DNA sequences"
   ]
  },
  {
   "cell_type": "code",
   "execution_count": 103,
   "metadata": {},
   "outputs": [
    {
     "name": "stdout",
     "output_type": "stream",
     "text": [
      "GGGATTGGGGGATTGGGGGATTGGGAGTCAGCCCCTCCGCTGTTATCGAC\n",
      "CAGTATACAAGACATGCAATAACCGGTTGACTAGTATGGACTTAGCTCGG\n",
      "CTTGGCCCTAATAGTTTCTGCTTGTACCAGCCCAGGAACTTGGTTTGCTT\n",
      "AGAGGCAGGCGACCGCACAAAAAGAAAAGAGTTCACCCGTTCAATGGGCC\n",
      "AGAGGCAGGCGACCGCACAAAAAGAAAAGAGTTCACCCGTTCAATGGGCC\n"
     ]
    }
   ],
   "source": [
    "cut -f2 sequences.txt | tr ACGT TGCA\n"
   ]
  },
  {
   "cell_type": "markdown",
   "metadata": {},
   "source": [
    "## rv: reverse "
   ]
  },
  {
   "cell_type": "markdown",
   "metadata": {},
   "source": [
    "#### We can tack on a \"reverse\" command to get the reverse complement of a DNA sequence"
   ]
  },
  {
   "cell_type": "code",
   "execution_count": 104,
   "metadata": {},
   "outputs": [
    {
     "name": "stdout",
     "output_type": "stream",
     "text": [
      "CAGCTATTGTCGCCTCCCCGACTGAGGGTTAGGGGGTTAGGGGGTTAGGG\n",
      "GGCTCGATTCAGGTATGATCAGTTGGCCAATAACGTACAGAACATATGAC\n",
      "TTCGTTTGGTTCAAGGACCCGACCATGTTCGTCTTTGATAATCCCGGTTC\n",
      "CCGGGTAACTTGCCCACTTGAGAAAAGAAAAACACGCCAGCGGACGGAGA\n",
      "CCGGGTAACTTGCCCACTTGAGAAAAGAAAAACACGCCAGCGGACGGAGA\n"
     ]
    }
   ],
   "source": [
    "cut -f2 sequences.txt | tr ACGT TGCA | rev\n"
   ]
  },
  {
   "cell_type": "markdown",
   "metadata": {},
   "source": [
    "## wc: word/line/character count"
   ]
  },
  {
   "cell_type": "code",
   "execution_count": 105,
   "metadata": {},
   "outputs": [
    {
     "name": "stdout",
     "output_type": "stream",
     "text": [
      "       5      10     280 sequences.txt\n"
     ]
    }
   ],
   "source": [
    "wc sequences.txt"
   ]
  },
  {
   "cell_type": "markdown",
   "metadata": {},
   "source": [
    "#### Get just lines"
   ]
  },
  {
   "cell_type": "code",
   "execution_count": 106,
   "metadata": {},
   "outputs": [
    {
     "name": "stdout",
     "output_type": "stream",
     "text": [
      "       5 sequences.txt\n"
     ]
    }
   ],
   "source": [
    "wc -l sequences.txt"
   ]
  },
  {
   "cell_type": "markdown",
   "metadata": {},
   "source": [
    "#### Get just words"
   ]
  },
  {
   "cell_type": "code",
   "execution_count": 107,
   "metadata": {},
   "outputs": [
    {
     "name": "stdout",
     "output_type": "stream",
     "text": [
      "      10 sequences.txt\n"
     ]
    }
   ],
   "source": [
    "wc -w sequences.txt"
   ]
  },
  {
   "cell_type": "markdown",
   "metadata": {},
   "source": [
    "#### Get just characters"
   ]
  },
  {
   "cell_type": "code",
   "execution_count": 108,
   "metadata": {},
   "outputs": [
    {
     "name": "stdout",
     "output_type": "stream",
     "text": [
      "     280 sequences.txt\n"
     ]
    }
   ],
   "source": [
    "wc -c sequences.txt"
   ]
  },
  {
   "cell_type": "markdown",
   "metadata": {},
   "source": [
    "## sort: sort values in a column"
   ]
  },
  {
   "cell_type": "code",
   "execution_count": 109,
   "metadata": {},
   "outputs": [
    {
     "name": "stdout",
     "output_type": "stream",
     "text": [
      "CCCTAACCCCCTAACCCCCTAACCCTCAGTCGGGGAGGCGACAATAGCTG\n",
      "GAACCGGGATTATCAAAGACGAACATGGTCGGGTCCTTGAACCAAACGAA\n",
      "GTCATATGTTCTGTACGTTATTGGCCAACTGATCATACCTGAATCGAGCC\n",
      "TCTCCGTCCGCTGGCGTGTTTTTCTTTTCTCAAGTGGGCAAGTTACCCGG\n",
      "TCTCCGTCCGCTGGCGTGTTTTTCTTTTCTCAAGTGGGCAAGTTACCCGG\n"
     ]
    }
   ],
   "source": [
    "cut -f2 sequences.txt | sort "
   ]
  },
  {
   "cell_type": "markdown",
   "metadata": {},
   "source": [
    "## uniq: check unique values in a column"
   ]
  },
  {
   "cell_type": "markdown",
   "metadata": {},
   "source": [
    "### Here you can see that the last two sequences were duplicates of one another"
   ]
  },
  {
   "cell_type": "code",
   "execution_count": 110,
   "metadata": {},
   "outputs": [
    {
     "name": "stdout",
     "output_type": "stream",
     "text": [
      "CCCTAACCCCCTAACCCCCTAACCCTCAGTCGGGGAGGCGACAATAGCTG\n",
      "GAACCGGGATTATCAAAGACGAACATGGTCGGGTCCTTGAACCAAACGAA\n",
      "GTCATATGTTCTGTACGTTATTGGCCAACTGATCATACCTGAATCGAGCC\n",
      "TCTCCGTCCGCTGGCGTGTTTTTCTTTTCTCAAGTGGGCAAGTTACCCGG\n"
     ]
    }
   ],
   "source": [
    "cut -f2 sequences.txt | sort | uniq"
   ]
  },
  {
   "cell_type": "markdown",
   "metadata": {},
   "source": [
    "# Common commands"
   ]
  },
  {
   "cell_type": "markdown",
   "metadata": {},
   "source": [
    "### wget: downloading files -- for example genome reference files for the hg38 reference: https://hgdownload.soe.ucsc.edu/goldenPath/hg38/chromosomes/"
   ]
  },
  {
   "cell_type": "code",
   "execution_count": null,
   "metadata": {},
   "outputs": [],
   "source": [
    "# This will download chromosome chr21 \n",
    "wget https://hgdownload.soe.ucsc.edu/goldenPath/hg38/chromosomes/chr21.fa.gz"
   ]
  },
  {
   "cell_type": "markdown",
   "metadata": {},
   "source": [
    "#### Now we have it locally"
   ]
  },
  {
   "cell_type": "code",
   "execution_count": null,
   "metadata": {},
   "outputs": [],
   "source": [
    "ls "
   ]
  },
  {
   "cell_type": "markdown",
   "metadata": {},
   "source": [
    "### gunzip and gzip: unzipping and zipping files"
   ]
  },
  {
   "cell_type": "code",
   "execution_count": null,
   "metadata": {},
   "outputs": [],
   "source": [
    "gunzip chr21.fa.gz"
   ]
  },
  {
   "cell_type": "code",
   "execution_count": null,
   "metadata": {},
   "outputs": [],
   "source": [
    "ls"
   ]
  },
  {
   "cell_type": "code",
   "execution_count": null,
   "metadata": {},
   "outputs": [],
   "source": [
    "# Let's sneak a peak\n",
    "head -194500 chr21.fa | tail"
   ]
  },
  {
   "cell_type": "markdown",
   "metadata": {},
   "source": [
    "#### Ok back in the box you go"
   ]
  },
  {
   "cell_type": "code",
   "execution_count": null,
   "metadata": {},
   "outputs": [],
   "source": [
    "gzip chr21.fa"
   ]
  },
  {
   "cell_type": "code",
   "execution_count": null,
   "metadata": {},
   "outputs": [],
   "source": [
    "ls"
   ]
  },
  {
   "cell_type": "markdown",
   "metadata": {},
   "source": [
    "# Advanced scripting"
   ]
  },
  {
   "cell_type": "markdown",
   "metadata": {},
   "source": [
    "## For loops"
   ]
  },
  {
   "cell_type": "code",
   "execution_count": 111,
   "metadata": {},
   "outputs": [],
   "source": [
    "# Remember, ls * gives us a list of all files in the curent directory."
   ]
  },
  {
   "cell_type": "code",
   "execution_count": 113,
   "metadata": {},
   "outputs": [
    {
     "name": "stdout",
     "output_type": "stream",
     "text": [
      "check out this sweet little file called hello.sh\n",
      "check out this sweet little file called hello_you.sh\n",
      "check out this sweet little file called sequences.txt\n",
      "check out this sweet little file called same_old:\n",
      "check out this sweet little file called sequences_copy.txt\n"
     ]
    }
   ],
   "source": [
    "for FILE in $(ls *)\n",
    "do\n",
    "    echo \"check out this sweet little file called\" $FILE\n",
    "done"
   ]
  },
  {
   "cell_type": "markdown",
   "metadata": {},
   "source": [
    "## If statements"
   ]
  },
  {
   "cell_type": "markdown",
   "metadata": {},
   "source": [
    "#### Change this code up so that we can switch things up..."
   ]
  },
  {
   "cell_type": "code",
   "execution_count": 121,
   "metadata": {},
   "outputs": [
    {
     "name": "stdout",
     "output_type": "stream",
     "text": [
      "bash: [: too many arguments\n"
     ]
    }
   ],
   "source": [
    "you=\"super crazy enthusiastic about all this bash stuff\"\n",
    "if [ $you = \"bored\" ]\n",
    "then\n",
    "    echo \"okay on to the next adventure!\"\n",
    "fi"
   ]
  },
  {
   "cell_type": "code",
   "execution_count": 125,
   "metadata": {},
   "outputs": [
    {
     "name": "stdout",
     "output_type": "stream",
     "text": [
      "Dolly\n",
      "Kitty\n",
      "Poppet\n"
     ]
    }
   ],
   "source": [
    "for name in \"Dolly\" \"Kitty\" \"Poppet\";\n",
    "    do echo $name;\n",
    "done;"
   ]
  },
  {
   "cell_type": "code",
   "execution_count": null,
   "metadata": {},
   "outputs": [],
   "source": []
  }
 ],
 "metadata": {
  "kernelspec": {
   "display_name": "Bash",
   "language": "bash",
   "name": "bash"
  },
  "language_info": {
   "codemirror_mode": "shell",
   "file_extension": ".sh",
   "mimetype": "text/x-sh",
   "name": "bash"
  }
 },
 "nbformat": 4,
 "nbformat_minor": 2
}
