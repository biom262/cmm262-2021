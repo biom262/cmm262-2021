{
 "cells": [
  {
   "cell_type": "markdown",
   "metadata": {},
   "source": [
    "# CMM262: Statistics, Day 1 (Meet the Palmer Penguins!)\n",
    "\n",
    "**Authors**: Michelle Franc Ragsac (mragsac@eng.ucsd.edu) and Clarence Mah (ckmah@ucsd.edu) \n",
    "\n",
    "Congratulations! You made it past the lecture portion for Day 1 of the Introduction to Statistics module! Now, we're getting into the interactive portion using this Jupyter Notebook to learn how to explore the Palmer Penguins dataset in Python with some commonly-used data science packages such as `pandas`, `seaborn`, `matplotlib`, `numpy`, and `scipy`!\n",
    "\n",
    "![Image of the Chinstrap, Gentoo, and Adélie penguins from the Palmer Penguins dataset](img/day1_penguins.png)\n",
    "\n",
    "> The Palmer Penguins dataset is based on data points collected and made available by [Dr. Kristen Gorman](https://www.uaf.edu/cfos/people/faculty/detail/kristen-gorman.php) and the [Palmer Station, Antarctica LTER](https://pal.lternet.edu/), a member of the [Long Term Ecological Research Network](https://lternet.edu/).\n",
    ">\n",
    "> Source: https://allisonhorst.github.io/palmerpenguins/"
   ]
  },
  {
   "cell_type": "markdown",
   "metadata": {},
   "source": [
    "---\n",
    "\n",
    "## Exploring the Palmer Penguins `DataFrame` with the `pandas` and `seaborn` Packages\n",
    "\n",
    "`DataFrames` are a fundamental object type for representing data sets, implemented by the `pandas` Python package. Generally: \n",
    "\n",
    "- Each **row** contains all information about a single entry in a data set.\n",
    "- Each **column** describes a single aspect of all entries in a data set.\n",
    "\n",
    "We'll start out this notebook by **importing** the `pandas` Python package so that we can access the Palmer Penguins dataset in nice, tabular fashion. \n",
    "\n",
    "<div class=\"alert alert-block alert-info\">\n",
    "    <p><b>Additional Information about <code>pandas</code> in case you're interested...</b></p>\n",
    "    <p>Pandas is an open-source data analysis package in Python that aids in data analysis and manipulation using <code>DataFrame</code> and <code>Series</code> objects. These <code>DataFrame</code> objects can be thought of as multidimensional arrays with attached row and column tables, similar to the tables found in Excel Spreadsheets or <code>data.frame</code> objects in the R Programming Language. The <code>Series</code> objects can be thought of as a single column with connected row and column labels. Pandas also has tools for reading and writing data between in-memory structures and different commonly-used formats, such as CSV, text files, Microsoft Excel sheets, SQL databases, and the HDF5 format.</p>\n",
    "    <ul>\n",
    "        <li><strong>Pandas Website</strong>: <a href=\"https://pandas.pydata.org/\">https://pandas.pydata.org/</a></li>\n",
    "        <li><strong>Pandas Code Base on GitHub</strong>: <a href=\"https://github.com/pandas-dev/pandas\">https://github.com/pandas-dev/pandas</a></li>\n",
    "    </ul>\n",
    "</div>\n",
    "\n",
    "We'll also be using the `seaborn` and `matplotlib` packages for visualizing our data! They are two frequently-used packages used to generate figures for publications. Visualizations are a powerful way to interpret relationships between variables, so they'll be helpful to create as we're using `pandas` simultaneously.\n",
    "\n",
    "### Import the Packages We'll be Using in this Portion of the Notebook"
   ]
  },
  {
   "cell_type": "code",
   "execution_count": 1,
   "metadata": {},
   "outputs": [],
   "source": [
    "# First, import/load the pandas package into our notebook using \"pd\" as the shorthand\n",
    "import pandas as pd \n",
    "\n",
    "# Next, import/load the seaborn package into our notebook using \"sns\" as the shorthand\n",
    "import seaborn as sns"
   ]
  },
  {
   "cell_type": "markdown",
   "metadata": {},
   "source": [
    "### Load in the Palmer Penguins Dataset using `seaborn`\n",
    "\n",
    "Since `seaborn` includes a sample of the Palmer Penguins dataset, we can load it directly from the module for us to play with! "
   ]
  },
  {
   "cell_type": "code",
   "execution_count": 2,
   "metadata": {},
   "outputs": [],
   "source": [
    "# This command uses the load_dataset() method from the seaborn package (sns)\n",
    "# to load the \"penguins\" dataset into a variable called penguins\n",
    "penguins = sns.load_dataset(\"penguins\")"
   ]
  },
  {
   "cell_type": "markdown",
   "metadata": {},
   "source": [
    "---\n",
    "\n",
    "## Quick Commands for Previewing Information Contained in `DataFrames` \n",
    "\n",
    "Now that we have the dataset loaded into our notebook, the first thing we'll want to do is preview what information is present. Here are the commands that we'll be going over:\n",
    "\n",
    "* The `DataFrame.info()` method gives us a quick summary of all the columns present in our dataset\n",
    "* The `DataFrame.describe()` method gives us some quick summary statistics of the numerical values present in our dataset\n",
    "* The `DataFrame.shape` attribute contains the dimensions of the dataset in rows x columns format \n",
    "* The `DataFrame.head()` and `DataFrame.tail()` methods allow us to preview the head/beginning or tail/end of a dataset, respecitvely \n",
    "\n",
    "<div class=\"alert alert-block alert-info\">\n",
    "    <p>With these commands, <code>DataFrame</code> should be replaced by the name of the variable containing your <code>pandas</code> <code>DataFrame</code> (e.g., <code>penguins.shape</code> instead of <code>DataFrame.shape</code> will give us the dimensions of the penguins dataset).</p>\n",
    "</div>\n",
    "\n",
    "### Getting Quick Summary Information About the `DataFrame` with the `info()` and `describe()` Methods\n",
    "\n",
    "`DataFrame.info()` provides a quick summary about all of the entries within a `DataFrame`, along with the data types that are recognized in each of the columns. This method gives you the number of rows and columns, the number of non-null values, what type of data is in each column, and how much memory the data takes up on your computer. "
   ]
  },
  {
   "cell_type": "code",
   "execution_count": 3,
   "metadata": {},
   "outputs": [
    {
     "name": "stdout",
     "output_type": "stream",
     "text": [
      "<class 'pandas.core.frame.DataFrame'>\n",
      "RangeIndex: 344 entries, 0 to 343\n",
      "Data columns (total 7 columns):\n",
      " #   Column             Non-Null Count  Dtype  \n",
      "---  ------             --------------  -----  \n",
      " 0   species            344 non-null    object \n",
      " 1   island             344 non-null    object \n",
      " 2   bill_length_mm     342 non-null    float64\n",
      " 3   bill_depth_mm      342 non-null    float64\n",
      " 4   flipper_length_mm  342 non-null    float64\n",
      " 5   body_mass_g        342 non-null    float64\n",
      " 6   sex                333 non-null    object \n",
      "dtypes: float64(4), object(3)\n",
      "memory usage: 18.9+ KB\n"
     ]
    }
   ],
   "source": [
    "penguins.info()"
   ]
  },
  {
   "cell_type": "markdown",
   "metadata": {},
   "source": [
    "<br>On the other hand, `DataFrame.describe()` provides summary statistics information about columns containing numerical values within our dataset! "
   ]
  },
  {
   "cell_type": "code",
   "execution_count": 4,
   "metadata": {},
   "outputs": [
    {
     "data": {
      "text/html": [
       "<div>\n",
       "<style scoped>\n",
       "    .dataframe tbody tr th:only-of-type {\n",
       "        vertical-align: middle;\n",
       "    }\n",
       "\n",
       "    .dataframe tbody tr th {\n",
       "        vertical-align: top;\n",
       "    }\n",
       "\n",
       "    .dataframe thead th {\n",
       "        text-align: right;\n",
       "    }\n",
       "</style>\n",
       "<table border=\"1\" class=\"dataframe\">\n",
       "  <thead>\n",
       "    <tr style=\"text-align: right;\">\n",
       "      <th></th>\n",
       "      <th>bill_length_mm</th>\n",
       "      <th>bill_depth_mm</th>\n",
       "      <th>flipper_length_mm</th>\n",
       "      <th>body_mass_g</th>\n",
       "    </tr>\n",
       "  </thead>\n",
       "  <tbody>\n",
       "    <tr>\n",
       "      <th>count</th>\n",
       "      <td>342.000000</td>\n",
       "      <td>342.000000</td>\n",
       "      <td>342.000000</td>\n",
       "      <td>342.000000</td>\n",
       "    </tr>\n",
       "    <tr>\n",
       "      <th>mean</th>\n",
       "      <td>43.921930</td>\n",
       "      <td>17.151170</td>\n",
       "      <td>200.915205</td>\n",
       "      <td>4201.754386</td>\n",
       "    </tr>\n",
       "    <tr>\n",
       "      <th>std</th>\n",
       "      <td>5.459584</td>\n",
       "      <td>1.974793</td>\n",
       "      <td>14.061714</td>\n",
       "      <td>801.954536</td>\n",
       "    </tr>\n",
       "    <tr>\n",
       "      <th>min</th>\n",
       "      <td>32.100000</td>\n",
       "      <td>13.100000</td>\n",
       "      <td>172.000000</td>\n",
       "      <td>2700.000000</td>\n",
       "    </tr>\n",
       "    <tr>\n",
       "      <th>25%</th>\n",
       "      <td>39.225000</td>\n",
       "      <td>15.600000</td>\n",
       "      <td>190.000000</td>\n",
       "      <td>3550.000000</td>\n",
       "    </tr>\n",
       "    <tr>\n",
       "      <th>50%</th>\n",
       "      <td>44.450000</td>\n",
       "      <td>17.300000</td>\n",
       "      <td>197.000000</td>\n",
       "      <td>4050.000000</td>\n",
       "    </tr>\n",
       "    <tr>\n",
       "      <th>75%</th>\n",
       "      <td>48.500000</td>\n",
       "      <td>18.700000</td>\n",
       "      <td>213.000000</td>\n",
       "      <td>4750.000000</td>\n",
       "    </tr>\n",
       "    <tr>\n",
       "      <th>max</th>\n",
       "      <td>59.600000</td>\n",
       "      <td>21.500000</td>\n",
       "      <td>231.000000</td>\n",
       "      <td>6300.000000</td>\n",
       "    </tr>\n",
       "  </tbody>\n",
       "</table>\n",
       "</div>"
      ],
      "text/plain": [
       "       bill_length_mm  bill_depth_mm  flipper_length_mm  body_mass_g\n",
       "count      342.000000     342.000000         342.000000   342.000000\n",
       "mean        43.921930      17.151170         200.915205  4201.754386\n",
       "std          5.459584       1.974793          14.061714   801.954536\n",
       "min         32.100000      13.100000         172.000000  2700.000000\n",
       "25%         39.225000      15.600000         190.000000  3550.000000\n",
       "50%         44.450000      17.300000         197.000000  4050.000000\n",
       "75%         48.500000      18.700000         213.000000  4750.000000\n",
       "max         59.600000      21.500000         231.000000  6300.000000"
      ]
     },
     "execution_count": 4,
     "metadata": {},
     "output_type": "execute_result"
    }
   ],
   "source": [
    "penguins.describe()"
   ]
  },
  {
   "cell_type": "markdown",
   "metadata": {},
   "source": [
    "Here, you can see that we were able to calculate the number of entries (`count`) within our columns, the `mean`, the standard deviation (`std`), the minimum value (`min`), the different percentiles, and the maximum value (`max`) for the columns in the Palmer Penguins dataset containing numerical values. Because the `species`, `island`, and `sex` columns within the dataset aren't numerical values, we don't calculate anything for them. "
   ]
  },
  {
   "cell_type": "markdown",
   "metadata": {},
   "source": [
    "### Viewing the Dimensions of a `DataFrame` with the `shape` Attribute \n",
    "\n",
    "The `DataFrame.shape` command shows how many rows and columns we have."
   ]
  },
  {
   "cell_type": "code",
   "execution_count": 5,
   "metadata": {},
   "outputs": [
    {
     "data": {
      "text/plain": [
       "(344, 7)"
      ]
     },
     "execution_count": 5,
     "metadata": {},
     "output_type": "execute_result"
    }
   ],
   "source": [
    "penguins.shape"
   ]
  },
  {
   "cell_type": "markdown",
   "metadata": {},
   "source": [
    "### Previewing a `DataFrame` with the `head()` and `tail()` Methods\n",
    "\n",
    "View the first 5 rows with `DataFrame.head()`."
   ]
  },
  {
   "cell_type": "code",
   "execution_count": 6,
   "metadata": {},
   "outputs": [
    {
     "data": {
      "text/html": [
       "<div>\n",
       "<style scoped>\n",
       "    .dataframe tbody tr th:only-of-type {\n",
       "        vertical-align: middle;\n",
       "    }\n",
       "\n",
       "    .dataframe tbody tr th {\n",
       "        vertical-align: top;\n",
       "    }\n",
       "\n",
       "    .dataframe thead th {\n",
       "        text-align: right;\n",
       "    }\n",
       "</style>\n",
       "<table border=\"1\" class=\"dataframe\">\n",
       "  <thead>\n",
       "    <tr style=\"text-align: right;\">\n",
       "      <th></th>\n",
       "      <th>species</th>\n",
       "      <th>island</th>\n",
       "      <th>bill_length_mm</th>\n",
       "      <th>bill_depth_mm</th>\n",
       "      <th>flipper_length_mm</th>\n",
       "      <th>body_mass_g</th>\n",
       "      <th>sex</th>\n",
       "    </tr>\n",
       "  </thead>\n",
       "  <tbody>\n",
       "    <tr>\n",
       "      <th>0</th>\n",
       "      <td>Adelie</td>\n",
       "      <td>Torgersen</td>\n",
       "      <td>39.1</td>\n",
       "      <td>18.7</td>\n",
       "      <td>181.0</td>\n",
       "      <td>3750.0</td>\n",
       "      <td>Male</td>\n",
       "    </tr>\n",
       "    <tr>\n",
       "      <th>1</th>\n",
       "      <td>Adelie</td>\n",
       "      <td>Torgersen</td>\n",
       "      <td>39.5</td>\n",
       "      <td>17.4</td>\n",
       "      <td>186.0</td>\n",
       "      <td>3800.0</td>\n",
       "      <td>Female</td>\n",
       "    </tr>\n",
       "    <tr>\n",
       "      <th>2</th>\n",
       "      <td>Adelie</td>\n",
       "      <td>Torgersen</td>\n",
       "      <td>40.3</td>\n",
       "      <td>18.0</td>\n",
       "      <td>195.0</td>\n",
       "      <td>3250.0</td>\n",
       "      <td>Female</td>\n",
       "    </tr>\n",
       "    <tr>\n",
       "      <th>3</th>\n",
       "      <td>Adelie</td>\n",
       "      <td>Torgersen</td>\n",
       "      <td>NaN</td>\n",
       "      <td>NaN</td>\n",
       "      <td>NaN</td>\n",
       "      <td>NaN</td>\n",
       "      <td>NaN</td>\n",
       "    </tr>\n",
       "    <tr>\n",
       "      <th>4</th>\n",
       "      <td>Adelie</td>\n",
       "      <td>Torgersen</td>\n",
       "      <td>36.7</td>\n",
       "      <td>19.3</td>\n",
       "      <td>193.0</td>\n",
       "      <td>3450.0</td>\n",
       "      <td>Female</td>\n",
       "    </tr>\n",
       "  </tbody>\n",
       "</table>\n",
       "</div>"
      ],
      "text/plain": [
       "  species     island  bill_length_mm  bill_depth_mm  flipper_length_mm  \\\n",
       "0  Adelie  Torgersen            39.1           18.7              181.0   \n",
       "1  Adelie  Torgersen            39.5           17.4              186.0   \n",
       "2  Adelie  Torgersen            40.3           18.0              195.0   \n",
       "3  Adelie  Torgersen             NaN            NaN                NaN   \n",
       "4  Adelie  Torgersen            36.7           19.3              193.0   \n",
       "\n",
       "   body_mass_g     sex  \n",
       "0       3750.0    Male  \n",
       "1       3800.0  Female  \n",
       "2       3250.0  Female  \n",
       "3          NaN     NaN  \n",
       "4       3450.0  Female  "
      ]
     },
     "execution_count": 6,
     "metadata": {},
     "output_type": "execute_result"
    }
   ],
   "source": [
    "penguins.head()"
   ]
  },
  {
   "cell_type": "markdown",
   "metadata": {},
   "source": [
    "View the last 5 rows with `DataFrame.tail()`."
   ]
  },
  {
   "cell_type": "code",
   "execution_count": 7,
   "metadata": {},
   "outputs": [
    {
     "data": {
      "text/html": [
       "<div>\n",
       "<style scoped>\n",
       "    .dataframe tbody tr th:only-of-type {\n",
       "        vertical-align: middle;\n",
       "    }\n",
       "\n",
       "    .dataframe tbody tr th {\n",
       "        vertical-align: top;\n",
       "    }\n",
       "\n",
       "    .dataframe thead th {\n",
       "        text-align: right;\n",
       "    }\n",
       "</style>\n",
       "<table border=\"1\" class=\"dataframe\">\n",
       "  <thead>\n",
       "    <tr style=\"text-align: right;\">\n",
       "      <th></th>\n",
       "      <th>species</th>\n",
       "      <th>island</th>\n",
       "      <th>bill_length_mm</th>\n",
       "      <th>bill_depth_mm</th>\n",
       "      <th>flipper_length_mm</th>\n",
       "      <th>body_mass_g</th>\n",
       "      <th>sex</th>\n",
       "    </tr>\n",
       "  </thead>\n",
       "  <tbody>\n",
       "    <tr>\n",
       "      <th>339</th>\n",
       "      <td>Gentoo</td>\n",
       "      <td>Biscoe</td>\n",
       "      <td>NaN</td>\n",
       "      <td>NaN</td>\n",
       "      <td>NaN</td>\n",
       "      <td>NaN</td>\n",
       "      <td>NaN</td>\n",
       "    </tr>\n",
       "    <tr>\n",
       "      <th>340</th>\n",
       "      <td>Gentoo</td>\n",
       "      <td>Biscoe</td>\n",
       "      <td>46.8</td>\n",
       "      <td>14.3</td>\n",
       "      <td>215.0</td>\n",
       "      <td>4850.0</td>\n",
       "      <td>Female</td>\n",
       "    </tr>\n",
       "    <tr>\n",
       "      <th>341</th>\n",
       "      <td>Gentoo</td>\n",
       "      <td>Biscoe</td>\n",
       "      <td>50.4</td>\n",
       "      <td>15.7</td>\n",
       "      <td>222.0</td>\n",
       "      <td>5750.0</td>\n",
       "      <td>Male</td>\n",
       "    </tr>\n",
       "    <tr>\n",
       "      <th>342</th>\n",
       "      <td>Gentoo</td>\n",
       "      <td>Biscoe</td>\n",
       "      <td>45.2</td>\n",
       "      <td>14.8</td>\n",
       "      <td>212.0</td>\n",
       "      <td>5200.0</td>\n",
       "      <td>Female</td>\n",
       "    </tr>\n",
       "    <tr>\n",
       "      <th>343</th>\n",
       "      <td>Gentoo</td>\n",
       "      <td>Biscoe</td>\n",
       "      <td>49.9</td>\n",
       "      <td>16.1</td>\n",
       "      <td>213.0</td>\n",
       "      <td>5400.0</td>\n",
       "      <td>Male</td>\n",
       "    </tr>\n",
       "  </tbody>\n",
       "</table>\n",
       "</div>"
      ],
      "text/plain": [
       "    species  island  bill_length_mm  bill_depth_mm  flipper_length_mm  \\\n",
       "339  Gentoo  Biscoe             NaN            NaN                NaN   \n",
       "340  Gentoo  Biscoe            46.8           14.3              215.0   \n",
       "341  Gentoo  Biscoe            50.4           15.7              222.0   \n",
       "342  Gentoo  Biscoe            45.2           14.8              212.0   \n",
       "343  Gentoo  Biscoe            49.9           16.1              213.0   \n",
       "\n",
       "     body_mass_g     sex  \n",
       "339          NaN     NaN  \n",
       "340       4850.0  Female  \n",
       "341       5750.0    Male  \n",
       "342       5200.0  Female  \n",
       "343       5400.0    Male  "
      ]
     },
     "execution_count": 7,
     "metadata": {},
     "output_type": "execute_result"
    }
   ],
   "source": [
    "penguins.tail()"
   ]
  },
  {
   "cell_type": "markdown",
   "metadata": {},
   "source": [
    "<div class=\"alert alert-block alert-info\">\n",
    "    <p>The <code>DataFrame.head()</code> and <code>DataFrame.tail()</code> methods also take integers as input to specify the <strong>number of rows from the beginning or end of the dataset you would like to preview</strong>. For example, the command <code>penguins.head(10)</code> would allow us to preview the first 10 rows of the dataset instead of the 5 rows that we saw when we didn't provide an integer as input.</p>\n",
    "</div>\n",
    "\n",
    "---\n",
    "\n",
    "## Evaluating Missing or Null or `NaN` Values in our `DataFrame` \n",
    "\n",
    "After previewing the Palmer Penguins dataset, we can see that there are a couple of missing values denoted as `NaN` in our data. It is always a good idea to check for missing values before continuing with our analysis. Within this section of the notebook, we'll be using the following commands to **clean** or remove these data points with null values from our dataset:\n",
    "\n",
    "* The `DataFrame.isna()` method will help us detect rows (data points) that have a `NaN` or missing value in one of its columns\n",
    "* The `DataFrame.dropna()` method will help us drop/remove these rows containing `NaN` or missing values from our dataset"
   ]
  },
  {
   "cell_type": "code",
   "execution_count": 8,
   "metadata": {},
   "outputs": [
    {
     "data": {
      "text/html": [
       "<div>\n",
       "<style scoped>\n",
       "    .dataframe tbody tr th:only-of-type {\n",
       "        vertical-align: middle;\n",
       "    }\n",
       "\n",
       "    .dataframe tbody tr th {\n",
       "        vertical-align: top;\n",
       "    }\n",
       "\n",
       "    .dataframe thead th {\n",
       "        text-align: right;\n",
       "    }\n",
       "</style>\n",
       "<table border=\"1\" class=\"dataframe\">\n",
       "  <thead>\n",
       "    <tr style=\"text-align: right;\">\n",
       "      <th></th>\n",
       "      <th>species</th>\n",
       "      <th>island</th>\n",
       "      <th>bill_length_mm</th>\n",
       "      <th>bill_depth_mm</th>\n",
       "      <th>flipper_length_mm</th>\n",
       "      <th>body_mass_g</th>\n",
       "      <th>sex</th>\n",
       "    </tr>\n",
       "  </thead>\n",
       "  <tbody>\n",
       "    <tr>\n",
       "      <th>0</th>\n",
       "      <td>False</td>\n",
       "      <td>False</td>\n",
       "      <td>False</td>\n",
       "      <td>False</td>\n",
       "      <td>False</td>\n",
       "      <td>False</td>\n",
       "      <td>False</td>\n",
       "    </tr>\n",
       "    <tr>\n",
       "      <th>1</th>\n",
       "      <td>False</td>\n",
       "      <td>False</td>\n",
       "      <td>False</td>\n",
       "      <td>False</td>\n",
       "      <td>False</td>\n",
       "      <td>False</td>\n",
       "      <td>False</td>\n",
       "    </tr>\n",
       "    <tr>\n",
       "      <th>2</th>\n",
       "      <td>False</td>\n",
       "      <td>False</td>\n",
       "      <td>False</td>\n",
       "      <td>False</td>\n",
       "      <td>False</td>\n",
       "      <td>False</td>\n",
       "      <td>False</td>\n",
       "    </tr>\n",
       "    <tr>\n",
       "      <th>3</th>\n",
       "      <td>False</td>\n",
       "      <td>False</td>\n",
       "      <td>True</td>\n",
       "      <td>True</td>\n",
       "      <td>True</td>\n",
       "      <td>True</td>\n",
       "      <td>True</td>\n",
       "    </tr>\n",
       "    <tr>\n",
       "      <th>4</th>\n",
       "      <td>False</td>\n",
       "      <td>False</td>\n",
       "      <td>False</td>\n",
       "      <td>False</td>\n",
       "      <td>False</td>\n",
       "      <td>False</td>\n",
       "      <td>False</td>\n",
       "    </tr>\n",
       "    <tr>\n",
       "      <th>...</th>\n",
       "      <td>...</td>\n",
       "      <td>...</td>\n",
       "      <td>...</td>\n",
       "      <td>...</td>\n",
       "      <td>...</td>\n",
       "      <td>...</td>\n",
       "      <td>...</td>\n",
       "    </tr>\n",
       "    <tr>\n",
       "      <th>339</th>\n",
       "      <td>False</td>\n",
       "      <td>False</td>\n",
       "      <td>True</td>\n",
       "      <td>True</td>\n",
       "      <td>True</td>\n",
       "      <td>True</td>\n",
       "      <td>True</td>\n",
       "    </tr>\n",
       "    <tr>\n",
       "      <th>340</th>\n",
       "      <td>False</td>\n",
       "      <td>False</td>\n",
       "      <td>False</td>\n",
       "      <td>False</td>\n",
       "      <td>False</td>\n",
       "      <td>False</td>\n",
       "      <td>False</td>\n",
       "    </tr>\n",
       "    <tr>\n",
       "      <th>341</th>\n",
       "      <td>False</td>\n",
       "      <td>False</td>\n",
       "      <td>False</td>\n",
       "      <td>False</td>\n",
       "      <td>False</td>\n",
       "      <td>False</td>\n",
       "      <td>False</td>\n",
       "    </tr>\n",
       "    <tr>\n",
       "      <th>342</th>\n",
       "      <td>False</td>\n",
       "      <td>False</td>\n",
       "      <td>False</td>\n",
       "      <td>False</td>\n",
       "      <td>False</td>\n",
       "      <td>False</td>\n",
       "      <td>False</td>\n",
       "    </tr>\n",
       "    <tr>\n",
       "      <th>343</th>\n",
       "      <td>False</td>\n",
       "      <td>False</td>\n",
       "      <td>False</td>\n",
       "      <td>False</td>\n",
       "      <td>False</td>\n",
       "      <td>False</td>\n",
       "      <td>False</td>\n",
       "    </tr>\n",
       "  </tbody>\n",
       "</table>\n",
       "<p>344 rows × 7 columns</p>\n",
       "</div>"
      ],
      "text/plain": [
       "     species  island  bill_length_mm  bill_depth_mm  flipper_length_mm  \\\n",
       "0      False   False           False          False              False   \n",
       "1      False   False           False          False              False   \n",
       "2      False   False           False          False              False   \n",
       "3      False   False            True           True               True   \n",
       "4      False   False           False          False              False   \n",
       "..       ...     ...             ...            ...                ...   \n",
       "339    False   False            True           True               True   \n",
       "340    False   False           False          False              False   \n",
       "341    False   False           False          False              False   \n",
       "342    False   False           False          False              False   \n",
       "343    False   False           False          False              False   \n",
       "\n",
       "     body_mass_g    sex  \n",
       "0          False  False  \n",
       "1          False  False  \n",
       "2          False  False  \n",
       "3           True   True  \n",
       "4          False  False  \n",
       "..           ...    ...  \n",
       "339         True   True  \n",
       "340        False  False  \n",
       "341        False  False  \n",
       "342        False  False  \n",
       "343        False  False  \n",
       "\n",
       "[344 rows x 7 columns]"
      ]
     },
     "execution_count": 8,
     "metadata": {},
     "output_type": "execute_result"
    }
   ],
   "source": [
    "# First, detect cells within our DataFrame that contain NaN/missing values \n",
    "penguins.isna()"
   ]
  },
  {
   "cell_type": "markdown",
   "metadata": {},
   "source": [
    "<div class=\"alert alert-block alert-info\">\n",
    "    <p>The <code>DataFrame.isna()</code> method will show you the cells within your dataset that have missing values by either filling the cell with a <code>True</code> if the value in the cell is a <code>NaN</code> or missing, and <code>False</code> if the value in the cell is <strong>not <code>NaN</code> and not missing</strong>. Since this is kind of hard to read, we can do some more commands to digest what's going on and how many missing values we actually have in our dataset!</p>\n",
    "</div>\n",
    "\n",
    "Since the output from the `DataFrame.isna()` command is hard to read, we can use **both** the `DataFrame.isna()` and the `sum()` functions to calculate the number of `NaN` or missing values we have in each of our columns! "
   ]
  },
  {
   "cell_type": "code",
   "execution_count": 9,
   "metadata": {},
   "outputs": [
    {
     "data": {
      "text/plain": [
       "species               0\n",
       "island                0\n",
       "bill_length_mm        2\n",
       "bill_depth_mm         2\n",
       "flipper_length_mm     2\n",
       "body_mass_g           2\n",
       "sex                  11\n",
       "dtype: int64"
      ]
     },
     "execution_count": 9,
     "metadata": {},
     "output_type": "execute_result"
    }
   ],
   "source": [
    "# Next, let's determine the total number of NaN/missing values within our dataset with the sum() function...\n",
    "# We can use the isna() function like before, but then redirect the output from that function into the sum() function right afterwards!\n",
    "penguins.isna().sum()"
   ]
  },
  {
   "cell_type": "markdown",
   "metadata": {},
   "source": [
    "From this output, we can see that there are `NaN` values present in the `bill_length_mm`, `bill_depth_mm`, `flipper_length_mm`, `body_mass_g`, and `sex` columns of our dataset: they have 2, 2, 2, 2, and 11 values missing in their columns, respectively. \n",
    "\n",
    "### Removing Rows with Missing Values from a `DataFrame` with the `dropna()` Method\n",
    "\n",
    "Let's go ahead and remove samples (rows) with missing values using `DataFrame.dropna()`."
   ]
  },
  {
   "cell_type": "code",
   "execution_count": 10,
   "metadata": {},
   "outputs": [
    {
     "data": {
      "text/html": [
       "<div>\n",
       "<style scoped>\n",
       "    .dataframe tbody tr th:only-of-type {\n",
       "        vertical-align: middle;\n",
       "    }\n",
       "\n",
       "    .dataframe tbody tr th {\n",
       "        vertical-align: top;\n",
       "    }\n",
       "\n",
       "    .dataframe thead th {\n",
       "        text-align: right;\n",
       "    }\n",
       "</style>\n",
       "<table border=\"1\" class=\"dataframe\">\n",
       "  <thead>\n",
       "    <tr style=\"text-align: right;\">\n",
       "      <th></th>\n",
       "      <th>species</th>\n",
       "      <th>island</th>\n",
       "      <th>bill_length_mm</th>\n",
       "      <th>bill_depth_mm</th>\n",
       "      <th>flipper_length_mm</th>\n",
       "      <th>body_mass_g</th>\n",
       "      <th>sex</th>\n",
       "    </tr>\n",
       "  </thead>\n",
       "  <tbody>\n",
       "    <tr>\n",
       "      <th>0</th>\n",
       "      <td>Adelie</td>\n",
       "      <td>Torgersen</td>\n",
       "      <td>39.1</td>\n",
       "      <td>18.7</td>\n",
       "      <td>181.0</td>\n",
       "      <td>3750.0</td>\n",
       "      <td>Male</td>\n",
       "    </tr>\n",
       "    <tr>\n",
       "      <th>1</th>\n",
       "      <td>Adelie</td>\n",
       "      <td>Torgersen</td>\n",
       "      <td>39.5</td>\n",
       "      <td>17.4</td>\n",
       "      <td>186.0</td>\n",
       "      <td>3800.0</td>\n",
       "      <td>Female</td>\n",
       "    </tr>\n",
       "    <tr>\n",
       "      <th>2</th>\n",
       "      <td>Adelie</td>\n",
       "      <td>Torgersen</td>\n",
       "      <td>40.3</td>\n",
       "      <td>18.0</td>\n",
       "      <td>195.0</td>\n",
       "      <td>3250.0</td>\n",
       "      <td>Female</td>\n",
       "    </tr>\n",
       "    <tr>\n",
       "      <th>4</th>\n",
       "      <td>Adelie</td>\n",
       "      <td>Torgersen</td>\n",
       "      <td>36.7</td>\n",
       "      <td>19.3</td>\n",
       "      <td>193.0</td>\n",
       "      <td>3450.0</td>\n",
       "      <td>Female</td>\n",
       "    </tr>\n",
       "    <tr>\n",
       "      <th>5</th>\n",
       "      <td>Adelie</td>\n",
       "      <td>Torgersen</td>\n",
       "      <td>39.3</td>\n",
       "      <td>20.6</td>\n",
       "      <td>190.0</td>\n",
       "      <td>3650.0</td>\n",
       "      <td>Male</td>\n",
       "    </tr>\n",
       "    <tr>\n",
       "      <th>...</th>\n",
       "      <td>...</td>\n",
       "      <td>...</td>\n",
       "      <td>...</td>\n",
       "      <td>...</td>\n",
       "      <td>...</td>\n",
       "      <td>...</td>\n",
       "      <td>...</td>\n",
       "    </tr>\n",
       "    <tr>\n",
       "      <th>338</th>\n",
       "      <td>Gentoo</td>\n",
       "      <td>Biscoe</td>\n",
       "      <td>47.2</td>\n",
       "      <td>13.7</td>\n",
       "      <td>214.0</td>\n",
       "      <td>4925.0</td>\n",
       "      <td>Female</td>\n",
       "    </tr>\n",
       "    <tr>\n",
       "      <th>340</th>\n",
       "      <td>Gentoo</td>\n",
       "      <td>Biscoe</td>\n",
       "      <td>46.8</td>\n",
       "      <td>14.3</td>\n",
       "      <td>215.0</td>\n",
       "      <td>4850.0</td>\n",
       "      <td>Female</td>\n",
       "    </tr>\n",
       "    <tr>\n",
       "      <th>341</th>\n",
       "      <td>Gentoo</td>\n",
       "      <td>Biscoe</td>\n",
       "      <td>50.4</td>\n",
       "      <td>15.7</td>\n",
       "      <td>222.0</td>\n",
       "      <td>5750.0</td>\n",
       "      <td>Male</td>\n",
       "    </tr>\n",
       "    <tr>\n",
       "      <th>342</th>\n",
       "      <td>Gentoo</td>\n",
       "      <td>Biscoe</td>\n",
       "      <td>45.2</td>\n",
       "      <td>14.8</td>\n",
       "      <td>212.0</td>\n",
       "      <td>5200.0</td>\n",
       "      <td>Female</td>\n",
       "    </tr>\n",
       "    <tr>\n",
       "      <th>343</th>\n",
       "      <td>Gentoo</td>\n",
       "      <td>Biscoe</td>\n",
       "      <td>49.9</td>\n",
       "      <td>16.1</td>\n",
       "      <td>213.0</td>\n",
       "      <td>5400.0</td>\n",
       "      <td>Male</td>\n",
       "    </tr>\n",
       "  </tbody>\n",
       "</table>\n",
       "<p>333 rows × 7 columns</p>\n",
       "</div>"
      ],
      "text/plain": [
       "    species     island  bill_length_mm  bill_depth_mm  flipper_length_mm  \\\n",
       "0    Adelie  Torgersen            39.1           18.7              181.0   \n",
       "1    Adelie  Torgersen            39.5           17.4              186.0   \n",
       "2    Adelie  Torgersen            40.3           18.0              195.0   \n",
       "4    Adelie  Torgersen            36.7           19.3              193.0   \n",
       "5    Adelie  Torgersen            39.3           20.6              190.0   \n",
       "..      ...        ...             ...            ...                ...   \n",
       "338  Gentoo     Biscoe            47.2           13.7              214.0   \n",
       "340  Gentoo     Biscoe            46.8           14.3              215.0   \n",
       "341  Gentoo     Biscoe            50.4           15.7              222.0   \n",
       "342  Gentoo     Biscoe            45.2           14.8              212.0   \n",
       "343  Gentoo     Biscoe            49.9           16.1              213.0   \n",
       "\n",
       "     body_mass_g     sex  \n",
       "0         3750.0    Male  \n",
       "1         3800.0  Female  \n",
       "2         3250.0  Female  \n",
       "4         3450.0  Female  \n",
       "5         3650.0    Male  \n",
       "..           ...     ...  \n",
       "338       4925.0  Female  \n",
       "340       4850.0  Female  \n",
       "341       5750.0    Male  \n",
       "342       5200.0  Female  \n",
       "343       5400.0    Male  \n",
       "\n",
       "[333 rows x 7 columns]"
      ]
     },
     "execution_count": 10,
     "metadata": {},
     "output_type": "execute_result"
    }
   ],
   "source": [
    "# Let's remove rows in our dataset that have missing values in one or more of the columns with dropna()\n",
    "penguins.dropna()"
   ]
  },
  {
   "cell_type": "markdown",
   "metadata": {},
   "source": [
    "After running this method, we can see in the bottom-left that we have **333 penguin samples** instead of the original **344 penguin samples**. \n",
    "\n",
    "Remember to save this to a variable! The convention is to re-save this to the same variable `penguins` and ignore missing values for now!"
   ]
  },
  {
   "cell_type": "code",
   "execution_count": 11,
   "metadata": {},
   "outputs": [
    {
     "name": "stdout",
     "output_type": "stream",
     "text": [
      "The shape of the DataFrame before removing rows with NaN values: (344, 7)\n",
      "The shape of the DataFrame after removing rows with NaN values: (333, 7)\n"
     ]
    }
   ],
   "source": [
    "# Let's print out the shape of the DataFrame before and after removing rows with missing information\n",
    "# so that we can see if a change was actually made to our variable! \n",
    "print(f\"The shape of the DataFrame before removing rows with NaN values: {penguins.shape}\") \n",
    "\n",
    "penguins = penguins.dropna() # run the same command as before BUT with saving it to a variable\n",
    "\n",
    "# Print out the shape of the DataFrame after our modification...\n",
    "print(f\"The shape of the DataFrame after removing rows with NaN values: {penguins.shape}\")"
   ]
  },
  {
   "cell_type": "markdown",
   "metadata": {},
   "source": [
    "<div class=\"alert alert-block alert-info\">\n",
    "    <p>By default, the <code>DataFrame.dropna()</code> method drops rows with <code>NaN</code> values by default, but it can also be used to remove columns by specifying the <code>axis</code> parameter as <code>1</code> (e.g., <code>penguins.dropna(axis=1)</code> would drop columns in the Palmer Penguins dataset that have <code>NaN</code> values present).</p>\n",
    "</div>\n",
    "\n",
    "---\n",
    "\n",
    "## Visualizations of Data with Built-In `pandas` Plotting Functions and the `seaborn` Package\n",
    "\n",
    "It's always good practice to have a rough idea of how your data \"looks\" or how is distributed before you start analyzing it! We can do this by visualizing the distribution for each variable (e.g., the penguin's bill length, named `bill_length_mm` in our dataset). Within this section, we'll be doing several things:\n",
    "\n",
    "* Learning how to access certain columns in our `DataFrame` using the bracket notation \n",
    "* Generate basic plots using the `pandas` method called `Series.plot()` \n",
    "    * Generating histograms with `kind=\"hist\"` as a method parameter\n",
    "    * Generating histograms with `kind=\"scatter\"` as a method parameter\n",
    "* Generating plots across all numerical values with the `seaborn` method called `sns.pairplot()`"
   ]
  },
  {
   "cell_type": "markdown",
   "metadata": {},
   "source": [
    "### Accessing Columns of a `DataFrame` with Bracket Notation"
   ]
  },
  {
   "cell_type": "code",
   "execution_count": 12,
   "metadata": {},
   "outputs": [
    {
     "data": {
      "text/plain": [
       "0      39.1\n",
       "1      39.5\n",
       "2      40.3\n",
       "4      36.7\n",
       "5      39.3\n",
       "       ... \n",
       "338    47.2\n",
       "340    46.8\n",
       "341    50.4\n",
       "342    45.2\n",
       "343    49.9\n",
       "Name: bill_length_mm, Length: 333, dtype: float64"
      ]
     },
     "execution_count": 12,
     "metadata": {},
     "output_type": "execute_result"
    }
   ],
   "source": [
    "# In pandas, we can access certain columns using brackets \n",
    "# and then put the name of the column we want to acess as a string inside\n",
    "#     e.g., penguins[\"column_name_like_this\"]\n",
    "\n",
    "# For example, let's access the bill length column (called bill_length_mm) for the penguins dataset!\n",
    "penguins[\"bill_length_mm\"]"
   ]
  },
  {
   "cell_type": "markdown",
   "metadata": {},
   "source": [
    "From this output, we can see that we were able to successfully access the bill lengths of all the penguins in our dataset! \n",
    "\n",
    "<div class=\"alert alert-block alert-info\">\n",
    "    <p>When we access columns in a <code>DataFrame</code> using this notation, the column is <strong>not</strong> returned as a <code>DataFrame</code> but instead as a <code>Series</code> object instead! You can think of a <code>pandas</code> <code>Series</code> as a list of items instead of the table-like structure that <code>DataFrame</code> objects provide. \n",
    "</div>"
   ]
  },
  {
   "cell_type": "markdown",
   "metadata": {},
   "source": [
    "### Visualizing Data using Built-In `pandas` Plotting Functions\n",
    "\n",
    "Within this section, we'll cover two common ways of visualizing biological data: \n",
    "\n",
    "* *Histograms* are an approximate representation of the distribution of numerical data;<br>they're a special form of bar chart where the data is continuous, so each bar is the frequency of occurences for data points that fit within a certain \"bin\" \n",
    "* *Scatterplots* are a diagram that use Cartesian coordinates to display values for two variables in a dataset (usually);<br>the position of each dot on the horizontal and vertical axes represents the values for an individual data point\n",
    "\n",
    "Luckily, `pandas` has a built-in plotting function that we can use to generate basic plots based on the information in our `DataFrame`: it's under the method `pandas.plot()`. This `plot()` method has a parameter called `kind` that we can set to the type of plot we wish to generate! \n",
    "\n",
    "<div class=\"alert alert-block alert-info\">\n",
    "    <p>Depending on what you want to visualize, you can use the <code>plot()</code> function on either a <code>pandas</code> <code>DataFrame</code> or <code>Series</code> object.</p>\n",
    "</div>\n",
    "\n",
    "#### Generating a Histogram with the `pandas` `plot()` Function\n",
    "\n",
    "Let's use a histogram to visualize the distirbution of different penguin bill lengths within our dataset!"
   ]
  },
  {
   "cell_type": "code",
   "execution_count": 13,
   "metadata": {},
   "outputs": [
    {
     "data": {
      "text/plain": [
       "<AxesSubplot:ylabel='Frequency'>"
      ]
     },
     "execution_count": 13,
     "metadata": {},
     "output_type": "execute_result"
    },
    {
     "data": {
      "image/png": "[encoded data removed]",
      "text/plain": [
       "<Figure size 432x288 with 1 Axes>"
      ]
     },
     "metadata": {
      "needs_background": "light"
     },
     "output_type": "display_data"
    }
   ],
   "source": [
    "# First, we can access the bill length column within our dataframe,\n",
    "# then right after it, we can plot the information using the plot() method while specifiying that we want to see a hist-ogram! \n",
    "penguins[\"bill_length_mm\"].plot(kind=\"hist\")"
   ]
  },
  {
   "cell_type": "markdown",
   "metadata": {},
   "source": [
    "That seemed to work! Let's pick another variable and visualize it with the `plot()` function! "
   ]
  },
  {
   "cell_type": "markdown",
   "metadata": {},
   "source": [
    "<div class=\"alert alert-block alert-success\">\n",
    "    <p><b>Exercise:</b> Create a command in the code cell below to generate a histogram for penguin bill depth.</p>\n",
    "</div>"
   ]
  },
  {
   "cell_type": "code",
   "execution_count": 14,
   "metadata": {},
   "outputs": [],
   "source": [
    "# !TODO"
   ]
  },
  {
   "cell_type": "code",
   "execution_count": 15,
   "metadata": {},
   "outputs": [
    {
     "data": {
      "text/plain": [
       "<AxesSubplot:ylabel='Frequency'>"
      ]
     },
     "execution_count": 15,
     "metadata": {},
     "output_type": "execute_result"
    },
    {
     "data": {
      "image/png": "[encoded data removed]",
      "text/plain": [
       "<Figure size 432x288 with 1 Axes>"
      ]
     },
     "metadata": {
      "needs_background": "light"
     },
     "output_type": "display_data"
    }
   ],
   "source": [
    "# ANSWER\n",
    "penguins[\"bill_depth_mm\"].plot(kind=\"hist\")"
   ]
  },
  {
   "cell_type": "markdown",
   "metadata": {},
   "source": [
    "#### Generating a Scatter Plot with the `pandas` `plot()` Function\n",
    "\n",
    "Let's use a scatter plot to visualize different penguin bill lengths versus penguin bill depths within our dataset!"
   ]
  },
  {
   "cell_type": "code",
   "execution_count": 16,
   "metadata": {},
   "outputs": [
    {
     "data": {
      "text/plain": [
       "<AxesSubplot:xlabel='bill_length_mm', ylabel='bill_depth_mm'>"
      ]
     },
     "execution_count": 16,
     "metadata": {},
     "output_type": "execute_result"
    },
    {
     "data": {
      "image/png": "[encoded data removed]",
      "text/plain": [
       "<Figure size 432x288 with 1 Axes>"
      ]
     },
     "metadata": {
      "needs_background": "light"
     },
     "output_type": "display_data"
    }
   ],
   "source": [
    "# Within this example, we'll run the plot() function on the penguins DataFrame object itself instead of specifying a specific column\n",
    "# Then, within the plot() function, we'll specify the kind of plot as a scatter-plot and then what we want our x and y axes to represent! \n",
    "penguins.plot(kind=\"scatter\", x=\"bill_length_mm\", y=\"bill_depth_mm\")"
   ]
  },
  {
   "cell_type": "markdown",
   "metadata": {},
   "source": [
    "<div class=\"alert alert-block alert-success\">\n",
    "    <p><b>Exercise:</b> Create a command in the code cell below to generate a scatter plot for penguin flipper length versus penguin body mass.</p>\n",
    "</div>"
   ]
  },
  {
   "cell_type": "code",
   "execution_count": 17,
   "metadata": {},
   "outputs": [],
   "source": [
    "# !TODO"
   ]
  },
  {
   "cell_type": "code",
   "execution_count": 18,
   "metadata": {},
   "outputs": [
    {
     "data": {
      "text/plain": [
       "<AxesSubplot:xlabel='flipper_length_mm', ylabel='body_mass_g'>"
      ]
     },
     "execution_count": 18,
     "metadata": {},
     "output_type": "execute_result"
    },
    {
     "data": {
      "image/png": "[encoded data removed]",
      "text/plain": [
       "<Figure size 432x288 with 1 Axes>"
      ]
     },
     "metadata": {
      "needs_background": "light"
     },
     "output_type": "display_data"
    }
   ],
   "source": [
    "# ANSWER\n",
    "penguins.plot(kind=\"scatter\", x=\"flipper_length_mm\", y=\"body_mass_g\")"
   ]
  },
  {
   "cell_type": "markdown",
   "metadata": {},
   "source": [
    "### Using `seaborn` to Quickly Visualize All Variables at Once with `sns.pairplot()`"
   ]
  },
  {
   "cell_type": "markdown",
   "metadata": {},
   "source": [
    "Turns out we can visualize all the variables at once with the handy function `sns.pairplot()`!\n",
    "\n",
    "Just like we did above with one or two variables, `sns.pairplot()` plots all variables as histograms on the diagonal, while the other plots are scatter plots showing all pairwise relationships between variables. The x and y axes are shared across plots."
   ]
  },
  {
   "cell_type": "code",
   "execution_count": 19,
   "metadata": {},
   "outputs": [
    {
     "data": {
      "text/plain": [
       "<seaborn.axisgrid.PairGrid at 0x7ff3b7c900a0>"
      ]
     },
     "execution_count": 19,
     "metadata": {},
     "output_type": "execute_result"
    },
    {
     "data": {
      "image/png": "[encoded data removed]",
      "text/plain": [
       "<Figure size 720x720 with 14 Axes>"
      ]
     },
     "metadata": {
      "needs_background": "light"
     },
     "output_type": "display_data"
    }
   ],
   "source": [
    "# setting corner=True turns off the redundant plots in the upper right triangle of the matrix\n",
    "sns.pairplot(penguins, corner=True) "
   ]
  },
  {
   "cell_type": "markdown",
   "metadata": {},
   "source": [
    "With `sns.pairplot()` visualizing the distributions for things was a whole lot easier! On the diagonal, we can see the different histograms for each of our variables, and then for everything not on the diagonal, we can see how different variables plot against each other (e.g., on the bottom row, we can see `body_mass_g` versus `bill_length_mm`, `bill_depth_mm`, and finally, `flipper_length_mm`. \n",
    "\n",
    "---\n",
    "\n",
    "## An Brief Introduction to The Normal Distribution \n",
    "\n",
    "Empirical data often follows or approximates a bell-shaped distribution, or normal distribution especially when sample size increases. \n",
    "\n",
    "![Normal Distribution Image](img/day1_norm-dist.png)\n",
    "\n",
    "Looking at the pairplot above, do any of the variables resemble this shape? The image above is a representation of the normal distribution! \n",
    "\n",
    "---\n",
    "\n",
    "## Time to Get Back to Descriptive Statistics...\n",
    "\n",
    "Now that we have a handle on how to explore datasets in Python using `pandas`, let's go back to our lesson on Descriptive Statistics! \n",
    "\n",
    "> Remember, it's usually not possible to collect observations on every member of the population. For example, if we wanted to study wingspan of penguins, it's really difficult to measure the wingspan of **every single penguin on the face of the Earth**! Fortunately, we can take a *sample* of the total *population*, assuming that our sample is a decent representation of what we want to study! Therefore, the **sample** mean, variance, and standard deviation are *estimates* of the true population mean, variance, and standard deviation! \n",
    "\n",
    "Within this portion of the notebook, we'll be learning about the normal distribution and its characteristics by using some of the concepts from Descriptive Statistics. \n",
    "\n",
    "### Import the Packages We'll be Using in this Portion of the Notebook\n",
    "\n",
    "For this portion of the notebook, we'll be importing another plotting library called `matplotlib.pyplot` to visualize our data. We'll also be importing a package called `numpy` to perform some numerical operations later on! "
   ]
  },
  {
   "cell_type": "code",
   "execution_count": 20,
   "metadata": {},
   "outputs": [],
   "source": [
    "# Load submodule pyplot from matplotlib using \"plt\" as the shorthand\n",
    "import matplotlib.pyplot as plt\n",
    "\n",
    "# Load numpy package using \"np\" as the shorthand\n",
    "import numpy as np"
   ]
  },
  {
   "cell_type": "markdown",
   "metadata": {},
   "source": [
    "---\n",
    "\n",
    "## The Mean and Median\n",
    "\n",
    "Let's inspect our sample's body mass distribution and calculate the mean and median of our data points! \n",
    "\n",
    "To make things easier, we can access the `body_mass_g` column of our Palmer Penguins dataset and save the values to a variable called `mass`. "
   ]
  },
  {
   "cell_type": "code",
   "execution_count": 21,
   "metadata": {},
   "outputs": [],
   "source": [
    "mass = penguins[\"body_mass_g\"] # saves the body mass values to the mass variable"
   ]
  },
  {
   "cell_type": "markdown",
   "metadata": {},
   "source": [
    "Now, let's calculate the **mean** and **median** of the penguin body masses using the built-in `pandas` functions: \n",
    "\n",
    "* `Series.mean()` will calculate the mean of a set of values for us\n",
    "* `Series.median()` will calculate the median of a set of values for us \n",
    "\n",
    "<div class=\"alert alert-block alert-info\">\n",
    "    <p>Remember, we have to replace the <code>Series</code> with the specific column of the dataset we want to evaluate (e.g., <code>penguins[\"body_mass_g\"].mean()</code> will calculate the mean of the <code>body_mass_g</code> column of the <code>DataFrame</code> referenced by the <code>penguins</code> variable, just as <code>mass.mean()</code> will also calculate the mean since <code>mass = penguins[\"body_mass_g\"]</code>).</p>\n",
    "</div>"
   ]
  },
  {
   "cell_type": "code",
   "execution_count": 22,
   "metadata": {},
   "outputs": [
    {
     "name": "stdout",
     "output_type": "stream",
     "text": [
      "The mean body mass is: 4207.057057057057\n",
      "The median body mass is: 4050.0\n"
     ]
    }
   ],
   "source": [
    "# Calculate mean and save to variable `mass_mean`\n",
    "mass_mean = mass.mean()\n",
    "\n",
    "# Calculate nedian and save to variable `mass_median`\n",
    "mass_median = mass.median()\n",
    "\n",
    "# Let's print what these values are! \n",
    "print(f\"The mean body mass is: {mass_mean}\")\n",
    "print(f\"The median body mass is: {mass_median}\")"
   ]
  },
  {
   "cell_type": "markdown",
   "metadata": {},
   "source": [
    "Finally, let's plot a histogram of the distribution of body masses using the `sns.histplot()` function found in the `seaborn` package! We'll also plot where the mean and median are on this distribution using the `plt.avxline()` function from `matplotlib.pyplot`. \n",
    "\n",
    "<div class=\"alert alert-block alert-warning\">\n",
    "    <p>You can also use the <code>pandas.plot(kind=\"hist\")</code> function if you'd like, but this function is prettier and the TAs are a little biased towards <code>seaborn</code>...</p>\n",
    "</div>"
   ]
  },
  {
   "cell_type": "code",
   "execution_count": 23,
   "metadata": {},
   "outputs": [
    {
     "data": {
      "text/plain": [
       "<matplotlib.lines.Line2D at 0x7ff3b7d59280>"
      ]
     },
     "execution_count": 23,
     "metadata": {},
     "output_type": "execute_result"
    },
    {
     "data": {
      "image/png": "[encoded data removed]",
      "text/plain": [
       "<Figure size 432x288 with 1 Axes>"
      ]
     },
     "metadata": {
      "needs_background": "light"
     },
     "output_type": "display_data"
    }
   ],
   "source": [
    "# Generate a histogram of the masses stored in the mass variable using the histplot() function! \n",
    "sns.histplot(mass)\n",
    "\n",
    "# Draw vertical red line at the mean\n",
    "plt.axvline(mass_mean, color=\"red\")\n",
    "\n",
    "# Draw vertical blue line at the median\n",
    "plt.axvline(mass_median, color=\"blue\")"
   ]
  },
  {
   "cell_type": "markdown",
   "metadata": {},
   "source": [
    "### What's the General Takeaway? \n",
    "\n",
    "Generally, for **symmetric** distributions, the **mean and median are equal**. \n",
    "\n",
    "However, when looking at the body mass distributions of our penguins, is it symmetric? Notice that the mean is shifted to the right of the median. Can we say that the body masses of penguins in our sample are normally distributed? \n",
    "\n",
    "In general, if the histogram has a tail on one side (or the distribution is **skewed**), then **the mean is pulled away from the median in the direction of the tail**.\n",
    "\n",
    "### Let's do a quick exercise to practice what we just did in the last section! \n",
    "\n",
    "<div class=\"alert alert-block alert-success\">\n",
    "    <p><b>Exercise:</b> <i>Let's examine the flipper length and see what conclusions we can make about the distribution!</i></p>\n",
    "    <p>Plot the histogram of the flipper length and draw lines for the mean and median. Is flipper length roughly normally distributed? Justify your answer.</p>\n",
    "</div>"
   ]
  },
  {
   "cell_type": "code",
   "execution_count": 24,
   "metadata": {},
   "outputs": [],
   "source": [
    "# !TODO\n",
    "\n",
    "# 1. Define a new variable called flipper_length with the flipper lengths of the Palmer Penguins dataset \n",
    "flipper_length = None \n",
    "\n",
    "# 2. Plot a histogram of the flipper lengths using the variable you just created \n",
    "#    then also plot the mean and median flipper lengths that we have in our dataset \n"
   ]
  },
  {
   "cell_type": "code",
   "execution_count": 25,
   "metadata": {},
   "outputs": [
    {
     "data": {
      "text/plain": [
       "<matplotlib.lines.Line2D at 0x7ff3b8745be0>"
      ]
     },
     "execution_count": 25,
     "metadata": {},
     "output_type": "execute_result"
    },
    {
     "data": {
      "image/png": "[encoded data removed]",
      "text/plain": [
       "<Figure size 432x288 with 1 Axes>"
      ]
     },
     "metadata": {
      "needs_background": "light"
     },
     "output_type": "display_data"
    }
   ],
   "source": [
    "# ANSWER\n",
    "flipper_length = penguins[\"flipper_length_mm\"]\n",
    "sns.histplot(flipper_length)\n",
    "plt.axvline(flipper_length.mean(), color=\"red\")\n",
    "plt.axvline(flipper_length.median(), color=\"blue\")"
   ]
  },
  {
   "cell_type": "markdown",
   "metadata": {},
   "source": [
    "---\n",
    "\n",
    "## The Standard Deviation and Z-Scores\n",
    "\n",
    "### Spotting the Standard Deviation on a Normal Curve \n",
    "\n",
    "To see how the standard deviation is related to the curve, start at the top of the curve and look towards the right. Notice that there is a place where the curve changes from looking like an \"upside-down cup\" to a \"right-way-up cup\"; formally, the curve has a **point of inflection**. That point is one standard deviation above the average. It is the point `z=1`, which is \"the average plus 1 standard deviation\".\n",
    "\n",
    "Symmetrically on the left-hand side of the mean, the point of inflection is at `z=−1`, that is, \"the average minus 1 standard deviation\".\n",
    "\n",
    "The **z-score** is a commonly used way to describe \"average ± **Z** standard deviations\".\n",
    "\n",
    "In general, **for bell-shaped distributions, the SD is the distance between the mean and the points of inflection on either side.**\n",
    "\n",
    "### Sampling from the Normal Distribution to Visualize Standard Deviation\n",
    "\n",
    "To visualize the phenomena that we just talked about, let's draw some samples from a normal distribution and then plot the distribution against its mean and standard deviations! We'll be doing the following steps: \n",
    "\n",
    "1. Sampling from a normal distribution using the `numpy` method `np.random.normal()` for 10,000 points\n",
    "2. Plotting the normal distribution as a kernel density estimation plot using the `seaborn` method `sns.kdeplot()` \n",
    "3. Plotting the mean of the sampled distribution using the `matplotlib.pyplot` method `plt.axvline()`\n",
    "4. Plotting +1 and -1 standard deviations above this mean using the `matplotlib.pyplot` method `plt.axvline()` \n",
    "5. Labeling our x-axis with the `matplotlib.pyplot` method `plt.xlabel()` to indicate that this axis represents the z-score "
   ]
  },
  {
   "cell_type": "code",
   "execution_count": 26,
   "metadata": {},
   "outputs": [
    {
     "data": {
      "image/png": "[encoded data removed]",
      "text/plain": [
       "<Figure size 432x288 with 1 Axes>"
      ]
     },
     "metadata": {
      "needs_background": "light"
     },
     "output_type": "display_data"
    }
   ],
   "source": [
    "# Draw 10,000 samples from a normally distributed distribution.\n",
    "normal_data = np.random.normal(size=10000)\n",
    "\n",
    "# Plot the distribution using the sns.kdeplot() method \n",
    "sns.kdeplot(normal_data, bw_adjust=2, fill=True)\n",
    "\n",
    "# Plot the mean as a red line\n",
    "plt.axvline(normal_data.mean(), color=\"red\")\n",
    "\n",
    "# Plot ± 1 SD as blue lines\n",
    "plt.axvline(normal_data.mean() - normal_data.std(), color=\"blue\")\n",
    "plt.axvline(normal_data.mean() + normal_data.std(), color=\"blue\")\n",
    "\n",
    "# Label the x-axis\n",
    "plt.xlabel(\"z-score\");"
   ]
  },
  {
   "cell_type": "markdown",
   "metadata": {},
   "source": [
    "### What's the General Takeaway? \n",
    "\n",
    "Whenever you examine a histogram, you should start out by looking at the horizontal axis. On the horizontal axis of a standard normal curve, the values are standard units. For now, we can think of the normal curve as a smoothed outline of a histogram! Knowing this, there are a few properties that apply to this sort of curve; some are apparent by mere observation and others require a considerable amount of mathematics to establish:\n",
    "\n",
    "* **The total area under the curve is 1.** So you can think of it as a histogram drawn to the density scale.\n",
    "* **The curve is symmetric about 0.** So if a variable has this distribution, its mean and median are both 0.\n",
    "* **The points of inflection of the curve are at -1 and +1.**\n",
    "* **If a variable has this distribution, its standard deviation is 1.** The normal curve is one of the very few distributions that has an standard deviation so clearly identifiable on the histogram.\n",
    "\n",
    "---\n",
    "\n",
    "## The Practical Use of Z-Scores and P-Values\n",
    "\n",
    "Knowing all of this information about the standard curve, what does the area under the curve tell us about our data? Well, we can measure proportions of the total amount of our data! \n",
    "\n",
    "### Handy-Dandy Cheat Sheet for Z-Scores and P-Values\n",
    "\n",
    "Here's a cheat sheet of some approximate values that describe normal distributions:\n",
    "\n",
    "|  Fraction in range | z-score  |  p-value |\n",
    "| --- | --- | --- |\n",
    "| average ± 1 SD | 1   |0.68 |\n",
    "| average ± 2 SD | 2   |0.95 |\n",
    "| average ± 3 SD | 3   |0.997|\n",
    "\n",
    "But how did we get these values? Let's calculate them with code! \n",
    "\n",
    "### Validating the Values in the Z-Score/P-Value Cheat Sheet with Code! \n",
    "\n",
    "Let's find the area within **1 standard deviation of the mean** under the standard normal curve (area under the cruve between blue lines). This is also denoted as the area between `z = -1` and `z = 1`. The area is approximately `0.68`. This fraction is the probability or **two-tailed p-value** corresponding to a **`z-score = 1`**.\n",
    "\n",
    "![image.png](img/day1_norm-dist-again.png)\n",
    "\n",
    "Now, let's go through the different steps to calculating this value manually. \n",
    "\n",
    "1. **First, we'll calculate the lower and upper bounds of our different tails.** The lower bound is the mean minus one standard deviation, whereas the upper bound is the mean plus one standard deviation! \n",
    "2. **Next, we'll count the number of samples that are present within our bounds**. \n",
    "3. **Finally, we'll calculate the fraction of samples that are within our lower and upper bounds compared to the total number of samples**. "
   ]
  },
  {
   "cell_type": "code",
   "execution_count": 27,
   "metadata": {},
   "outputs": [
    {
     "data": {
      "text/plain": [
       "0.6817"
      ]
     },
     "execution_count": 27,
     "metadata": {},
     "output_type": "execute_result"
    }
   ],
   "source": [
    "###################################################################################################################################\n",
    "# Step 1: Calculate the lower and upper bounds of our distribution (we'll be looking at the area one standard deviation of the mean)\n",
    "lower_bound = normal_data.mean() - normal_data.std() # mean minus 1 standard deviation\n",
    "upper_bound = normal_data.mean() + normal_data.std() # mean plus 1 standard deviation\n",
    "\n",
    "###################################################################################################################################\n",
    "# Step 2a: Determine the points that are above our lower bound and points that are below our upper bound\n",
    "#          then determine the points that are in common between these two comparisons\n",
    "points_above_lower_bound = normal_data > lower_bound\n",
    "points_below_upper_bound = normal_data < upper_bound\n",
    "points_within_bounds = points_above_lower_bound & points_below_upper_bound\n",
    "\n",
    "# Step 2b: Calculate the total number of points that appear within our lower and upper bounds! \n",
    "total_within_bounds  = sum(points_within_bounds) \n",
    "\n",
    "###################################################################################################################################\n",
    "# Step 3: Finally, calculate the fraction of samples that are within our bounds by dividing it by the total number of samples\n",
    "total_within_bounds / len(normal_data)"
   ]
  },
  {
   "cell_type": "markdown",
   "metadata": {},
   "source": [
    "From those calculations, we can see that our fraction is approximately `0.68`, corresponding to the P-value from our cheat sheet! \n",
    "\n",
    "However, it's kind of tedious to calculate this manually every time we want to calculate a P-value. **Luckily, there are packages in Python that can perform these calcualtions for us!**"
   ]
  },
  {
   "cell_type": "markdown",
   "metadata": {},
   "source": [
    "### Calculating P-Values with the `stats` Submodule from `scipy` \n",
    "\n",
    "That was starting to get a little complicated. Luckily, the `scikit-learn` Python package includes methods to estimate P-values easily!"
   ]
  },
  {
   "cell_type": "code",
   "execution_count": 28,
   "metadata": {},
   "outputs": [
    {
     "data": {
      "text/plain": [
       "0.6826894921370859"
      ]
     },
     "execution_count": 28,
     "metadata": {},
     "output_type": "execute_result"
    }
   ],
   "source": [
    "from scipy import stats # start out by importing the package we need \n",
    "\n",
    "# Calculate the areas left of z=1 and z=-1 \n",
    "area_left_z_plus_1 = stats.norm.cdf(1)\n",
    "area_left_z_minus_1 = stats.norm.cdf(-1)\n",
    "\n",
    "# Determine the area between z=1 and z=-1\n",
    "area_left_z_plus_1 - area_left_z_minus_1"
   ]
  },
  {
   "cell_type": "markdown",
   "metadata": {},
   "source": [
    "---\n",
    "\n",
    "## Applying Descriptive Statistics, Z-Scores, and P-Values to the Palmer Penguins Dataset\n",
    "\n",
    "Now that we have somewhat of a handle on the theory, let's apply the concepts that we've learned to the Palmer Penguins dataset! \n",
    "\n",
    "As we saw earlier, none of the variables that we studied were normally distributed. But for the sake of this exercise, **let's assume that `bill_length_mm` is approximately normal for the sake of this exercise**! Say we want to ask, what's the probability that a randomly-selected penguin's bill length is longer than 55 mm?\n",
    "\n",
    "We can do this by calculating the Z-score for `bill_length_mm=55`! "
   ]
  },
  {
   "cell_type": "code",
   "execution_count": 29,
   "metadata": {},
   "outputs": [
    {
     "data": {
      "text/plain": [
       "<AxesSubplot:xlabel='bill_length_mm', ylabel='Count'>"
      ]
     },
     "execution_count": 29,
     "metadata": {},
     "output_type": "execute_result"
    },
    {
     "data": {
      "image/png": "[encoded data removed]",
      "text/plain": [
       "<Figure size 432x288 with 1 Axes>"
      ]
     },
     "metadata": {
      "needs_background": "light"
     },
     "output_type": "display_data"
    }
   ],
   "source": [
    "# Let's start out by reviewing what the distribution of bill length looks like again \n",
    "# using the seaborn function sns.histplot()... \n",
    "sns.histplot(penguins[\"bill_length_mm\"])"
   ]
  },
  {
   "cell_type": "markdown",
   "metadata": {},
   "source": [
    "### Using the `stats.zmap()` Function to Calculate a Z-Score\n",
    "\n",
    "We can use the function `stats.zmap()` from the `scipy` package to use our own sampling of penguin bill lengths as a reference to calculate a z-score for an arbitrary value. This function performs the following steps:\n",
    "\n",
    "1. First, the function starts by calculating the mean and standard deviation for the array of data points you provide \n",
    "2. Next, for your samples of interest, the function calculates the number of standard deviations from the mean -- a.k.a. the Z-scores!\n",
    "3. Finally, the function returns these Z-scores back to you! \n",
    "\n",
    "<div class=\"alert alert-block alert-info\">\n",
    "    <p>If you ever are confused about what a function does, you can use the following notation to bring up the documentation in a Jupyter Notebook: <code>?FUNCTION</code>.<br>(e.g., we can type in <code>?stats.zmap()</code> into a code cell and then run it to view the documentation for this function!)</p>\n",
    "</div>"
   ]
  },
  {
   "cell_type": "code",
   "execution_count": 30,
   "metadata": {},
   "outputs": [
    {
     "data": {
      "text/plain": [
       "\u001b[0;31mSignature:\u001b[0m \u001b[0mstats\u001b[0m\u001b[0;34m.\u001b[0m\u001b[0mzmap\u001b[0m\u001b[0;34m(\u001b[0m\u001b[0mscores\u001b[0m\u001b[0;34m,\u001b[0m \u001b[0mcompare\u001b[0m\u001b[0;34m,\u001b[0m \u001b[0maxis\u001b[0m\u001b[0;34m=\u001b[0m\u001b[0;36m0\u001b[0m\u001b[0;34m,\u001b[0m \u001b[0mddof\u001b[0m\u001b[0;34m=\u001b[0m\u001b[0;36m0\u001b[0m\u001b[0;34m)\u001b[0m\u001b[0;34m\u001b[0m\u001b[0;34m\u001b[0m\u001b[0m\n",
       "\u001b[0;31mDocstring:\u001b[0m\n",
       "Calculate the relative z-scores.\n",
       "\n",
       "Return an array of z-scores, i.e., scores that are standardized to\n",
       "zero mean and unit variance, where mean and variance are calculated\n",
       "from the comparison array.\n",
       "\n",
       "Parameters\n",
       "----------\n",
       "scores : array_like\n",
       "    The input for which z-scores are calculated.\n",
       "compare : array_like\n",
       "    The input from which the mean and standard deviation of the\n",
       "    normalization are taken; assumed to have the same dimension as\n",
       "    `scores`.\n",
       "axis : int or None, optional\n",
       "    Axis over which mean and variance of `compare` are calculated.\n",
       "    Default is 0. If None, compute over the whole array `scores`.\n",
       "ddof : int, optional\n",
       "    Degrees of freedom correction in the calculation of the\n",
       "    standard deviation. Default is 0.\n",
       "\n",
       "Returns\n",
       "-------\n",
       "zscore : array_like\n",
       "    Z-scores, in the same shape as `scores`.\n",
       "\n",
       "Notes\n",
       "-----\n",
       "This function preserves ndarray subclasses, and works also with\n",
       "matrices and masked arrays (it uses `asanyarray` instead of\n",
       "`asarray` for parameters).\n",
       "\n",
       "Examples\n",
       "--------\n",
       ">>> from scipy.stats import zmap\n",
       ">>> a = [0.5, 2.0, 2.5, 3]\n",
       ">>> b = [0, 1, 2, 3, 4]\n",
       ">>> zmap(a, b)\n",
       "array([-1.06066017,  0.        ,  0.35355339,  0.70710678])\n",
       "\u001b[0;31mFile:\u001b[0m      ~/miniconda3/envs/analysis/lib/python3.8/site-packages/scipy/stats/stats.py\n",
       "\u001b[0;31mType:\u001b[0m      function\n"
      ]
     },
     "metadata": {},
     "output_type": "display_data"
    }
   ],
   "source": [
    "# Let's view the documentation for the stats.zmap() function!\n",
    "?stats.zmap"
   ]
  },
  {
   "cell_type": "markdown",
   "metadata": {},
   "source": [
    "### Using the `stats.zmap()` and `stats.norm.cdf()` Functions to Calculate the Probability that a Randomly-Selected Penguin's Bill Length is Longer than 55 mm\n",
    "\n",
    "Now that we've figured out how to use the `stats.zmap()` function, let's use it to solve our question about the bill lengths of penguins! "
   ]
  },
  {
   "cell_type": "code",
   "execution_count": 31,
   "metadata": {},
   "outputs": [
    {
     "name": "stdout",
     "output_type": "stream",
     "text": [
      "Our Z-score is: [2.01580553]\n"
     ]
    }
   ],
   "source": [
    "# The first parameter is for samples you want to calculate the scores for\n",
    "# The second parameter is the reference input to calculate sample z-scores\n",
    "my_zscore = stats.zmap(55, penguins[\"bill_length_mm\"])  \n",
    "\n",
    "print(f\"Our Z-score is: {my_zscore}\")"
   ]
  },
  {
   "cell_type": "markdown",
   "metadata": {},
   "source": [
    "Finally, we can convert this Z-score to a **one-tailed P-value** with the `stats.norm.cdf()` function! \n",
    "\n",
    "<div class=\"alert alert-block alert-info\">\n",
    "    <p>Remember, we are asking for the  probability that a randomly selected penguin's bill length is <strong>longer</strong> than 55 mm. The <code>stats.norm.cdf()</code> function always gives the area under the curve to the <code>left</code> of the score.</p>\n",
    "</div>"
   ]
  },
  {
   "cell_type": "code",
   "execution_count": 32,
   "metadata": {},
   "outputs": [
    {
     "name": "stdout",
     "output_type": "stream",
     "text": [
      "Our calculated P-value is: [0.02191016]\n"
     ]
    }
   ],
   "source": [
    "p_value = 1 - stats.norm.cdf(my_zscore)\n",
    "print(f\"Our calculated P-value is: {p_value}\")"
   ]
  }
 ],
 "metadata": {
  "kernelspec": {
   "display_name": "Python 3",
   "language": "python",
   "name": "python3"
  },
  "language_info": {
   "codemirror_mode": {
    "name": "ipython",
    "version": 3
   },
   "file_extension": ".py",
   "mimetype": "text/x-python",
   "name": "python",
   "nbconvert_exporter": "python",
   "pygments_lexer": "ipython3",
   "version": "3.8.5"
  },
  "toc-autonumbering": true
 },
 "nbformat": 4,
 "nbformat_minor": 4
}
