{
 "cells": [
  {
   "cell_type": "markdown",
   "metadata": {},
   "source": [
    "\n",
    "power analysis\n",
    "\n",
    "4 metrics to consider:\n",
    "- significance level\n",
    "- effect size\n",
    "- power\n",
    "- sample size\n",
    "\n",
    "power analysis = determining the value of one metric given values for the other three\n",
    "- we have seen significance level (p-values), and sample size (number of samples)\n",
    "\n",
    "effect size\n",
    "- small, medium, large = 0.2, 0.5, 0.8 (Cohen's d) \n",
    "\n",
    "define power, type1 and type2 errors\n",
    "- Power = P(reject H0 | H1 is true) = 1 - P(fail to reject H0 | H0 is false)\n",
    "- common to design experiments with 80% power -> 20% probability of of committing a Type II error\n",
    "\n",
    "\n",
    "multiple hypothesis correction\n",
    "\n"
   ]
  }
 ],
 "metadata": {
  "kernelspec": {
   "display_name": "Python [conda env:stats-module]",
   "language": "python",
   "name": "conda-env-stats-module-py"
  },
  "language_info": {
   "codemirror_mode": {
    "name": "ipython",
    "version": 3
   },
   "file_extension": ".py",
   "mimetype": "text/x-python",
   "name": "python",
   "nbconvert_exporter": "python",
   "pygments_lexer": "ipython3",
   "version": "3.7.9"
  }
 },
 "nbformat": 4,
 "nbformat_minor": 4
}
